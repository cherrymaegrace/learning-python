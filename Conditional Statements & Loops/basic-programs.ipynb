{
 "cells": [
  {
   "cell_type": "code",
   "execution_count": 1,
   "id": "c0949361",
   "metadata": {},
   "outputs": [
    {
     "name": "stdout",
     "output_type": "stream",
     "text": [
      "Enter monthly salary: 50000\n",
      "Enter monthly expenses: 25000\n",
      "Your monthly savings is 25000.\n"
     ]
    }
   ],
   "source": [
    "salary = int(input(\"Enter monthly salary: \"))\n",
    "expenses = int(input(\"Enter monthly expenses: \"))\n",
    "\n",
    "savings = salary - expenses\n",
    "\n",
    "print(\"Your monthly savings is %s.\" %(savings))"
   ]
  },
  {
   "cell_type": "code",
   "execution_count": 2,
   "id": "e67fa538",
   "metadata": {},
   "outputs": [
    {
     "name": "stdout",
     "output_type": "stream",
     "text": [
      "Enter first number: 21\n",
      "Enter second number: 7\n",
      "Exchanging numbers...\n",
      "First number:  7\n",
      "Second number:  21\n"
     ]
    }
   ],
   "source": [
    "first_num = int(input(\"Enter first number: \"))\n",
    "second_num = int(input(\"Enter second number: \"))\n",
    "\n",
    "print(\"Exchanging numbers...\")\n",
    "first_num = first_num + second_num\n",
    "second_num = first_num - second_num\n",
    "first_num = first_num - second_num\n",
    "\n",
    "\n",
    "print(\"First number: \", first_num)\n",
    "print(\"Second number: \", second_num)"
   ]
  },
  {
   "cell_type": "code",
   "execution_count": 3,
   "id": "7a1dde54",
   "metadata": {},
   "outputs": [
    {
     "name": "stdout",
     "output_type": "stream",
     "text": [
      "Enter a number: 2\n",
      "Total:  246\n"
     ]
    }
   ],
   "source": [
    "num = int(input(\"Enter a number: \"))\n",
    "\n",
    "n = str(num)\n",
    "nn = int(n+n) #concatenate n twice then convert to int \n",
    "nnn = int(n+n+n)\n",
    "\n",
    "total = num + nn + nnn\n",
    "\n",
    "print(\"Total: \", total)\n",
    "\n"
   ]
  },
  {
   "cell_type": "code",
   "execution_count": 9,
   "id": "e11deadd",
   "metadata": {},
   "outputs": [
    {
     "name": "stdout",
     "output_type": "stream",
     "text": [
      "Enter first number: 13\n",
      "Enter second number: 4\n",
      "3\n",
      "1\n"
     ]
    }
   ],
   "source": [
    "num1 = int(input(\"Enter first number: \" ))\n",
    "num2 = int(input(\"Enter second number: \" ))\n",
    "\n",
    "quotient = num1 // num2\n",
    "remainder = num1 % num2\n",
    "\n",
    "print(quotient)\n",
    "print(remainder)"
   ]
  },
  {
   "cell_type": "code",
   "execution_count": 12,
   "id": "fc658c50",
   "metadata": {},
   "outputs": [
    {
     "name": "stdout",
     "output_type": "stream",
     "text": [
      "Enter principal amount: 800\n",
      "Enter time (years): 6\n",
      "Enter interest rate: 0.03\n",
      "144.0\n"
     ]
    }
   ],
   "source": [
    "principal = float(input(\"Enter principal amount: \"))\n",
    "time = int(input(\"Enter time (years): \"))\n",
    "rate = float(input(\"Enter interest rate: \"))\n",
    "\n",
    "interest = principal * rate * time\n",
    "print(interest)"
   ]
  },
  {
   "cell_type": "code",
   "execution_count": 17,
   "id": "4e08bf15",
   "metadata": {},
   "outputs": [
    {
     "data": {
      "text/plain": [
       "['Honda Civic', 'Honda Accord', 'Toyota Camry', 'Toyota Corolla']"
      ]
     },
     "execution_count": 17,
     "metadata": {},
     "output_type": "execute_result"
    }
   ],
   "source": [
    "cars_list = [\"Toyota Camry\", \"Honda Accord\", \"Honda Civic\", \"Toyota Corolla\"]\n",
    "\n",
    "cars_list_temp = cars_list[0]\n",
    "cars_list[0] = cars_list[2]\n",
    "cars_list[2] = cars_list_temp\n",
    "\n",
    "cars_list"
   ]
  },
  {
   "cell_type": "code",
   "execution_count": 18,
   "id": "5f74ec99",
   "metadata": {},
   "outputs": [
    {
     "name": "stdout",
     "output_type": "stream",
     "text": [
      "Before:  ['Toyota Camry', 'Honda Accord', 'Honda Civic', 'Toyota Corolla']\n",
      "After:  ['Honda Civic', 'Honda Accord', 'Toyota Camry', 'Toyota Corolla']\n"
     ]
    }
   ],
   "source": [
    "cars_list = [\"Toyota Camry\", \"Honda Accord\", \"Honda Civic\", \"Toyota Corolla\"]\n",
    "print(\"Before: \", cars_list)\n",
    "\n",
    "camry = 0\n",
    "civic = 2\n",
    "\n",
    "cars_list[civic], cars_list[camry] = cars_list[camry], cars_list[civic]\n",
    "\n",
    "print(\"After: \", cars_list)"
   ]
  },
  {
   "cell_type": "code",
   "execution_count": 19,
   "id": "2ee4aadb",
   "metadata": {},
   "outputs": [
    {
     "name": "stdout",
     "output_type": "stream",
     "text": [
      "Number of duplicates:  2\n"
     ]
    }
   ],
   "source": [
    "list_student = [\"Sofia\", \"Ella\", \"Samuel\", \"Ella\", \"Aiden\", \"Sofia\"]\n",
    "og_list = len(list_student)\n",
    "\n",
    "set_student = set(list_student)\n",
    "new_list = len(set_student)\n",
    "\n",
    "print(\"Number of duplicates: \", og_list - new_list)"
   ]
  },
  {
   "cell_type": "code",
   "execution_count": 20,
   "id": "d1d853c8",
   "metadata": {},
   "outputs": [
    {
     "name": "stdout",
     "output_type": "stream",
     "text": [
      "The number is an even number.\n"
     ]
    }
   ],
   "source": [
    "num_value = 50\n",
    "\n",
    "if num_value % 2 == 0:\n",
    "    print(\"The number is an even number.\")\n",
    "\n",
    "else:\n",
    "    print(\"The number is an odd number.\")"
   ]
  },
  {
   "cell_type": "code",
   "execution_count": 22,
   "id": "4a4f5cba",
   "metadata": {},
   "outputs": [
    {
     "name": "stdout",
     "output_type": "stream",
     "text": [
      "Enter some comma-separated numbers: 10,20,30,40,50\n",
      "List:  ['10', '20', '30', '40', '50']\n",
      "Tuple:  ('10', '20', '30', '40', '50')\n"
     ]
    }
   ],
   "source": [
    "values = input(\"Enter some comma-separated numbers: \")\n",
    "\n",
    "list_value = values.split(\",\")\n",
    "tuple_value = tuple(list_value)\n",
    "\n",
    "print(\"List: \", list_value)\n",
    "print(\"Tuple: \", tuple_value)"
   ]
  },
  {
   "cell_type": "code",
   "execution_count": 25,
   "id": "7bb6ad9f",
   "metadata": {},
   "outputs": [
    {
     "name": "stdout",
     "output_type": "stream",
     "text": [
      "Enter some whitespace-separated words: Apple apple Banana banana\n",
      "Apple Banana apple banana\n"
     ]
    }
   ],
   "source": [
    "sentence = input(\"Enter some whitespace-separated words: \")\n",
    "\n",
    "words = sentence.split(\" \")\n",
    "\n",
    "sorted_words = sorted(set(words))\n",
    "\n",
    "set_words = \" \".join(sorted_words)\n",
    "\n",
    "print(set_words)"
   ]
  },
  {
   "cell_type": "code",
   "execution_count": 26,
   "id": "3fcbae9e",
   "metadata": {},
   "outputs": [
    {
     "data": {
      "text/plain": [
       "{1: 1, 2: 4, 3: 9}"
      ]
     },
     "execution_count": 26,
     "metadata": {},
     "output_type": "execute_result"
    }
   ],
   "source": [
    "num_dict = dict()\n",
    "\n",
    "num_dict[1] = 1 \n",
    "num_dict[2] = 2 ** 2\n",
    "num_dict[3] = 3 ** 2\n",
    "\n",
    "num_dict"
   ]
  },
  {
   "cell_type": "code",
   "execution_count": 31,
   "id": "2d1dd0af",
   "metadata": {},
   "outputs": [
    {
     "name": "stdout",
     "output_type": "stream",
     "text": [
      "Enter first string: hello\n",
      "Enter second string: python\n",
      "['h', 'o']\n"
     ]
    }
   ],
   "source": [
    "string_1 = input(\"Enter first string: \")\n",
    "string_2 = input(\"Enter second string: \")\n",
    "\n",
    "set_1 = set(string_1)\n",
    "set_2 = set(string_2)\n",
    "\n",
    "common_char = set_1.intersection(set_2)\n",
    "\n",
    "print(list(common_char))"
   ]
  },
  {
   "cell_type": "code",
   "execution_count": 33,
   "id": "c89a86a4",
   "metadata": {},
   "outputs": [
    {
     "name": "stdout",
     "output_type": "stream",
     "text": [
      "[10, 11, 12, 13, 14, 15]\n",
      "[16, 17, 18, 19, 20, 21]\n"
     ]
    }
   ],
   "source": [
    "list_num = [10, 11, 12, 13, 14, 15, 16, 17, 18, 19, 20, 21]\n",
    "\n",
    "len_of_list = len(list_num)\n",
    "\n",
    "half = int(len_of_list/2)\n",
    "\n",
    "list_num1 = list_num[:half]\n",
    "list_num2 = list_num[half:]\n",
    "\n",
    "print(list_num1)\n",
    "print(list_num2)"
   ]
  },
  {
   "cell_type": "code",
   "execution_count": 38,
   "id": "ec2982c6",
   "metadata": {},
   "outputs": [
    {
     "name": "stdout",
     "output_type": "stream",
     "text": [
      "Enter a number: -12\n",
      "Number is negative.\n"
     ]
    }
   ],
   "source": [
    "num = float(input(\"Enter a number: \"))\n",
    "\n",
    "if num == 0:\n",
    "    print(\"Number is zero.\")\n",
    "    \n",
    "elif num > 0:\n",
    "    print(\"Number is positive.\")\n",
    "    \n",
    "else:\n",
    "    print(\"Number is negative.\")"
   ]
  },
  {
   "cell_type": "code",
   "execution_count": 43,
   "id": "dd20be09",
   "metadata": {},
   "outputs": [
    {
     "name": "stdout",
     "output_type": "stream",
     "text": [
      "Enter your first number: 27\n",
      "Enter your second number: 12\n",
      "Operator: *\n",
      "27.0 * 12.0 = 324.0\n"
     ]
    }
   ],
   "source": [
    "num1 = float(input(\"Enter your first number: \"))\n",
    "num2 = float(input(\"Enter your second number: \"))\n",
    "operator = input(\"Operator: \")\n",
    "\n",
    "if operator == \"+\":\n",
    "    print (f\"{num1} + {num2} = {num1 + num2}\")\n",
    "elif operator == \"-\":\n",
    "    print (f\"{num1} - {num2} = {num1 - num2}\")\n",
    "elif operator == \"*\":\n",
    "    print (f\"{num1} * {num2} = {num1 * num2}\")\n",
    "elif operator == \"/\":\n",
    "    print (f\"{num1} / {num2} = {num1 / num2}\")\n",
    "else:\n",
    "    print(\"This is not a valid operator.\")\n",
    "\n",
    "    "
   ]
  },
  {
   "cell_type": "code",
   "execution_count": 47,
   "id": "181360d4",
   "metadata": {},
   "outputs": [
    {
     "name": "stdout",
     "output_type": "stream",
     "text": [
      "Enter dog's age in human years: 3\n",
      "Dog age: 25.0\n"
     ]
    }
   ],
   "source": [
    "human_age = int(input(\"Enter dog's age in human years: \"))\n",
    "\n",
    "if human_age <= 2 and human_age > 0:\n",
    "    dog_age = human_age * 10.5\n",
    "    print(f\"Dog age: {dog_age}\")\n",
    "    \n",
    "elif human_age > 2:\n",
    "    dog_age = (2 * 10.5) + ((human_age - 2) * 4)\n",
    "    print(f\"Dog age: {dog_age}\")\n",
    "\n",
    "else:\n",
    "    print(\"Age must be a positive number.\")"
   ]
  },
  {
   "cell_type": "code",
   "execution_count": 51,
   "id": "8a51ab9a",
   "metadata": {},
   "outputs": [
    {
     "name": "stdout",
     "output_type": "stream",
     "text": [
      "Enter a letter: n\n",
      "Letter is a consonant.\n"
     ]
    }
   ],
   "source": [
    "alphabet = input(\"Enter a letter: \")\n",
    "\n",
    "if alphabet.lower() in [\"a\", \"e\", \"i\", \"o\", \"u\"]:\n",
    "    print(\"Letter is a vowel.\")\n",
    "\n",
    "else:\n",
    "    print(\"Letter is a consonant.\")"
   ]
  },
  {
   "cell_type": "code",
   "execution_count": 53,
   "id": "e3eb9b5b",
   "metadata": {},
   "outputs": [
    {
     "name": "stdout",
     "output_type": "stream",
     "text": [
      "a: 10\n",
      "b: 12\n",
      "c: 14\n",
      "Scalene triangle\n"
     ]
    }
   ],
   "source": [
    "a = int(input(\"a: \"))\n",
    "b = int(input(\"b: \"))\n",
    "c = int(input(\"c: \"))\n",
    "\n",
    "if a == b == c:\n",
    "    print(\"Equilateral triangle\")\n",
    "\n",
    "elif a == b or a == c or b == c:\n",
    "    print(\"Isosceles triangle\")\n",
    "    \n",
    "else:\n",
    "    print(\"Scalene triangle\")"
   ]
  },
  {
   "cell_type": "code",
   "execution_count": 58,
   "id": "6c9af4b8",
   "metadata": {},
   "outputs": [
    {
     "name": "stdout",
     "output_type": "stream",
     "text": [
      "Enter the string: madam\n",
      "madam\n",
      "madam\n",
      "Palindrome!\n"
     ]
    }
   ],
   "source": [
    "str_value = input(\"Enter the string: \")\n",
    "print(str_value)\n",
    "rev_str = str_value[::-1]\n",
    "print(rev_str)\n",
    "\n",
    "if str_value == rev_str:\n",
    "    print(\"Palindrome!\")\n",
    "\n",
    "else:\n",
    "    print(\"Not a palindrome.\")"
   ]
  },
  {
   "cell_type": "code",
   "execution_count": null,
   "id": "91677219",
   "metadata": {},
   "outputs": [],
   "source": []
  }
 ],
 "metadata": {
  "kernelspec": {
   "display_name": "Python 3 (ipykernel)",
   "language": "python",
   "name": "python3"
  },
  "language_info": {
   "codemirror_mode": {
    "name": "ipython",
    "version": 3
   },
   "file_extension": ".py",
   "mimetype": "text/x-python",
   "name": "python",
   "nbconvert_exporter": "python",
   "pygments_lexer": "ipython3",
   "version": "3.9.12"
  }
 },
 "nbformat": 4,
 "nbformat_minor": 5
}
