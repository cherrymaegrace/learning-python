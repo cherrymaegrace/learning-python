{
 "cells": [
  {
   "cell_type": "code",
   "execution_count": 1,
   "id": "79482c62",
   "metadata": {},
   "outputs": [],
   "source": [
    "fruit_list = [\"apple\", \"orange\", \"grape\", \"banana\", \"avocado\"]"
   ]
  },
  {
   "cell_type": "code",
   "execution_count": 2,
   "id": "e90b7714",
   "metadata": {},
   "outputs": [
    {
     "name": "stdout",
     "output_type": "stream",
     "text": [
      "Yes, grape is in the fruit list.\n"
     ]
    }
   ],
   "source": [
    "if \"grape\" in fruit_list:\n",
    "    print(\"Yes, grape is in the fruit list.\")\n",
    "    \n",
    "else:\n",
    "    print(\"No, grape is not in the fruit list.\")"
   ]
  },
  {
   "cell_type": "code",
   "execution_count": 3,
   "id": "44bd8bfd",
   "metadata": {},
   "outputs": [
    {
     "name": "stdout",
     "output_type": "stream",
     "text": [
      "True\n"
     ]
    }
   ],
   "source": [
    "if fruit_list[1] == \"orange\":\n",
    "    print(\"True\")\n",
    "\n",
    "else:\n",
    "    print(\"False\")"
   ]
  },
  {
   "cell_type": "code",
   "execution_count": 4,
   "id": "32e5cbd9",
   "metadata": {},
   "outputs": [
    {
     "name": "stdout",
     "output_type": "stream",
     "text": [
      "Yes, avocado is at the fourth index.\n",
      "Replacing avocado with strawberry\n",
      "['apple', 'orange', 'grape', 'banana', 'strawberry']\n"
     ]
    }
   ],
   "source": [
    "if fruit_list[4] == \"avocado\":\n",
    "    print(\"Yes, avocado is at the fourth index.\")\n",
    "    print(\"Replacing avocado with strawberry\")\n",
    "    fruit_list[4] = \"strawberry\"\n",
    "    print(fruit_list)\n",
    "\n",
    "else:\n",
    "    print(\"Avocado is not at the fourth index.\")"
   ]
  },
  {
   "cell_type": "code",
   "execution_count": 5,
   "id": "6658abe4",
   "metadata": {},
   "outputs": [],
   "source": [
    "salary_details ={\"Lisa\": 25000,\n",
    "                 \"Jason\": 45000,\n",
    "                 \"Cooper\": 35000,\n",
    "                 \"Elias\": 23000,\n",
    "                 \"Jordan\": 77000}"
   ]
  },
  {
   "cell_type": "code",
   "execution_count": 6,
   "id": "76c38182",
   "metadata": {},
   "outputs": [
    {
     "name": "stdout",
     "output_type": "stream",
     "text": [
      "Yes, Lisa is a key.\n"
     ]
    }
   ],
   "source": [
    "if \"Lisa\" in salary_details.keys():\n",
    "    print(\"Yes, Lisa is a key.\")\n",
    "    \n",
    "else:\n",
    "    print(\"No, Lisa is not a key.\")"
   ]
  },
  {
   "cell_type": "code",
   "execution_count": 7,
   "id": "9e3332ca",
   "metadata": {},
   "outputs": [
    {
     "name": "stdout",
     "output_type": "stream",
     "text": [
      "Cora's salary is  31000 .\n",
      "{'Lisa': 25000, 'Jason': 45000, 'Cooper': 35000, 'Elias': 23000, 'Jordan': 77000, 'Cora': 31000}\n"
     ]
    }
   ],
   "source": [
    "if \"Cora\" in salary_details.keys():\n",
    "    print(\"We have the salary details for Cora\")\n",
    "    \n",
    "else:\n",
    "    salary_details[\"Cora\"] = 31000\n",
    "    print(\"Cora's salary is \", salary_details[\"Cora\"],\".\" )\n",
    "    print(salary_details)"
   ]
  },
  {
   "cell_type": "code",
   "execution_count": 8,
   "id": "bd507147",
   "metadata": {},
   "outputs": [],
   "source": [
    "details = [[\"Jane\", \"Amanda\", \"Emma\"],\n",
    "          [35, 40, 50],\n",
    "          [20000, 50000, 40000]]"
   ]
  },
  {
   "cell_type": "code",
   "execution_count": 9,
   "id": "7408bcbb",
   "metadata": {},
   "outputs": [
    {
     "name": "stdout",
     "output_type": "stream",
     "text": [
      "Amanda has the highest salary and her age is greater than 30.\n"
     ]
    }
   ],
   "source": [
    "max_sal = max(details[2])\n",
    "\n",
    "if (details[2][1] == max_sal):\n",
    "    if (details[1][1] > 30):\n",
    "        print(details[0][1], \"has the highest salary and her age is greater than 30.\")\n",
    "    \n",
    "    elif (details[1][1] == 30):\n",
    "        print(details[0][1], \"has the highest salary and her age is 30.\")\n",
    "        \n",
    "    else:\n",
    "        print(\"Amanda has the highest salary and her age is less than 30.\")\n",
    "else:\n",
    "    print(\"Amanda is not the highest paid employee.\")"
   ]
  },
  {
   "cell_type": "code",
   "execution_count": null,
   "id": "cccda43c",
   "metadata": {},
   "outputs": [],
   "source": []
  }
 ],
 "metadata": {
  "kernelspec": {
   "display_name": "Python 3 (ipykernel)",
   "language": "python",
   "name": "python3"
  },
  "language_info": {
   "codemirror_mode": {
    "name": "ipython",
    "version": 3
   },
   "file_extension": ".py",
   "mimetype": "text/x-python",
   "name": "python",
   "nbconvert_exporter": "python",
   "pygments_lexer": "ipython3",
   "version": "3.9.12"
  }
 },
 "nbformat": 4,
 "nbformat_minor": 5
}
