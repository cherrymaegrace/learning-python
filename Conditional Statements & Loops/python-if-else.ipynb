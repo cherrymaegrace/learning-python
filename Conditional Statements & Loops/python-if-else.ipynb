{
 "cells": [
  {
   "cell_type": "code",
   "execution_count": 1,
   "id": "ac5990d3",
   "metadata": {},
   "outputs": [
    {
     "name": "stdout",
     "output_type": "stream",
     "text": [
      "10 is less than 15\n"
     ]
    }
   ],
   "source": [
    "if 10 < 15:\n",
    "    print(\"10 is less than 15\")"
   ]
  },
  {
   "cell_type": "code",
   "execution_count": 2,
   "id": "5c0de727",
   "metadata": {},
   "outputs": [
    {
     "name": "stdout",
     "output_type": "stream",
     "text": [
      "46 is greater than 45\n"
     ]
    }
   ],
   "source": [
    "if 46 > 40 + 5:\n",
    "    print(\"46 is greater than 45\")"
   ]
  },
  {
   "cell_type": "code",
   "execution_count": 3,
   "id": "15c2681b",
   "metadata": {},
   "outputs": [],
   "source": [
    "x_value = 65\n",
    "y_value = 25"
   ]
  },
  {
   "cell_type": "code",
   "execution_count": 4,
   "id": "59b4397e",
   "metadata": {},
   "outputs": [
    {
     "name": "stdout",
     "output_type": "stream",
     "text": [
      "Value of x is greater than the value of y\n"
     ]
    }
   ],
   "source": [
    "if x_value > y_value:\n",
    "    print(\"Value of x is greater than the value of y\")"
   ]
  },
  {
   "cell_type": "code",
   "execution_count": 5,
   "id": "722fb5c2",
   "metadata": {},
   "outputs": [
    {
     "name": "stdout",
     "output_type": "stream",
     "text": [
      "Yes, 'python' is in my_string\n"
     ]
    }
   ],
   "source": [
    "my_string = \"Hello python world\"\n",
    "\n",
    "if \"python\" in my_string:\n",
    "    print(\"Yes, 'python' is in my_string\")"
   ]
  },
  {
   "cell_type": "code",
   "execution_count": 6,
   "id": "042f356d",
   "metadata": {},
   "outputs": [],
   "source": [
    "if \"pythonworld\" in my_string:\n",
    "    print(\"Yes, 'pythonworld' is in my_string\")"
   ]
  },
  {
   "cell_type": "code",
   "execution_count": 7,
   "id": "968dd26e",
   "metadata": {},
   "outputs": [
    {
     "name": "stdout",
     "output_type": "stream",
     "text": [
      "Yes, 'python world' is in my_string\n"
     ]
    }
   ],
   "source": [
    "if \"python world\" in my_string:\n",
    "    print(\"Yes, 'python world' is in my_string\")"
   ]
  },
  {
   "cell_type": "code",
   "execution_count": 8,
   "id": "a11bb42b",
   "metadata": {},
   "outputs": [],
   "source": [
    "if \"Python World\" in my_string:\n",
    "    print(\"Yes, 'Python World' is in my_string\")"
   ]
  },
  {
   "cell_type": "code",
   "execution_count": 9,
   "id": "9c810b94",
   "metadata": {},
   "outputs": [
    {
     "name": "stdout",
     "output_type": "stream",
     "text": [
      "Jose is a student.\n"
     ]
    }
   ],
   "source": [
    "list_student = [\"Ayden\", \"Gavin\", \"Ian\", \"Jose\", \"Jane\"]\n",
    "\n",
    "if \"Jose\" in list_student:\n",
    "    print(\"Jose is a student.\")"
   ]
  },
  {
   "cell_type": "code",
   "execution_count": 10,
   "id": "d3df802c",
   "metadata": {},
   "outputs": [],
   "source": [
    "if \"Ava\" in list_student:\n",
    "    print(\"Ava is a student.\")"
   ]
  },
  {
   "cell_type": "code",
   "execution_count": 11,
   "id": "fced6c5d",
   "metadata": {},
   "outputs": [
    {
     "name": "stdout",
     "output_type": "stream",
     "text": [
      "Alexa is a teacher.\n"
     ]
    }
   ],
   "source": [
    "tuple_teachers = \"Alice\", \"Alexa\", \"Robert\", \"Bella\"\n",
    "\n",
    "if \"Alexa\" in tuple_teachers:\n",
    "    print(\"Alexa is a teacher.\")"
   ]
  },
  {
   "cell_type": "code",
   "execution_count": 12,
   "id": "80e20eee",
   "metadata": {},
   "outputs": [
    {
     "name": "stdout",
     "output_type": "stream",
     "text": [
      "Ian is a student.\n"
     ]
    }
   ],
   "source": [
    "student_score = {\"Ayden\": 60, \"Gavin\": 85, \"Ian\": 76, \"Jose\": 70, \"Jane\": 82}\n",
    "\n",
    "if \"Ian\" in student_score:\n",
    "    print(\"Ian is a student.\")"
   ]
  },
  {
   "cell_type": "code",
   "execution_count": 15,
   "id": "5c214fa8",
   "metadata": {},
   "outputs": [
    {
     "name": "stdout",
     "output_type": "stream",
     "text": [
      "Jane's score: 82\n"
     ]
    }
   ],
   "source": [
    "if \"Jane\" in student_score:\n",
    "    score = student_score[\"Jane\"]\n",
    "    print(f\"Jane's score: {score}\")"
   ]
  },
  {
   "cell_type": "code",
   "execution_count": 16,
   "id": "7f8b6d69",
   "metadata": {},
   "outputs": [
    {
     "name": "stdout",
     "output_type": "stream",
     "text": [
      "At least one of the above conditions is true\n"
     ]
    }
   ],
   "source": [
    "bike_price = 716\n",
    "bike_is_electric = False\n",
    "\n",
    "if bike_price > 500 or bike_is_electric:\n",
    "    print(\"At least one of the above conditions is true\")"
   ]
  },
  {
   "cell_type": "code",
   "execution_count": 17,
   "id": "7de9b2c8",
   "metadata": {},
   "outputs": [],
   "source": [
    "if bike_price > 500 and bike_is_electric:\n",
    "    print(\"At least one of the above conditions is true\")"
   ]
  },
  {
   "cell_type": "code",
   "execution_count": 18,
   "id": "b0d9a8c5",
   "metadata": {},
   "outputs": [
    {
     "name": "stdout",
     "output_type": "stream",
     "text": [
      "At least one of the above conditions is true\n"
     ]
    }
   ],
   "source": [
    "if not(bike_price > 1000 and bike_is_electric):\n",
    "    print(\"At least one of the above conditions is true\")"
   ]
  },
  {
   "cell_type": "code",
   "execution_count": 19,
   "id": "5bd50773",
   "metadata": {},
   "outputs": [
    {
     "name": "stdout",
     "output_type": "stream",
     "text": [
      "This is a cheap bike.\n"
     ]
    }
   ],
   "source": [
    "if bike_price <= 8000:\n",
    "    print(\"This is a cheap bike.\")\n",
    "else:\n",
    "    print(\"This is an expensive bike.\")"
   ]
  },
  {
   "cell_type": "markdown",
   "id": "9624e134",
   "metadata": {},
   "source": [
    "#### Ternary Operator\n",
    "It simply allows testing a condition in a single line replacing the multiline if-else making the code compact."
   ]
  },
  {
   "cell_type": "code",
   "execution_count": 21,
   "id": "8a1c7e93",
   "metadata": {},
   "outputs": [
    {
     "name": "stdout",
     "output_type": "stream",
     "text": [
      "num before expression:  50\n",
      "num after expression:  30\n"
     ]
    }
   ],
   "source": [
    "num = 50\n",
    "print(\"num before expression: \", num)\n",
    "\n",
    "num = num - 20 if num > 20 else num + 20\n",
    "print(\"num after expression: \", num)"
   ]
  },
  {
   "cell_type": "code",
   "execution_count": 22,
   "id": "82afa2b4",
   "metadata": {},
   "outputs": [
    {
     "name": "stdout",
     "output_type": "stream",
     "text": [
      "15 is less than 20\n"
     ]
    }
   ],
   "source": [
    "if 15 > 20:\n",
    "    print(\"15 is greater than 20\")\n",
    "\n",
    "elif 15 < 20:\n",
    "    print(\"15 is less than 20\")\n",
    "    \n",
    "else:\n",
    "    print(\"Both are equal.\")"
   ]
  },
  {
   "cell_type": "code",
   "execution_count": 1,
   "id": "d41db3fb",
   "metadata": {},
   "outputs": [],
   "source": [
    "bike_price = 20000"
   ]
  },
  {
   "cell_type": "code",
   "execution_count": 2,
   "id": "b1bfd0c1",
   "metadata": {},
   "outputs": [
    {
     "name": "stdout",
     "output_type": "stream",
     "text": [
      "It's a somewhat expensive bike.\n"
     ]
    }
   ],
   "source": [
    "if bike_price < 6000:\n",
    "    print(\"It's a cheap bike.\")\n",
    "elif bike_price >= 6000 and bike_price < 10000:\n",
    "    print(\"It's a moderately priced bike.\")\n",
    "elif bike_price >= 10000:\n",
    "    print(\"It's a somewhat expensive bike.\")\n",
    "elif bike_price >= 20000:\n",
    "    print(\"It's a very expensive bike.\")"
   ]
  },
  {
   "cell_type": "code",
   "execution_count": 3,
   "id": "4292fcee",
   "metadata": {},
   "outputs": [],
   "source": [
    "x = 25\n",
    "y = 35\n",
    "z = 45"
   ]
  },
  {
   "cell_type": "code",
   "execution_count": 4,
   "id": "4f3deb9b",
   "metadata": {},
   "outputs": [
    {
     "name": "stdout",
     "output_type": "stream",
     "text": [
      "The first condition is true\n",
      "Both conditions are true\n"
     ]
    }
   ],
   "source": [
    "if x < y:\n",
    "    print(\"The first condition is true\")\n",
    "    \n",
    "    if x < z:\n",
    "        print(\"Both conditions are true\")\n",
    "    \n",
    "    else:\n",
    "        print(\"The first condition is true, the second one is false\")"
   ]
  },
  {
   "cell_type": "code",
   "execution_count": 5,
   "id": "44eaab79",
   "metadata": {},
   "outputs": [
    {
     "name": "stdout",
     "output_type": "stream",
     "text": [
      "The first condition is false\n"
     ]
    }
   ],
   "source": [
    "x = 55\n",
    "\n",
    "if x < y:\n",
    "    print (\"The first condition is true\")\n",
    "    \n",
    "    if x < z:\n",
    "        print(\"Both conditions are true\")\n",
    "        \n",
    "    else:\n",
    "        print(\"The first condition is true, the second one is false\")\n",
    "else:\n",
    "    print(\"The first condition is false\")"
   ]
  },
  {
   "cell_type": "code",
   "execution_count": 9,
   "id": "48216997",
   "metadata": {},
   "outputs": [
    {
     "name": "stdout",
     "output_type": "stream",
     "text": [
      "Enter your age: 18\n",
      "You can join the camping trip!\n"
     ]
    }
   ],
   "source": [
    "age = int(input(\"Enter your age: \"))\n",
    "\n",
    "if age >= 15:\n",
    "    \n",
    "    if age <= 20:\n",
    "        print(\"You can join the camping trip!\")\n",
    "    \n",
    "    else:\n",
    "        print(\"You are too old for the camping trip. :(\")\n",
    "\n",
    "else:\n",
    "    print (\"You are too young for the camping trip. :(\")"
   ]
  },
  {
   "cell_type": "code",
   "execution_count": 10,
   "id": "5d898dae",
   "metadata": {},
   "outputs": [
    {
     "name": "stdout",
     "output_type": "stream",
     "text": [
      "What is the total amount of your online shopping? 40\n",
      "USA or Canada? Canada\n",
      "Shipping cost is $12.00.\n"
     ]
    }
   ],
   "source": [
    "total = int(input(\"What is the total amount of your online shopping? \"))\n",
    "country = input(\"USA or Canada? \")\n",
    "\n",
    "if country == \"USA\":\n",
    "    if total <= 50:\n",
    "        print(\"Shipping cost is $9.00.\")\n",
    "        \n",
    "    elif total <= 100:\n",
    "        print(\"Shipping cost is $6.00.\")\n",
    "        \n",
    "    else:\n",
    "        print(\"Shipping is FREE.\")\n",
    "\n",
    "if country == \"Canada\":\n",
    "    if total <= 50:\n",
    "        print(\"Shipping cost is $12.00.\")\n",
    "        \n",
    "    elif total <= 100:\n",
    "        print(\"Shipping cost is $8.00.\")\n",
    "        \n",
    "    else:\n",
    "        print(\"Shipping is FREE.\")"
   ]
  },
  {
   "cell_type": "code",
   "execution_count": null,
   "id": "0b6457c4",
   "metadata": {},
   "outputs": [],
   "source": []
  }
 ],
 "metadata": {
  "kernelspec": {
   "display_name": "Python 3 (ipykernel)",
   "language": "python",
   "name": "python3"
  },
  "language_info": {
   "codemirror_mode": {
    "name": "ipython",
    "version": 3
   },
   "file_extension": ".py",
   "mimetype": "text/x-python",
   "name": "python",
   "nbconvert_exporter": "python",
   "pygments_lexer": "ipython3",
   "version": "3.9.12"
  }
 },
 "nbformat": 4,
 "nbformat_minor": 5
}
