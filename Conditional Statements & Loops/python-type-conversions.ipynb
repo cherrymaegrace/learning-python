{
 "cells": [
  {
   "cell_type": "code",
   "execution_count": 1,
   "id": "79c7eb98",
   "metadata": {},
   "outputs": [
    {
     "data": {
      "text/plain": [
       "int"
      ]
     },
     "execution_count": 1,
     "metadata": {},
     "output_type": "execute_result"
    }
   ],
   "source": [
    "type(66)"
   ]
  },
  {
   "cell_type": "code",
   "execution_count": 2,
   "id": "1459d875",
   "metadata": {},
   "outputs": [
    {
     "data": {
      "text/plain": [
       "66.0"
      ]
     },
     "execution_count": 2,
     "metadata": {},
     "output_type": "execute_result"
    }
   ],
   "source": [
    "float(66)"
   ]
  },
  {
   "cell_type": "code",
   "execution_count": 3,
   "id": "dc38609a",
   "metadata": {},
   "outputs": [
    {
     "data": {
      "text/plain": [
       "int"
      ]
     },
     "execution_count": 3,
     "metadata": {},
     "output_type": "execute_result"
    }
   ],
   "source": [
    "a = 66\n",
    "type(a)"
   ]
  },
  {
   "cell_type": "code",
   "execution_count": 4,
   "id": "b961331c",
   "metadata": {},
   "outputs": [],
   "source": [
    "my_float = float(a)"
   ]
  },
  {
   "cell_type": "code",
   "execution_count": 5,
   "id": "8aba78e9",
   "metadata": {},
   "outputs": [
    {
     "data": {
      "text/plain": [
       "66.0"
      ]
     },
     "execution_count": 5,
     "metadata": {},
     "output_type": "execute_result"
    }
   ],
   "source": [
    "my_float"
   ]
  },
  {
   "cell_type": "code",
   "execution_count": 6,
   "id": "d4f0c8b7",
   "metadata": {},
   "outputs": [
    {
     "data": {
      "text/plain": [
       "float"
      ]
     },
     "execution_count": 6,
     "metadata": {},
     "output_type": "execute_result"
    }
   ],
   "source": [
    "type(my_float)"
   ]
  },
  {
   "cell_type": "code",
   "execution_count": 7,
   "id": "303ab4f5",
   "metadata": {},
   "outputs": [
    {
     "data": {
      "text/plain": [
       "float"
      ]
     },
     "execution_count": 7,
     "metadata": {},
     "output_type": "execute_result"
    }
   ],
   "source": [
    "type(390.8)"
   ]
  },
  {
   "cell_type": "markdown",
   "id": "db2a9089",
   "metadata": {},
   "source": [
    "float to int - rounds down and truncates at the decimal\n",
    "\n",
    "float + int = float"
   ]
  },
  {
   "cell_type": "code",
   "execution_count": 8,
   "id": "13af7a77",
   "metadata": {},
   "outputs": [
    {
     "data": {
      "text/plain": [
       "390"
      ]
     },
     "execution_count": 8,
     "metadata": {},
     "output_type": "execute_result"
    }
   ],
   "source": [
    "int(390.8)\n"
   ]
  },
  {
   "cell_type": "code",
   "execution_count": 9,
   "id": "e312c966",
   "metadata": {},
   "outputs": [
    {
     "data": {
      "text/plain": [
       "66"
      ]
     },
     "execution_count": 9,
     "metadata": {},
     "output_type": "execute_result"
    }
   ],
   "source": [
    "b = 66.6\n",
    "my_int = int(b)\n",
    "my_int"
   ]
  },
  {
   "cell_type": "code",
   "execution_count": 10,
   "id": "62c672c2",
   "metadata": {},
   "outputs": [
    {
     "name": "stdout",
     "output_type": "stream",
     "text": [
      "data type of num_int: <class 'int'>\n",
      "data type of num_float: <class 'float'>\n"
     ]
    }
   ],
   "source": [
    "num_int = 76\n",
    "num_float = 23.4\n",
    "\n",
    "print(\"data type of num_int:\", type(num_int))\n",
    "print(\"data type of num_float:\", type(num_float))"
   ]
  },
  {
   "cell_type": "code",
   "execution_count": 11,
   "id": "b056fa5a",
   "metadata": {},
   "outputs": [
    {
     "name": "stdout",
     "output_type": "stream",
     "text": [
      "99.4\n",
      "data type of new_num: <class 'float'>\n"
     ]
    }
   ],
   "source": [
    "new_num = num_int + num_float\n",
    "\n",
    "print(new_num)\n",
    "print(\"data type of new_num:\",type(new_num))"
   ]
  },
  {
   "cell_type": "code",
   "execution_count": 12,
   "id": "7591175d",
   "metadata": {},
   "outputs": [
    {
     "data": {
      "text/plain": [
       "12"
      ]
     },
     "execution_count": 12,
     "metadata": {},
     "output_type": "execute_result"
    }
   ],
   "source": [
    "int('12')"
   ]
  },
  {
   "cell_type": "code",
   "execution_count": 13,
   "id": "d3cb64d0",
   "metadata": {},
   "outputs": [
    {
     "data": {
      "text/plain": [
       "str"
      ]
     },
     "execution_count": 13,
     "metadata": {},
     "output_type": "execute_result"
    }
   ],
   "source": [
    "a = '66'\n",
    "\n",
    "type(a)"
   ]
  },
  {
   "cell_type": "code",
   "execution_count": 14,
   "id": "4c395de1",
   "metadata": {},
   "outputs": [
    {
     "data": {
      "text/plain": [
       "66"
      ]
     },
     "execution_count": 14,
     "metadata": {},
     "output_type": "execute_result"
    }
   ],
   "source": [
    "my_int = int(a)\n",
    "my_int"
   ]
  },
  {
   "cell_type": "code",
   "execution_count": 15,
   "id": "8351b322",
   "metadata": {},
   "outputs": [
    {
     "ename": "TypeError",
     "evalue": "unsupported operand type(s) for +: 'int' and 'str'",
     "output_type": "error",
     "traceback": [
      "\u001b[1;31m---------------------------------------------------------------------------\u001b[0m",
      "\u001b[1;31mTypeError\u001b[0m                                 Traceback (most recent call last)",
      "Cell \u001b[1;32mIn[15], line 4\u001b[0m\n\u001b[0;32m      1\u001b[0m num_int \u001b[38;5;241m=\u001b[39m \u001b[38;5;241m123\u001b[39m\n\u001b[0;32m      2\u001b[0m num_str \u001b[38;5;241m=\u001b[39m \u001b[38;5;124m\"\u001b[39m\u001b[38;5;124m456\u001b[39m\u001b[38;5;124m\"\u001b[39m\n\u001b[1;32m----> 4\u001b[0m \u001b[38;5;28mprint\u001b[39m(\u001b[43mnum_int\u001b[49m\u001b[43m \u001b[49m\u001b[38;5;241;43m+\u001b[39;49m\u001b[43m \u001b[49m\u001b[43mnum_str\u001b[49m)\n",
      "\u001b[1;31mTypeError\u001b[0m: unsupported operand type(s) for +: 'int' and 'str'"
     ]
    }
   ],
   "source": [
    "num_int = 123\n",
    "num_str = \"456\"\n",
    "\n",
    "print(num_int + num_str)"
   ]
  },
  {
   "cell_type": "code",
   "execution_count": 16,
   "id": "e12f4d36",
   "metadata": {},
   "outputs": [
    {
     "name": "stdout",
     "output_type": "stream",
     "text": [
      "579\n"
     ]
    }
   ],
   "source": [
    "num_str = int(num_str)\n",
    "print(num_int + num_str)"
   ]
  },
  {
   "cell_type": "code",
   "execution_count": 17,
   "id": "855c43cc",
   "metadata": {},
   "outputs": [
    {
     "ename": "TypeError",
     "evalue": "can only concatenate str (not \"float\") to str",
     "output_type": "error",
     "traceback": [
      "\u001b[1;31m---------------------------------------------------------------------------\u001b[0m",
      "\u001b[1;31mTypeError\u001b[0m                                 Traceback (most recent call last)",
      "Cell \u001b[1;32mIn[17], line 3\u001b[0m\n\u001b[0;32m      1\u001b[0m my_float \u001b[38;5;241m=\u001b[39m \u001b[38;5;241m5524.53\u001b[39m\n\u001b[1;32m----> 3\u001b[0m \u001b[38;5;28mprint\u001b[39m(\u001b[38;5;124;43m\"\u001b[39;49m\u001b[38;5;124;43mJohn has \u001b[39;49m\u001b[38;5;124;43m\"\u001b[39;49m\u001b[43m \u001b[49m\u001b[38;5;241;43m+\u001b[39;49m\u001b[43m \u001b[49m\u001b[43mmy_float\u001b[49m \u001b[38;5;241m+\u001b[39m \u001b[38;5;124m\"\u001b[39m\u001b[38;5;124m points.\u001b[39m\u001b[38;5;124m\"\u001b[39m)\n",
      "\u001b[1;31mTypeError\u001b[0m: can only concatenate str (not \"float\") to str"
     ]
    }
   ],
   "source": [
    "my_float = 5524.53\n",
    "\n",
    "print(\"John has \" + my_float + \" points.\")"
   ]
  },
  {
   "cell_type": "code",
   "execution_count": 18,
   "id": "d354ec0d",
   "metadata": {},
   "outputs": [
    {
     "name": "stdout",
     "output_type": "stream",
     "text": [
      "John has 5524.53 points.\n"
     ]
    }
   ],
   "source": [
    "print(\"John has \" + str(my_float) + \" points.\")"
   ]
  },
  {
   "cell_type": "code",
   "execution_count": 19,
   "id": "ef99d2e8",
   "metadata": {},
   "outputs": [
    {
     "name": "stdout",
     "output_type": "stream",
     "text": [
      "John has  5524.53  points.\n"
     ]
    }
   ],
   "source": [
    "print(\"John has \", my_float, \" points.\")"
   ]
  },
  {
   "cell_type": "code",
   "execution_count": 20,
   "id": "e6cdcfb0",
   "metadata": {},
   "outputs": [
    {
     "name": "stdout",
     "output_type": "stream",
     "text": [
      "22\n"
     ]
    },
    {
     "data": {
      "text/plain": [
       "str"
      ]
     },
     "execution_count": 20,
     "metadata": {},
     "output_type": "execute_result"
    }
   ],
   "source": [
    "number = input()\n",
    "type(number)"
   ]
  },
  {
   "cell_type": "code",
   "execution_count": 21,
   "id": "5b7adbda",
   "metadata": {},
   "outputs": [
    {
     "ename": "TypeError",
     "evalue": "can only concatenate str (not \"int\") to str",
     "output_type": "error",
     "traceback": [
      "\u001b[1;31m---------------------------------------------------------------------------\u001b[0m",
      "\u001b[1;31mTypeError\u001b[0m                                 Traceback (most recent call last)",
      "Cell \u001b[1;32mIn[21], line 1\u001b[0m\n\u001b[1;32m----> 1\u001b[0m plus_ten \u001b[38;5;241m=\u001b[39m \u001b[43mnumber\u001b[49m\u001b[43m \u001b[49m\u001b[38;5;241;43m+\u001b[39;49m\u001b[43m \u001b[49m\u001b[38;5;241;43m10\u001b[39;49m\n",
      "\u001b[1;31mTypeError\u001b[0m: can only concatenate str (not \"int\") to str"
     ]
    }
   ],
   "source": [
    "plus_ten = number + 10"
   ]
  },
  {
   "cell_type": "code",
   "execution_count": 24,
   "id": "a039cfb2",
   "metadata": {},
   "outputs": [
    {
     "name": "stdout",
     "output_type": "stream",
     "text": [
      "22\n",
      "Total is 32\n"
     ]
    }
   ],
   "source": [
    "number = int(input())\n",
    "plus_ten = number + 10\n",
    "print(\"Total is \" + str(plus_ten))"
   ]
  },
  {
   "cell_type": "code",
   "execution_count": 25,
   "id": "245d19d9",
   "metadata": {},
   "outputs": [
    {
     "name": "stdout",
     "output_type": "stream",
     "text": [
      "22\n",
      "Total is 32\n"
     ]
    }
   ],
   "source": [
    "number = int(input())\n",
    "plus_ten = number + 10\n",
    "print(\"Total is %s\" %(plus_ten))"
   ]
  },
  {
   "cell_type": "code",
   "execution_count": 26,
   "id": "3560cded",
   "metadata": {},
   "outputs": [
    {
     "name": "stdout",
     "output_type": "stream",
     "text": [
      "22\n",
      "Total is 32\n"
     ]
    }
   ],
   "source": [
    "number = int(input())\n",
    "plus_ten = number + 10\n",
    "print(f\"Total is {plus_ten}\")"
   ]
  },
  {
   "cell_type": "code",
   "execution_count": 29,
   "id": "eb7e51e3",
   "metadata": {},
   "outputs": [
    {
     "name": "stdout",
     "output_type": "stream",
     "text": [
      "True\n"
     ]
    }
   ],
   "source": [
    "num = 20\n",
    "\n",
    "if type(num) == int:\n",
    "    print(\"True\")"
   ]
  },
  {
   "cell_type": "code",
   "execution_count": 30,
   "id": "2010bca0",
   "metadata": {},
   "outputs": [
    {
     "data": {
      "text/plain": [
       "['p', 'y', 't', 'h', 'o', 'n', ' ', 'w', 'o', 'r', 'l', 'd']"
      ]
     },
     "execution_count": 30,
     "metadata": {},
     "output_type": "execute_result"
    }
   ],
   "source": [
    "value_str = \"python world\"\n",
    "value_list = list(value_str)\n",
    "value_list"
   ]
  },
  {
   "cell_type": "code",
   "execution_count": 31,
   "id": "cd3251be",
   "metadata": {},
   "outputs": [],
   "source": [
    "value_tup = tuple(value_str)"
   ]
  },
  {
   "cell_type": "code",
   "execution_count": 32,
   "id": "2cae5db4",
   "metadata": {},
   "outputs": [
    {
     "data": {
      "text/plain": [
       "('p', 'y', 't', 'h', 'o', 'n', ' ', 'w', 'o', 'r', 'l', 'd')"
      ]
     },
     "execution_count": 32,
     "metadata": {},
     "output_type": "execute_result"
    }
   ],
   "source": [
    "value_tup"
   ]
  },
  {
   "cell_type": "code",
   "execution_count": 35,
   "id": "d29504d2",
   "metadata": {},
   "outputs": [
    {
     "data": {
      "text/plain": [
       "{'a', 'e', 'l', 'p'}"
      ]
     },
     "execution_count": 35,
     "metadata": {},
     "output_type": "execute_result"
    }
   ],
   "source": [
    "set('apple')"
   ]
  },
  {
   "cell_type": "code",
   "execution_count": 36,
   "id": "27f5478d",
   "metadata": {},
   "outputs": [
    {
     "data": {
      "text/plain": [
       "'0x32'"
      ]
     },
     "execution_count": 36,
     "metadata": {},
     "output_type": "execute_result"
    }
   ],
   "source": [
    "hex(50)"
   ]
  },
  {
   "cell_type": "code",
   "execution_count": 37,
   "id": "5c48f1a0",
   "metadata": {},
   "outputs": [
    {
     "data": {
      "text/plain": [
       "'0x3c'"
      ]
     },
     "execution_count": 37,
     "metadata": {},
     "output_type": "execute_result"
    }
   ],
   "source": [
    "hex(60)"
   ]
  },
  {
   "cell_type": "code",
   "execution_count": 38,
   "id": "27b9eb7e",
   "metadata": {},
   "outputs": [
    {
     "data": {
      "text/plain": [
       "'0o62'"
      ]
     },
     "execution_count": 38,
     "metadata": {},
     "output_type": "execute_result"
    }
   ],
   "source": [
    "oct(50)"
   ]
  },
  {
   "cell_type": "code",
   "execution_count": 39,
   "id": "afc6ff36",
   "metadata": {},
   "outputs": [
    {
     "data": {
      "text/plain": [
       "'0o74'"
      ]
     },
     "execution_count": 39,
     "metadata": {},
     "output_type": "execute_result"
    }
   ],
   "source": [
    "oct(0x3c)"
   ]
  },
  {
   "cell_type": "code",
   "execution_count": 40,
   "id": "5f5bf259",
   "metadata": {},
   "outputs": [
    {
     "data": {
      "text/plain": [
       "60"
      ]
     },
     "execution_count": 40,
     "metadata": {},
     "output_type": "execute_result"
    }
   ],
   "source": [
    "int(0o74)"
   ]
  },
  {
   "cell_type": "code",
   "execution_count": 43,
   "id": "27f68a87",
   "metadata": {},
   "outputs": [
    {
     "data": {
      "text/plain": [
       "60"
      ]
     },
     "execution_count": 43,
     "metadata": {},
     "output_type": "execute_result"
    }
   ],
   "source": [
    "int('0o74', 8)"
   ]
  },
  {
   "cell_type": "code",
   "execution_count": 44,
   "id": "4143b8f0",
   "metadata": {},
   "outputs": [
    {
     "data": {
      "text/plain": [
       "97"
      ]
     },
     "execution_count": 44,
     "metadata": {},
     "output_type": "execute_result"
    }
   ],
   "source": [
    "ord('a')"
   ]
  },
  {
   "cell_type": "code",
   "execution_count": 45,
   "id": "c2f50347",
   "metadata": {},
   "outputs": [
    {
     "data": {
      "text/plain": [
       "'d'"
      ]
     },
     "execution_count": 45,
     "metadata": {},
     "output_type": "execute_result"
    }
   ],
   "source": [
    "chr(100)"
   ]
  },
  {
   "cell_type": "code",
   "execution_count": 46,
   "id": "783bee20",
   "metadata": {},
   "outputs": [
    {
     "data": {
      "text/plain": [
       "'a'"
      ]
     },
     "execution_count": 46,
     "metadata": {},
     "output_type": "execute_result"
    }
   ],
   "source": [
    "chr(97)"
   ]
  },
  {
   "cell_type": "code",
   "execution_count": 47,
   "id": "d1a8941f",
   "metadata": {},
   "outputs": [
    {
     "data": {
      "text/plain": [
       "1j"
      ]
     },
     "execution_count": 47,
     "metadata": {},
     "output_type": "execute_result"
    }
   ],
   "source": [
    "complex(1j)"
   ]
  },
  {
   "cell_type": "code",
   "execution_count": 48,
   "id": "d1ffb91c",
   "metadata": {},
   "outputs": [
    {
     "data": {
      "text/plain": [
       "(10+1j)"
      ]
     },
     "execution_count": 48,
     "metadata": {},
     "output_type": "execute_result"
    }
   ],
   "source": [
    "complex(10+1j)"
   ]
  },
  {
   "cell_type": "code",
   "execution_count": null,
   "id": "5fbb158f",
   "metadata": {},
   "outputs": [],
   "source": []
  }
 ],
 "metadata": {
  "kernelspec": {
   "display_name": "Python 3 (ipykernel)",
   "language": "python",
   "name": "python3"
  },
  "language_info": {
   "codemirror_mode": {
    "name": "ipython",
    "version": 3
   },
   "file_extension": ".py",
   "mimetype": "text/x-python",
   "name": "python",
   "nbconvert_exporter": "python",
   "pygments_lexer": "ipython3",
   "version": "3.9.12"
  }
 },
 "nbformat": 4,
 "nbformat_minor": 5
}
