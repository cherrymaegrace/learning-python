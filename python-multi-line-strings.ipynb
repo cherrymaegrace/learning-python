{
 "cells": [
  {
   "cell_type": "code",
   "execution_count": 1,
   "id": "ac644a59",
   "metadata": {},
   "outputs": [
    {
     "name": "stdout",
     "output_type": "stream",
     "text": [
      "I am a single quoted string.\n"
     ]
    }
   ],
   "source": [
    "print('I am a single quoted string.')"
   ]
  },
  {
   "cell_type": "code",
   "execution_count": 2,
   "id": "7acdab16",
   "metadata": {},
   "outputs": [
    {
     "name": "stdout",
     "output_type": "stream",
     "text": [
      "I am a double quoted string.\n"
     ]
    }
   ],
   "source": [
    "print(\"I am a double quoted string.\")"
   ]
  },
  {
   "cell_type": "code",
   "execution_count": 3,
   "id": "ca92b934",
   "metadata": {},
   "outputs": [
    {
     "name": "stdout",
     "output_type": "stream",
     "text": [
      "python is awesome\n"
     ]
    }
   ],
   "source": [
    "print(\"python \" + 'is ' + \"\"\"awesome\"\"\")"
   ]
  },
  {
   "cell_type": "code",
   "execution_count": 6,
   "id": "e067e484",
   "metadata": {},
   "outputs": [
    {
     "name": "stdout",
     "output_type": "stream",
     "text": [
      "shrimp\n",
      "You had shrimp. That's delicious!\n"
     ]
    }
   ],
   "source": [
    "q = \"What did you have for dinner?\"\n",
    "a = input()\n",
    "\n",
    "print(\"You had \" + a + \". That's delicious!\")"
   ]
  },
  {
   "cell_type": "code",
   "execution_count": 7,
   "id": "351c1b46",
   "metadata": {},
   "outputs": [
    {
     "name": "stdout",
     "output_type": "stream",
     "text": [
      "I'm learning python\n"
     ]
    }
   ],
   "source": [
    "print('I\\'m learning python')"
   ]
  },
  {
   "cell_type": "code",
   "execution_count": 10,
   "id": "ed5cbe65",
   "metadata": {},
   "outputs": [
    {
     "name": "stdout",
     "output_type": "stream",
     "text": [
      "Hi!\n",
      "How are you?\n"
     ]
    }
   ],
   "source": [
    "print(\"Hi!\\nHow are you?\")"
   ]
  },
  {
   "cell_type": "markdown",
   "id": "c5773da4",
   "metadata": {},
   "source": [
    "### Special characters in strings\n",
    "\n",
    "1. \\ - used to escape special characters as needed\n",
    "2. \\n - starts a new line\n",
    "**Use triple quotes - `''' '''` or `\"\"\" \"\"\"` for multi-lined strings.**\n",
    "3. f, {} - Add an `f` prefix or `.format` paired with `{}` to enclose variables inside string statements.\n",
    "4. \\t - indentation"
   ]
  },
  {
   "cell_type": "code",
   "execution_count": 11,
   "id": "b3da55dd",
   "metadata": {},
   "outputs": [
    {
     "name": "stdout",
     "output_type": "stream",
     "text": [
      "Hi!\n",
      "Hello!\n"
     ]
    }
   ],
   "source": [
    "print(\"\"\"Hi!\n",
    "Hello!\"\"\")"
   ]
  },
  {
   "cell_type": "code",
   "execution_count": 14,
   "id": "6f4beb26",
   "metadata": {},
   "outputs": [
    {
     "name": "stdout",
     "output_type": "stream",
     "text": [
      "Hi!\n",
      "Hello!\n",
      "Goodbye!\n"
     ]
    }
   ],
   "source": [
    "print(\"\"\"Hi!\n",
    "Hello!\n",
    "Goodbye!\"\"\")"
   ]
  },
  {
   "cell_type": "code",
   "execution_count": 15,
   "id": "54b6ef25",
   "metadata": {},
   "outputs": [
    {
     "name": "stdout",
     "output_type": "stream",
     "text": [
      "My dog barks.\n"
     ]
    }
   ],
   "source": [
    "my_var = \"barks\"\n",
    "\n",
    "print(f\"My dog {my_var}.\")"
   ]
  },
  {
   "cell_type": "code",
   "execution_count": 16,
   "id": "6079b2d7",
   "metadata": {},
   "outputs": [
    {
     "name": "stdout",
     "output_type": "stream",
     "text": [
      "My dog barks and cuddles.\n"
     ]
    }
   ],
   "source": [
    "new_var = \"cuddles\"\n",
    "print(\"My dog {} and {}.\" .format(my_var, new_var))"
   ]
  },
  {
   "cell_type": "code",
   "execution_count": 17,
   "id": "6337c1e8",
   "metadata": {},
   "outputs": [
    {
     "name": "stdout",
     "output_type": "stream",
     "text": [
      "Hi! \t\tHello!\n"
     ]
    }
   ],
   "source": [
    "print(\"Hi! \\t\\tHello!\")"
   ]
  },
  {
   "cell_type": "code",
   "execution_count": 18,
   "id": "fb573840",
   "metadata": {},
   "outputs": [
    {
     "name": "stdout",
     "output_type": "stream",
     "text": [
      "Hi! \tHello!\n"
     ]
    }
   ],
   "source": [
    "print(\"Hi! \\tHello!\")"
   ]
  },
  {
   "cell_type": "code",
   "execution_count": 21,
   "id": "64403143",
   "metadata": {},
   "outputs": [
    {
     "name": "stdout",
     "output_type": "stream",
     "text": [
      "C:\\Users\\cherry\n"
     ]
    }
   ],
   "source": [
    "print(\"C:\\\\Users\\\\cherry\")"
   ]
  },
  {
   "cell_type": "code",
   "execution_count": null,
   "id": "f817a015",
   "metadata": {},
   "outputs": [],
   "source": []
  }
 ],
 "metadata": {
  "kernelspec": {
   "display_name": "Python 3 (ipykernel)",
   "language": "python",
   "name": "python3"
  },
  "language_info": {
   "codemirror_mode": {
    "name": "ipython",
    "version": 3
   },
   "file_extension": ".py",
   "mimetype": "text/x-python",
   "name": "python",
   "nbconvert_exporter": "python",
   "pygments_lexer": "ipython3",
   "version": "3.9.12"
  }
 },
 "nbformat": 4,
 "nbformat_minor": 5
}
