{
 "cells": [
  {
   "cell_type": "code",
   "execution_count": 1,
   "id": "a98b6932",
   "metadata": {},
   "outputs": [
    {
     "data": {
      "text/plain": [
       "[['Hennessey Venom GT', 1244],\n",
       " ['SSC Ultimate Aero', 1287],\n",
       " ['Zenvo ST1', 1100]]"
      ]
     },
     "execution_count": 1,
     "metadata": {},
     "output_type": "execute_result"
    }
   ],
   "source": [
    "car_matrix = [[\"Hennessey Venom GT\", 1244],\n",
    "             [\"SSC Ultimate Aero\", 1287],\n",
    "             [\"Zenvo ST1\", 1100]]\n",
    "\n",
    "car_matrix"
   ]
  },
  {
   "cell_type": "code",
   "execution_count": 2,
   "id": "55207dfd",
   "metadata": {},
   "outputs": [
    {
     "data": {
      "text/plain": [
       "3"
      ]
     },
     "execution_count": 2,
     "metadata": {},
     "output_type": "execute_result"
    }
   ],
   "source": [
    "len(car_matrix)"
   ]
  },
  {
   "cell_type": "code",
   "execution_count": 3,
   "id": "03e684c4",
   "metadata": {},
   "outputs": [
    {
     "data": {
      "text/plain": [
       "2"
      ]
     },
     "execution_count": 3,
     "metadata": {},
     "output_type": "execute_result"
    }
   ],
   "source": [
    "len(car_matrix[1])"
   ]
  },
  {
   "cell_type": "code",
   "execution_count": 4,
   "id": "4f9dde15",
   "metadata": {},
   "outputs": [
    {
     "data": {
      "text/plain": [
       "'SSC Ultimate Aero'"
      ]
     },
     "execution_count": 4,
     "metadata": {},
     "output_type": "execute_result"
    }
   ],
   "source": [
    "car_matrix[1][0]"
   ]
  },
  {
   "cell_type": "code",
   "execution_count": 5,
   "id": "e8604a9a",
   "metadata": {},
   "outputs": [
    {
     "data": {
      "text/plain": [
       "['Leo', 18, 'Aaron', 25, 'Easton', 34, 'Jordan', 30]"
      ]
     },
     "execution_count": 5,
     "metadata": {},
     "output_type": "execute_result"
    }
   ],
   "source": [
    "my_list = [\"Leo\", 18,\n",
    "          \"Aaron\", 25,\n",
    "          \"Easton\", 34,\n",
    "          \"Jordan\", 30]\n",
    "\n",
    "my_list"
   ]
  },
  {
   "cell_type": "code",
   "execution_count": 6,
   "id": "dc49b003",
   "metadata": {},
   "outputs": [
    {
     "data": {
      "text/plain": [
       "('Leo', 18, 'Aaron', 25, 'Easton', 34, 'Jordan', 30)"
      ]
     },
     "execution_count": 6,
     "metadata": {},
     "output_type": "execute_result"
    }
   ],
   "source": [
    "tuple(my_list)"
   ]
  },
  {
   "cell_type": "code",
   "execution_count": 7,
   "id": "8ed0a5f4",
   "metadata": {},
   "outputs": [
    {
     "data": {
      "text/plain": [
       "[['Leo', 18], ['Aaron', 25], ['Easton', 34], ['Jordan', 30]]"
      ]
     },
     "execution_count": 7,
     "metadata": {},
     "output_type": "execute_result"
    }
   ],
   "source": [
    "my_list1 = [[\"Leo\", 18],\n",
    "          [\"Aaron\", 25],\n",
    "          [\"Easton\", 34],\n",
    "          [\"Jordan\", 30]]\n",
    "my_list1"
   ]
  },
  {
   "cell_type": "code",
   "execution_count": 8,
   "id": "41ae23f1",
   "metadata": {},
   "outputs": [
    {
     "data": {
      "text/plain": [
       "(['Leo', 18], ['Aaron', 25], ['Easton', 34], ['Jordan', 30])"
      ]
     },
     "execution_count": 8,
     "metadata": {},
     "output_type": "execute_result"
    }
   ],
   "source": [
    "tuple(my_list1)"
   ]
  },
  {
   "cell_type": "code",
   "execution_count": 9,
   "id": "dd8f18c2",
   "metadata": {},
   "outputs": [
    {
     "data": {
      "text/plain": [
       "{'Leo': 18, 'Aaron': 25, 'Easton': 34, 'Jordan': 30}"
      ]
     },
     "execution_count": 9,
     "metadata": {},
     "output_type": "execute_result"
    }
   ],
   "source": [
    "dict(my_list1)"
   ]
  },
  {
   "cell_type": "code",
   "execution_count": 10,
   "id": "c40ccaa8",
   "metadata": {},
   "outputs": [],
   "source": [
    "students_list = [[1, \"Caleb\", 2, \"Leo\"], [3, \"Easton\", 4, \"Jordan\"]]"
   ]
  },
  {
   "cell_type": "code",
   "execution_count": 11,
   "id": "8929fe6d",
   "metadata": {},
   "outputs": [
    {
     "data": {
      "text/plain": [
       "[[1, 'Caleb', 2, 'Leo'], [3, 'Easton', 4, 'Jordan']]"
      ]
     },
     "execution_count": 11,
     "metadata": {},
     "output_type": "execute_result"
    }
   ],
   "source": [
    "students_list"
   ]
  },
  {
   "cell_type": "code",
   "execution_count": 12,
   "id": "d63eed13",
   "metadata": {},
   "outputs": [
    {
     "ename": "ValueError",
     "evalue": "dictionary update sequence element #0 has length 4; 2 is required",
     "output_type": "error",
     "traceback": [
      "\u001b[1;31m---------------------------------------------------------------------------\u001b[0m",
      "\u001b[1;31mValueError\u001b[0m                                Traceback (most recent call last)",
      "Cell \u001b[1;32mIn[12], line 1\u001b[0m\n\u001b[1;32m----> 1\u001b[0m \u001b[38;5;28;43mdict\u001b[39;49m\u001b[43m(\u001b[49m\u001b[43mstudents_list\u001b[49m\u001b[43m)\u001b[49m\n",
      "\u001b[1;31mValueError\u001b[0m: dictionary update sequence element #0 has length 4; 2 is required"
     ]
    }
   ],
   "source": [
    "dict(students_list)"
   ]
  },
  {
   "cell_type": "code",
   "execution_count": 13,
   "id": "a8dd379b",
   "metadata": {},
   "outputs": [
    {
     "data": {
      "text/plain": [
       "[[1, 'Caleb'], [2, 'Leo'], [3, 'Easton'], [4, ['Jordan', 'Adam']]]"
      ]
     },
     "execution_count": 13,
     "metadata": {},
     "output_type": "execute_result"
    }
   ],
   "source": [
    "students_list_1 = [[1, \"Caleb\"], [2, \"Leo\"], [3, \"Easton\"], [4, [\"Jordan\", \"Adam\"]]]\n",
    "students_list_1"
   ]
  },
  {
   "cell_type": "code",
   "execution_count": 14,
   "id": "ee676062",
   "metadata": {},
   "outputs": [
    {
     "data": {
      "text/plain": [
       "{1: 'Caleb', 2: 'Leo', 3: 'Easton', 4: ['Jordan', 'Adam']}"
      ]
     },
     "execution_count": 14,
     "metadata": {},
     "output_type": "execute_result"
    }
   ],
   "source": [
    "dict(students_list_1)"
   ]
  },
  {
   "cell_type": "code",
   "execution_count": 15,
   "id": "a0012a25",
   "metadata": {},
   "outputs": [],
   "source": [
    "car_matrix_dict = dict(car_matrix)"
   ]
  },
  {
   "cell_type": "code",
   "execution_count": 16,
   "id": "7da82f29",
   "metadata": {},
   "outputs": [
    {
     "data": {
      "text/plain": [
       "{'Hennessey Venom GT': 1244, 'SSC Ultimate Aero': 1287, 'Zenvo ST1': 1100}"
      ]
     },
     "execution_count": 16,
     "metadata": {},
     "output_type": "execute_result"
    }
   ],
   "source": [
    "car_matrix_dict"
   ]
  },
  {
   "cell_type": "code",
   "execution_count": 17,
   "id": "836022a7",
   "metadata": {},
   "outputs": [
    {
     "data": {
      "text/plain": [
       "['Zenvo ST1', 1100]"
      ]
     },
     "execution_count": 17,
     "metadata": {},
     "output_type": "execute_result"
    }
   ],
   "source": [
    "car_matrix.pop()"
   ]
  },
  {
   "cell_type": "code",
   "execution_count": 18,
   "id": "240aeb31",
   "metadata": {},
   "outputs": [
    {
     "data": {
      "text/plain": [
       "[['Hennessey Venom GT', 1244], ['SSC Ultimate Aero', 1287]]"
      ]
     },
     "execution_count": 18,
     "metadata": {},
     "output_type": "execute_result"
    }
   ],
   "source": [
    "car_matrix"
   ]
  },
  {
   "cell_type": "code",
   "execution_count": 19,
   "id": "752494ae",
   "metadata": {},
   "outputs": [],
   "source": [
    "car_matrix.clear()"
   ]
  },
  {
   "cell_type": "code",
   "execution_count": 20,
   "id": "78adf349",
   "metadata": {},
   "outputs": [
    {
     "data": {
      "text/plain": [
       "[]"
      ]
     },
     "execution_count": 20,
     "metadata": {},
     "output_type": "execute_result"
    }
   ],
   "source": [
    "car_matrix"
   ]
  },
  {
   "cell_type": "code",
   "execution_count": 21,
   "id": "f58e2669",
   "metadata": {},
   "outputs": [
    {
     "data": {
      "text/plain": [
       "{'Hennessey Venom GT': 1244, 'SSC Ultimate Aero': 1287, 'Zenvo ST1': 1100}"
      ]
     },
     "execution_count": 21,
     "metadata": {},
     "output_type": "execute_result"
    }
   ],
   "source": [
    "car_matrix_dict"
   ]
  },
  {
   "cell_type": "code",
   "execution_count": 22,
   "id": "1bb495b2",
   "metadata": {},
   "outputs": [],
   "source": [
    "car_names = list(car_matrix_dict)"
   ]
  },
  {
   "cell_type": "code",
   "execution_count": 23,
   "id": "02b59418",
   "metadata": {},
   "outputs": [
    {
     "data": {
      "text/plain": [
       "['Hennessey Venom GT', 'SSC Ultimate Aero', 'Zenvo ST1']"
      ]
     },
     "execution_count": 23,
     "metadata": {},
     "output_type": "execute_result"
    }
   ],
   "source": [
    "car_names"
   ]
  },
  {
   "cell_type": "code",
   "execution_count": 24,
   "id": "c08dc7e0",
   "metadata": {},
   "outputs": [
    {
     "data": {
      "text/plain": [
       "[1244, 1287, 1100]"
      ]
     },
     "execution_count": 24,
     "metadata": {},
     "output_type": "execute_result"
    }
   ],
   "source": [
    "car_hp = list(car_matrix_dict.values())\n",
    "car_hp"
   ]
  },
  {
   "cell_type": "code",
   "execution_count": null,
   "id": "b95e9e18",
   "metadata": {},
   "outputs": [],
   "source": []
  }
 ],
 "metadata": {
  "kernelspec": {
   "display_name": "Python 3 (ipykernel)",
   "language": "python",
   "name": "python3"
  },
  "language_info": {
   "codemirror_mode": {
    "name": "ipython",
    "version": 3
   },
   "file_extension": ".py",
   "mimetype": "text/x-python",
   "name": "python",
   "nbconvert_exporter": "python",
   "pygments_lexer": "ipython3",
   "version": "3.9.12"
  }
 },
 "nbformat": 4,
 "nbformat_minor": 5
}
