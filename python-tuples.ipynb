{
 "cells": [
  {
   "cell_type": "markdown",
   "id": "547892c6",
   "metadata": {},
   "source": [
    "## Tuples\n",
    "\n",
    "Tuples are, also, ordered collection of elements called **fields**.\n",
    "Tuples uses `( )`. Variables separated by a comma are automatically assigned with a tuple class.\n",
    "\n",
    "Tuples can be combined into one using the `+` operator.\n",
    "\n",
    "Tuples can be repeated and combined into one tuple using the `*` operator.\n",
    "\n",
    "Accessing tuple fields work just like with list elements.\n",
    "\n",
    "**Tuples are immutable. Fields cannot be changed or updated.**"
   ]
  },
  {
   "cell_type": "code",
   "execution_count": 1,
   "id": "8a6facda",
   "metadata": {},
   "outputs": [
    {
     "name": "stdout",
     "output_type": "stream",
     "text": [
      "<class 'tuple'>\n"
     ]
    }
   ],
   "source": [
    "my_tuple = ()\n",
    "\n",
    "print(type(my_tuple))"
   ]
  },
  {
   "cell_type": "code",
   "execution_count": 2,
   "id": "f0639878",
   "metadata": {},
   "outputs": [
    {
     "name": "stdout",
     "output_type": "stream",
     "text": [
      "(1, 2, 3)\n"
     ]
    }
   ],
   "source": [
    "int_tuple = (1,2,3)\n",
    "print(int_tuple)"
   ]
  },
  {
   "cell_type": "code",
   "execution_count": 3,
   "id": "bb5cbb3d",
   "metadata": {},
   "outputs": [
    {
     "name": "stdout",
     "output_type": "stream",
     "text": [
      "('Hello', 'Python')\n"
     ]
    }
   ],
   "source": [
    "str_tuple = (\"Hello\", \"Python\")\n",
    "print(str_tuple)"
   ]
  },
  {
   "cell_type": "code",
   "execution_count": 4,
   "id": "85b3e7a7",
   "metadata": {},
   "outputs": [
    {
     "data": {
      "text/plain": [
       "tuple"
      ]
     },
     "execution_count": 4,
     "metadata": {},
     "output_type": "execute_result"
    }
   ],
   "source": [
    "tuple_sample = 1, 2, 3\n",
    "type(tuple_sample)"
   ]
  },
  {
   "cell_type": "code",
   "execution_count": 5,
   "id": "21d4a7fb",
   "metadata": {},
   "outputs": [],
   "source": [
    "tuple_sample = 1, 2, 3, (4, 5, 6), [8, 9, 10]"
   ]
  },
  {
   "cell_type": "code",
   "execution_count": 6,
   "id": "cdd89d14",
   "metadata": {},
   "outputs": [],
   "source": [
    "a, b, c, firstTuple, firstList = tuple_sample"
   ]
  },
  {
   "cell_type": "code",
   "execution_count": 7,
   "id": "d3339683",
   "metadata": {},
   "outputs": [
    {
     "name": "stdout",
     "output_type": "stream",
     "text": [
      "1\n",
      "2\n",
      "3\n",
      "(4, 5, 6)\n",
      "[8, 9, 10]\n"
     ]
    }
   ],
   "source": [
    "print(a)\n",
    "print(b)\n",
    "print(c)\n",
    "print(firstTuple)\n",
    "print(firstList)"
   ]
  },
  {
   "cell_type": "code",
   "execution_count": 8,
   "id": "f1a1c55e",
   "metadata": {},
   "outputs": [
    {
     "name": "stdout",
     "output_type": "stream",
     "text": [
      "(4, 5, 6)\n"
     ]
    }
   ],
   "source": [
    "print(tuple_sample[3])"
   ]
  },
  {
   "cell_type": "markdown",
   "id": "174dd156",
   "metadata": {},
   "source": [
    "An element within a nested tuple-list can be accessed using two index positions."
   ]
  },
  {
   "cell_type": "code",
   "execution_count": 9,
   "id": "46555429",
   "metadata": {},
   "outputs": [
    {
     "name": "stdout",
     "output_type": "stream",
     "text": [
      "9\n"
     ]
    }
   ],
   "source": [
    "print(tuple_sample[4][1])"
   ]
  },
  {
   "cell_type": "markdown",
   "id": "789fb62b",
   "metadata": {},
   "source": [
    "Tuples can also be converted to lists using the `list()` function or sets using the `set()` function."
   ]
  },
  {
   "cell_type": "code",
   "execution_count": 10,
   "id": "daa19bd7",
   "metadata": {},
   "outputs": [
    {
     "data": {
      "text/plain": [
       "[1, 2, 3, (4, 5, 6), [8, 9, 10]]"
      ]
     },
     "execution_count": 10,
     "metadata": {},
     "output_type": "execute_result"
    }
   ],
   "source": [
    "list(tuple_sample)"
   ]
  },
  {
   "cell_type": "code",
   "execution_count": 11,
   "id": "63491e75",
   "metadata": {},
   "outputs": [
    {
     "data": {
      "text/plain": [
       "(1, 2, 3, (4, 5, 6), [8, 9, 10])"
      ]
     },
     "execution_count": 11,
     "metadata": {},
     "output_type": "execute_result"
    }
   ],
   "source": [
    "tuple_sample"
   ]
  },
  {
   "cell_type": "code",
   "execution_count": 12,
   "id": "48c33aec",
   "metadata": {},
   "outputs": [
    {
     "ename": "AttributeError",
     "evalue": "'tuple' object has no attribute 'append'",
     "output_type": "error",
     "traceback": [
      "\u001b[1;31m---------------------------------------------------------------------------\u001b[0m",
      "\u001b[1;31mAttributeError\u001b[0m                            Traceback (most recent call last)",
      "Cell \u001b[1;32mIn[12], line 1\u001b[0m\n\u001b[1;32m----> 1\u001b[0m \u001b[43mtuple_sample\u001b[49m\u001b[38;5;241;43m.\u001b[39;49m\u001b[43mappend\u001b[49m(\u001b[38;5;124m\"\u001b[39m\u001b[38;5;124mHello\u001b[39m\u001b[38;5;124m\"\u001b[39m)\n",
      "\u001b[1;31mAttributeError\u001b[0m: 'tuple' object has no attribute 'append'"
     ]
    }
   ],
   "source": [
    "tuple_sample.append(\"Hello\")"
   ]
  },
  {
   "cell_type": "code",
   "execution_count": 15,
   "id": "98a42a59",
   "metadata": {},
   "outputs": [
    {
     "data": {
      "text/plain": [
       "{1, 2, 3, 4, 5, 6}"
      ]
     },
     "execution_count": 15,
     "metadata": {},
     "output_type": "execute_result"
    }
   ],
   "source": [
    "tuple_sample = (1, 2, 3, 4, 5, 6, 5, 4)\n",
    "set(tuple_sample)"
   ]
  },
  {
   "cell_type": "markdown",
   "id": "06ae6f06",
   "metadata": {},
   "source": [
    "### ZIP Function\n",
    "\n",
    "- `zip()` - makes a pair of every field in a tuple, like key-value pairs\n",
    "\n",
    "A zipped result can be converted to a complex data type - tuple, list, dict, set\n",
    "\n",
    "Extract the original tuples from the zipped result using the `zip(*)` function"
   ]
  },
  {
   "cell_type": "code",
   "execution_count": 16,
   "id": "bea2f962",
   "metadata": {},
   "outputs": [
    {
     "name": "stdout",
     "output_type": "stream",
     "text": [
      "<zip object at 0x00000143F0ECE200>\n"
     ]
    }
   ],
   "source": [
    "tuple_a = 1, 2, 3, 4, 5\n",
    "tuple_b = \"a\", \"b\", \"c\", \"d\", \"e\"\n",
    "\n",
    "zipped = zip(tuple_a, tuple_b)\n",
    "print(zipped)"
   ]
  },
  {
   "cell_type": "code",
   "execution_count": 17,
   "id": "0a934534",
   "metadata": {},
   "outputs": [],
   "source": [
    "result = tuple(zipped)"
   ]
  },
  {
   "cell_type": "code",
   "execution_count": 18,
   "id": "35302bf9",
   "metadata": {},
   "outputs": [
    {
     "name": "stdout",
     "output_type": "stream",
     "text": [
      "((1, 'a'), (2, 'b'), (3, 'c'), (4, 'd'), (5, 'e'))\n"
     ]
    }
   ],
   "source": [
    "print(result)"
   ]
  },
  {
   "cell_type": "code",
   "execution_count": 19,
   "id": "c145a5c2",
   "metadata": {},
   "outputs": [
    {
     "name": "stdout",
     "output_type": "stream",
     "text": [
      "(1, 2, 3, 4, 5)\n",
      "('a', 'b', 'c', 'd', 'e')\n"
     ]
    }
   ],
   "source": [
    "tuple_x, tuple_y = zip(*result)\n",
    "print(tuple_x)\n",
    "print(tuple_y)"
   ]
  },
  {
   "cell_type": "code",
   "execution_count": 20,
   "id": "e52d41e9",
   "metadata": {},
   "outputs": [],
   "source": [
    "numbers_list = [1, 2, 3]\n",
    "str_list = [\"one\", \" two\", \"three\"]\n",
    "numberString_tuple = (\"ONE\", \"TWO\", \"THREE\", \"FOUR\")\n",
    "\n",
    "result = zip(numbers_list, str_list, numberString_tuple)\n",
    "\n"
   ]
  },
  {
   "cell_type": "code",
   "execution_count": 21,
   "id": "8f0b20b3",
   "metadata": {},
   "outputs": [
    {
     "name": "stdout",
     "output_type": "stream",
     "text": [
      "{(1, 'one', 'ONE'), (3, 'three', 'THREE'), (2, ' two', 'TWO')}\n"
     ]
    }
   ],
   "source": [
    "set_zip = set(result)\n",
    "print(set_zip)"
   ]
  },
  {
   "cell_type": "code",
   "execution_count": 23,
   "id": "cb744ea6",
   "metadata": {},
   "outputs": [
    {
     "name": "stdout",
     "output_type": "stream",
     "text": [
      "{1: 'one', 2: ' two', 3: 'three'}\n"
     ]
    }
   ],
   "source": [
    "dict_zip = dict(zip(numbers_list,str_list))\n",
    "print(dict_zip)"
   ]
  },
  {
   "cell_type": "code",
   "execution_count": null,
   "id": "bb6baa69",
   "metadata": {},
   "outputs": [],
   "source": []
  }
 ],
 "metadata": {
  "kernelspec": {
   "display_name": "Python 3 (ipykernel)",
   "language": "python",
   "name": "python3"
  },
  "language_info": {
   "codemirror_mode": {
    "name": "ipython",
    "version": 3
   },
   "file_extension": ".py",
   "mimetype": "text/x-python",
   "name": "python",
   "nbconvert_exporter": "python",
   "pygments_lexer": "ipython3",
   "version": "3.9.12"
  }
 },
 "nbformat": 4,
 "nbformat_minor": 5
}
