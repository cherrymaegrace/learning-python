{
 "cells": [
  {
   "cell_type": "markdown",
   "id": "6ec18f8d",
   "metadata": {},
   "source": [
    "### Functions for Dictionaries\n",
    "\n",
    "- `len()` - returns the number of key-value pairs in a dictionary\n",
    "- `sorted()` - returns a sorted list of the keys in a dictionary, alphabetically; pass `reverse=True` argument to reverse the sort\n",
    "- `.items()` - returns the list of key-value pairs in a tuple type\n",
    "- `.copy()` - returns a copy of the dictionary\n",
    "- `.pop(key)` - removes the key-value pair\n",
    "- `.popitem()` - randomly removes a key-value pair\n",
    "- `.update(dict_name)` - updates an existing dictionary with key-value pairs from another dictionary\n",
    "- `.clear()` - removes all key-value pairs in a dictionary"
   ]
  },
  {
   "cell_type": "code",
   "execution_count": 1,
   "id": "226d76a8",
   "metadata": {},
   "outputs": [],
   "source": [
    "bike_details = {\"bike owner\": \"James Smith\",\n",
    "               \"bike_model\": \"Ducati Monster 1200\",\n",
    "               \"bike_price\": 28140,\n",
    "               \"engine_displacement\": 1197}"
   ]
  },
  {
   "cell_type": "code",
   "execution_count": 2,
   "id": "ef847158",
   "metadata": {},
   "outputs": [
    {
     "data": {
      "text/plain": [
       "4"
      ]
     },
     "execution_count": 2,
     "metadata": {},
     "output_type": "execute_result"
    }
   ],
   "source": [
    "len(bike_details)"
   ]
  },
  {
   "cell_type": "code",
   "execution_count": 3,
   "id": "6caa5bfe",
   "metadata": {},
   "outputs": [
    {
     "data": {
      "text/plain": [
       "['bike owner', 'bike_model', 'bike_price', 'engine_displacement']"
      ]
     },
     "execution_count": 3,
     "metadata": {},
     "output_type": "execute_result"
    }
   ],
   "source": [
    "sorted(bike_details)"
   ]
  },
  {
   "cell_type": "code",
   "execution_count": 4,
   "id": "dbc9293f",
   "metadata": {},
   "outputs": [
    {
     "data": {
      "text/plain": [
       "['engine_displacement', 'bike_price', 'bike_model', 'bike owner']"
      ]
     },
     "execution_count": 4,
     "metadata": {},
     "output_type": "execute_result"
    }
   ],
   "source": [
    "sorted(bike_details, reverse=True)"
   ]
  },
  {
   "cell_type": "code",
   "execution_count": 5,
   "id": "186902bd",
   "metadata": {},
   "outputs": [
    {
     "data": {
      "text/plain": [
       "dict_items([('bike owner', 'James Smith'), ('bike_model', 'Ducati Monster 1200'), ('bike_price', 28140), ('engine_displacement', 1197)])"
      ]
     },
     "execution_count": 5,
     "metadata": {},
     "output_type": "execute_result"
    }
   ],
   "source": [
    "bike_details.items()"
   ]
  },
  {
   "cell_type": "code",
   "execution_count": 6,
   "id": "12b7811f",
   "metadata": {},
   "outputs": [],
   "source": [
    "copy_bike_details = bike_details.copy()"
   ]
  },
  {
   "cell_type": "code",
   "execution_count": 7,
   "id": "1cb782de",
   "metadata": {},
   "outputs": [
    {
     "data": {
      "text/plain": [
       "{'bike owner': 'James Smith',\n",
       " 'bike_model': 'Ducati Monster 1200',\n",
       " 'bike_price': 28140}"
      ]
     },
     "execution_count": 7,
     "metadata": {},
     "output_type": "execute_result"
    }
   ],
   "source": [
    "copy_bike_details.pop(\"engine_displacement\")\n",
    "copy_bike_details"
   ]
  },
  {
   "cell_type": "code",
   "execution_count": 8,
   "id": "dbb5d486",
   "metadata": {},
   "outputs": [
    {
     "data": {
      "text/plain": [
       "{'bike owner': 'James Smith',\n",
       " 'bike_model': 'Ducati Monster 1200',\n",
       " 'bike_price': 28140,\n",
       " 'engine_displacement': 1197}"
      ]
     },
     "execution_count": 8,
     "metadata": {},
     "output_type": "execute_result"
    }
   ],
   "source": [
    "bike_details"
   ]
  },
  {
   "cell_type": "code",
   "execution_count": 9,
   "id": "aa767c7e",
   "metadata": {},
   "outputs": [],
   "source": [
    "dict_age = {\"Ethan\": 54, \"Sofia\": 50}\n",
    "new_dict_age = {\"Ethan\": 55, \"Harper\": 58}"
   ]
  },
  {
   "cell_type": "code",
   "execution_count": 10,
   "id": "6b71a49f",
   "metadata": {},
   "outputs": [
    {
     "data": {
      "text/plain": [
       "{'Ethan': 55, 'Sofia': 50, 'Harper': 58}"
      ]
     },
     "execution_count": 10,
     "metadata": {},
     "output_type": "execute_result"
    }
   ],
   "source": [
    "dict_age.update(new_dict_age)\n",
    "dict_age"
   ]
  },
  {
   "cell_type": "code",
   "execution_count": null,
   "id": "2953b9af",
   "metadata": {},
   "outputs": [],
   "source": []
  }
 ],
 "metadata": {
  "kernelspec": {
   "display_name": "Python 3 (ipykernel)",
   "language": "python",
   "name": "python3"
  },
  "language_info": {
   "codemirror_mode": {
    "name": "ipython",
    "version": 3
   },
   "file_extension": ".py",
   "mimetype": "text/x-python",
   "name": "python",
   "nbconvert_exporter": "python",
   "pygments_lexer": "ipython3",
   "version": "3.9.12"
  }
 },
 "nbformat": 4,
 "nbformat_minor": 5
}
