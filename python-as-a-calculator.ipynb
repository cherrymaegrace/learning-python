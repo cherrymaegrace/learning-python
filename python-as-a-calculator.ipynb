{
 "cells": [
  {
   "cell_type": "markdown",
   "id": "3747014a",
   "metadata": {},
   "source": [
    "Shell commands can also be executed in Jupyter.\n",
    "Add ! before the command\n",
    "`!python --version`"
   ]
  },
  {
   "cell_type": "code",
   "execution_count": 2,
   "id": "214e696c",
   "metadata": {},
   "outputs": [
    {
     "data": {
      "text/plain": [
       "16"
      ]
     },
     "execution_count": 2,
     "metadata": {},
     "output_type": "execute_result"
    }
   ],
   "source": [
    "7+9"
   ]
  },
  {
   "cell_type": "code",
   "execution_count": 3,
   "id": "fc571011",
   "metadata": {},
   "outputs": [
    {
     "data": {
      "text/plain": [
       "10.000000000000002"
      ]
     },
     "execution_count": 3,
     "metadata": {},
     "output_type": "execute_result"
    }
   ],
   "source": [
    "23.6 - 13.6"
   ]
  },
  {
   "cell_type": "code",
   "execution_count": 4,
   "id": "d89f2fb7",
   "metadata": {},
   "outputs": [
    {
     "data": {
      "text/plain": [
       "8"
      ]
     },
     "execution_count": 4,
     "metadata": {},
     "output_type": "execute_result"
    }
   ],
   "source": [
    "2*3*1+2"
   ]
  },
  {
   "cell_type": "markdown",
   "id": "c20e65aa",
   "metadata": {},
   "source": [
    "Perform exponential calculations with the `**` operator."
   ]
  },
  {
   "cell_type": "code",
   "execution_count": 9,
   "id": "db024386",
   "metadata": {},
   "outputs": [
    {
     "data": {
      "text/plain": [
       "100"
      ]
     },
     "execution_count": 9,
     "metadata": {},
     "output_type": "execute_result"
    }
   ],
   "source": [
    "10**2"
   ]
  },
  {
   "cell_type": "markdown",
   "id": "cf7a9eb9",
   "metadata": {},
   "source": [
    "Dividing two integers will result to a floating quotient if the operator `/` is used.\n",
    "\n",
    "To get an integral quotient, the operator to be used must be `//`. This also means that any remainder from the operation will not be displayed.\n",
    "\n",
    "To get the remainder of a division, use the `%` operator."
   ]
  },
  {
   "cell_type": "code",
   "execution_count": 13,
   "id": "e87a808b",
   "metadata": {},
   "outputs": [
    {
     "data": {
      "text/plain": [
       "2.0"
      ]
     },
     "execution_count": 13,
     "metadata": {},
     "output_type": "execute_result"
    }
   ],
   "source": [
    "10/5"
   ]
  },
  {
   "cell_type": "code",
   "execution_count": 14,
   "id": "ed0a5a12",
   "metadata": {},
   "outputs": [
    {
     "data": {
      "text/plain": [
       "2"
      ]
     },
     "execution_count": 14,
     "metadata": {},
     "output_type": "execute_result"
    }
   ],
   "source": [
    "10//5"
   ]
  },
  {
   "cell_type": "code",
   "execution_count": 15,
   "id": "ef90365b",
   "metadata": {},
   "outputs": [
    {
     "data": {
      "text/plain": [
       "2.2"
      ]
     },
     "execution_count": 15,
     "metadata": {},
     "output_type": "execute_result"
    }
   ],
   "source": [
    "11/5"
   ]
  },
  {
   "cell_type": "code",
   "execution_count": 16,
   "id": "9b602619",
   "metadata": {},
   "outputs": [
    {
     "data": {
      "text/plain": [
       "2"
      ]
     },
     "execution_count": 16,
     "metadata": {},
     "output_type": "execute_result"
    }
   ],
   "source": [
    "11//5"
   ]
  },
  {
   "cell_type": "markdown",
   "id": "1bb2e193",
   "metadata": {},
   "source": [
    " In Python, a string can be multiplied with an integer. This is interpreted as concatenating the string *integer* times."
   ]
  },
  {
   "cell_type": "code",
   "execution_count": 17,
   "id": "8ddd7f97",
   "metadata": {},
   "outputs": [
    {
     "data": {
      "text/plain": [
       "'Hello! Hello! Hello! '"
      ]
     },
     "execution_count": 17,
     "metadata": {},
     "output_type": "execute_result"
    }
   ],
   "source": [
    "\"Hello! \" * 3"
   ]
  },
  {
   "cell_type": "code",
   "execution_count": null,
   "id": "a1153c9f",
   "metadata": {},
   "outputs": [],
   "source": []
  }
 ],
 "metadata": {
  "kernelspec": {
   "display_name": "Python 3 (ipykernel)",
   "language": "python",
   "name": "python3"
  },
  "language_info": {
   "codemirror_mode": {
    "name": "ipython",
    "version": 3
   },
   "file_extension": ".py",
   "mimetype": "text/x-python",
   "name": "python",
   "nbconvert_exporter": "python",
   "pygments_lexer": "ipython3",
   "version": "3.9.12"
  }
 },
 "nbformat": 4,
 "nbformat_minor": 5
}
