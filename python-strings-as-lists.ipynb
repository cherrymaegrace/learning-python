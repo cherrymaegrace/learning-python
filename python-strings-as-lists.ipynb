{
 "cells": [
  {
   "cell_type": "markdown",
   "id": "9870086f",
   "metadata": {},
   "source": [
    "### Strings as Lists\n",
    "\n",
    "A string is a list of characters. Index positions can be assigned to every character in the string.\n",
    "\n",
    "But, strings are immutable. Characters in the string cannot be updated.\n",
    "\n",
    "Variables can be assigned to every character in a string.\n",
    "\n",
    "#### String Functions\n",
    "- `.startswith()`\n",
    "- `.endswith()`\n",
    "- `.count()` - returns the number of occurrences of a character or substring in a string\n",
    "- `.lower()` - returns the string in lowercase characters\n",
    "- `.upper()` - returns the string in uppercase characters\n",
    "- `.find()` or `.index()` - returns the index position of a character; but .index() throws an error if the character is not found\n",
    "- `.split()` - returns a list of strings which has been split at the input argument position\n",
    "- `delimiter.join()` - returns a string combining a list of strings with delimiters in between\n",
    "- `.isupper()` - checks if a string is in uppercase"
   ]
  },
  {
   "cell_type": "code",
   "execution_count": 1,
   "id": "6912e63f",
   "metadata": {},
   "outputs": [],
   "source": [
    "x='World'"
   ]
  },
  {
   "cell_type": "code",
   "execution_count": 2,
   "id": "70879125",
   "metadata": {},
   "outputs": [
    {
     "data": {
      "text/plain": [
       "5"
      ]
     },
     "execution_count": 2,
     "metadata": {},
     "output_type": "execute_result"
    }
   ],
   "source": [
    "len(x)"
   ]
  },
  {
   "cell_type": "code",
   "execution_count": 3,
   "id": "423ee02b",
   "metadata": {},
   "outputs": [
    {
     "data": {
      "text/plain": [
       "'o'"
      ]
     },
     "execution_count": 3,
     "metadata": {},
     "output_type": "execute_result"
    }
   ],
   "source": [
    "x[1]"
   ]
  },
  {
   "cell_type": "code",
   "execution_count": 4,
   "id": "b42ca156",
   "metadata": {},
   "outputs": [
    {
     "ename": "TypeError",
     "evalue": "'str' object does not support item assignment",
     "output_type": "error",
     "traceback": [
      "\u001b[1;31m---------------------------------------------------------------------------\u001b[0m",
      "\u001b[1;31mTypeError\u001b[0m                                 Traceback (most recent call last)",
      "Cell \u001b[1;32mIn[4], line 1\u001b[0m\n\u001b[1;32m----> 1\u001b[0m x[\u001b[38;5;241m0\u001b[39m] \u001b[38;5;241m=\u001b[39m \u001b[38;5;124m'\u001b[39m\u001b[38;5;124mB\u001b[39m\u001b[38;5;124m'\u001b[39m\n",
      "\u001b[1;31mTypeError\u001b[0m: 'str' object does not support item assignment"
     ]
    }
   ],
   "source": [
    "x[0] = 'B'"
   ]
  },
  {
   "cell_type": "code",
   "execution_count": 6,
   "id": "c3378c1f",
   "metadata": {},
   "outputs": [
    {
     "name": "stdout",
     "output_type": "stream",
     "text": [
      "W\n",
      "o\n",
      "r\n"
     ]
    }
   ],
   "source": [
    "a, b, c, d, e = x\n",
    "print(a)\n",
    "print(b)\n",
    "print(c)"
   ]
  },
  {
   "cell_type": "code",
   "execution_count": 5,
   "id": "123db79d",
   "metadata": {},
   "outputs": [
    {
     "ename": "ValueError",
     "evalue": "too many values to unpack (expected 4)",
     "output_type": "error",
     "traceback": [
      "\u001b[1;31m---------------------------------------------------------------------------\u001b[0m",
      "\u001b[1;31mValueError\u001b[0m                                Traceback (most recent call last)",
      "Cell \u001b[1;32mIn[5], line 1\u001b[0m\n\u001b[1;32m----> 1\u001b[0m a, b, c, d \u001b[38;5;241m=\u001b[39m x\n\u001b[0;32m      2\u001b[0m \u001b[38;5;28mprint\u001b[39m(a)\n\u001b[0;32m      3\u001b[0m \u001b[38;5;28mprint\u001b[39m(b)\n",
      "\u001b[1;31mValueError\u001b[0m: too many values to unpack (expected 4)"
     ]
    }
   ],
   "source": [
    "a, b, c, d = x\n",
    "print(a)\n",
    "print(b)\n",
    "print(c)"
   ]
  },
  {
   "cell_type": "code",
   "execution_count": 7,
   "id": "b2c6c85f",
   "metadata": {},
   "outputs": [
    {
     "name": "stdout",
     "output_type": "stream",
     "text": [
      "Ten\n",
      "Twenty\n"
     ]
    }
   ],
   "source": [
    "y, z = ['Ten', 'Twenty']\n",
    "print(y)\n",
    "print(z)"
   ]
  },
  {
   "cell_type": "code",
   "execution_count": 4,
   "id": "13ed4f78",
   "metadata": {},
   "outputs": [
    {
     "name": "stdout",
     "output_type": "stream",
     "text": [
      "Where are you from? New York City\n"
     ]
    }
   ],
   "source": [
    "place = input('Where are you from? ')"
   ]
  },
  {
   "cell_type": "code",
   "execution_count": 9,
   "id": "960cf6b1",
   "metadata": {},
   "outputs": [
    {
     "data": {
      "text/plain": [
       "13"
      ]
     },
     "execution_count": 9,
     "metadata": {},
     "output_type": "execute_result"
    }
   ],
   "source": [
    "len(place)"
   ]
  },
  {
   "cell_type": "code",
   "execution_count": 11,
   "id": "1cb3d1a4",
   "metadata": {},
   "outputs": [
    {
     "data": {
      "text/plain": [
       "'City'"
      ]
     },
     "execution_count": 11,
     "metadata": {},
     "output_type": "execute_result"
    }
   ],
   "source": [
    "place[9:]"
   ]
  },
  {
   "cell_type": "code",
   "execution_count": 15,
   "id": "ab17a73e",
   "metadata": {},
   "outputs": [
    {
     "data": {
      "text/plain": [
       "'York '"
      ]
     },
     "execution_count": 15,
     "metadata": {},
     "output_type": "execute_result"
    }
   ],
   "source": [
    "place[4:-4]"
   ]
  },
  {
   "cell_type": "code",
   "execution_count": 16,
   "id": "cd46a5c2",
   "metadata": {},
   "outputs": [
    {
     "data": {
      "text/plain": [
       "'NwYr'"
      ]
     },
     "execution_count": 16,
     "metadata": {},
     "output_type": "execute_result"
    }
   ],
   "source": [
    "place[0:8:2]"
   ]
  },
  {
   "cell_type": "code",
   "execution_count": 18,
   "id": "d72096bf",
   "metadata": {},
   "outputs": [],
   "source": [
    "city = place[:8]"
   ]
  },
  {
   "cell_type": "code",
   "execution_count": 19,
   "id": "4af9f310",
   "metadata": {},
   "outputs": [
    {
     "data": {
      "text/plain": [
       "'New York'"
      ]
     },
     "execution_count": 19,
     "metadata": {},
     "output_type": "execute_result"
    }
   ],
   "source": [
    "city"
   ]
  },
  {
   "cell_type": "code",
   "execution_count": null,
   "id": "7190322e",
   "metadata": {},
   "outputs": [],
   "source": [
    "del city"
   ]
  },
  {
   "cell_type": "code",
   "execution_count": 2,
   "id": "57b07d41",
   "metadata": {},
   "outputs": [
    {
     "ename": "NameError",
     "evalue": "name 'city' is not defined",
     "output_type": "error",
     "traceback": [
      "\u001b[1;31m---------------------------------------------------------------------------\u001b[0m",
      "\u001b[1;31mNameError\u001b[0m                                 Traceback (most recent call last)",
      "Cell \u001b[1;32mIn[2], line 1\u001b[0m\n\u001b[1;32m----> 1\u001b[0m \u001b[43mcity\u001b[49m\n",
      "\u001b[1;31mNameError\u001b[0m: name 'city' is not defined"
     ]
    }
   ],
   "source": [
    "city"
   ]
  },
  {
   "cell_type": "code",
   "execution_count": 5,
   "id": "a4eb7e4a",
   "metadata": {},
   "outputs": [
    {
     "name": "stdout",
     "output_type": "stream",
     "text": [
      "True\n"
     ]
    }
   ],
   "source": [
    "print(place.startswith('N'))"
   ]
  },
  {
   "cell_type": "code",
   "execution_count": 6,
   "id": "358f1835",
   "metadata": {},
   "outputs": [
    {
     "name": "stdout",
     "output_type": "stream",
     "text": [
      "False\n"
     ]
    }
   ],
   "source": [
    "print(place.startswith('n'))"
   ]
  },
  {
   "cell_type": "code",
   "execution_count": 7,
   "id": "836c94a7",
   "metadata": {},
   "outputs": [
    {
     "name": "stdout",
     "output_type": "stream",
     "text": [
      "1\n"
     ]
    }
   ],
   "source": [
    "print(place.count('ork'))"
   ]
  },
  {
   "cell_type": "code",
   "execution_count": 8,
   "id": "a39e241b",
   "metadata": {},
   "outputs": [
    {
     "name": "stdout",
     "output_type": "stream",
     "text": [
      "-1\n"
     ]
    }
   ],
   "source": [
    "print(place.find('c'))"
   ]
  },
  {
   "cell_type": "code",
   "execution_count": 9,
   "id": "f4a99ea7",
   "metadata": {},
   "outputs": [
    {
     "name": "stdout",
     "output_type": "stream",
     "text": [
      "9\n"
     ]
    }
   ],
   "source": [
    "print(place.find('C'))"
   ]
  },
  {
   "cell_type": "code",
   "execution_count": 10,
   "id": "f89b0a20",
   "metadata": {},
   "outputs": [
    {
     "ename": "ValueError",
     "evalue": "substring not found",
     "output_type": "error",
     "traceback": [
      "\u001b[1;31m---------------------------------------------------------------------------\u001b[0m",
      "\u001b[1;31mValueError\u001b[0m                                Traceback (most recent call last)",
      "Cell \u001b[1;32mIn[10], line 1\u001b[0m\n\u001b[1;32m----> 1\u001b[0m \u001b[38;5;28mprint\u001b[39m(\u001b[43mplace\u001b[49m\u001b[38;5;241;43m.\u001b[39;49m\u001b[43mindex\u001b[49m\u001b[43m(\u001b[49m\u001b[38;5;124;43m'\u001b[39;49m\u001b[38;5;124;43mc\u001b[39;49m\u001b[38;5;124;43m'\u001b[39;49m\u001b[43m)\u001b[49m)\n",
      "\u001b[1;31mValueError\u001b[0m: substring not found"
     ]
    }
   ],
   "source": [
    "print(place.index('c'))"
   ]
  },
  {
   "cell_type": "code",
   "execution_count": 12,
   "id": "1d5f8d6c",
   "metadata": {},
   "outputs": [],
   "source": [
    "split_place=place.split(\" \")"
   ]
  },
  {
   "cell_type": "code",
   "execution_count": 14,
   "id": "e54ab1d8",
   "metadata": {},
   "outputs": [
    {
     "name": "stdout",
     "output_type": "stream",
     "text": [
      "New,York,City\n"
     ]
    }
   ],
   "source": [
    "print(','.join(split_place))"
   ]
  },
  {
   "cell_type": "code",
   "execution_count": 15,
   "id": "819527a7",
   "metadata": {},
   "outputs": [
    {
     "name": "stdout",
     "output_type": "stream",
     "text": [
      "New York City\n"
     ]
    }
   ],
   "source": [
    "print(' '.join(split_place))"
   ]
  },
  {
   "cell_type": "code",
   "execution_count": 16,
   "id": "4865eede",
   "metadata": {},
   "outputs": [
    {
     "name": "stdout",
     "output_type": "stream",
     "text": [
      "Hello Python World\n"
     ]
    }
   ],
   "source": [
    "my_string = \"Hello Python World\"\n",
    "\n",
    "print (my_string[0:len(my_string)])"
   ]
  },
  {
   "cell_type": "code",
   "execution_count": 17,
   "id": "a5ed07ad",
   "metadata": {},
   "outputs": [
    {
     "name": "stdout",
     "output_type": "stream",
     "text": [
      "Hello Python Worl\n"
     ]
    }
   ],
   "source": [
    "print(my_string[0:(len(my_string)-1)])"
   ]
  },
  {
   "cell_type": "code",
   "execution_count": 19,
   "id": "873f251f",
   "metadata": {},
   "outputs": [
    {
     "name": "stdout",
     "output_type": "stream",
     "text": [
      "H or\n"
     ]
    }
   ],
   "source": [
    "print(my_string[::5])"
   ]
  },
  {
   "cell_type": "code",
   "execution_count": 20,
   "id": "c0e971bb",
   "metadata": {},
   "outputs": [
    {
     "name": "stdout",
     "output_type": "stream",
     "text": [
      "dont l\n"
     ]
    }
   ],
   "source": [
    "print(my_string[::-3])"
   ]
  },
  {
   "cell_type": "code",
   "execution_count": null,
   "id": "9f5a4240",
   "metadata": {},
   "outputs": [],
   "source": []
  }
 ],
 "metadata": {
  "kernelspec": {
   "display_name": "Python 3 (ipykernel)",
   "language": "python",
   "name": "python3"
  },
  "language_info": {
   "codemirror_mode": {
    "name": "ipython",
    "version": 3
   },
   "file_extension": ".py",
   "mimetype": "text/x-python",
   "name": "python",
   "nbconvert_exporter": "python",
   "pygments_lexer": "ipython3",
   "version": "3.9.12"
  }
 },
 "nbformat": 4,
 "nbformat_minor": 5
}
