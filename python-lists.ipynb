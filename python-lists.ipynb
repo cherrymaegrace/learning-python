{
 "cells": [
  {
   "cell_type": "markdown",
   "id": "5adf45e8",
   "metadata": {},
   "source": [
    "## Lists\n",
    "\n",
    "Lists are ordered collection of elements in `[]`.\n",
    "Elements in a list can be any data type and are separated by commas `,`.\n",
    "\n",
    "### Accessing List Elements\n",
    "Elements uses indices.\n",
    "First position is index position [0].\n",
    "Last position can be accessed using index position [-1].\n"
   ]
  },
  {
   "cell_type": "code",
   "execution_count": 1,
   "id": "890d7949",
   "metadata": {},
   "outputs": [],
   "source": [
    "cars_list = [\"Honda\", \"Toyota\", \"Hyundai\", \"Mitsubishi\"]"
   ]
  },
  {
   "cell_type": "code",
   "execution_count": 4,
   "id": "84453cac",
   "metadata": {},
   "outputs": [
    {
     "name": "stdout",
     "output_type": "stream",
     "text": [
      "Honda\n",
      "Mitsubishi\n",
      "Hyundai\n",
      "Hyundai\n"
     ]
    }
   ],
   "source": [
    "print(cars_list[0])\n",
    "print(cars_list[-1])\n",
    "print(cars_list[2])\n",
    "print(cars_list[-2])"
   ]
  },
  {
   "cell_type": "markdown",
   "id": "e75506f1",
   "metadata": {},
   "source": [
    "### Updating List Elements\n",
    "\n",
    "Elements are stored in the list according to their index positions so that's how we are going to update the list."
   ]
  },
  {
   "cell_type": "code",
   "execution_count": 5,
   "id": "b0196435",
   "metadata": {},
   "outputs": [
    {
     "name": "stdout",
     "output_type": "stream",
     "text": [
      "['Honda', 'Chevrolet', 'Hyundai', 'Mitsubishi']\n"
     ]
    }
   ],
   "source": [
    "cars_list[1] = \"Chevrolet\"\n",
    "print(cars_list)"
   ]
  },
  {
   "cell_type": "markdown",
   "id": "8e22fd69",
   "metadata": {},
   "source": [
    "### List Operations\n",
    "\n",
    "- `.append(element)` - add a **one** new element at the end of the list\n",
    "- `.insert(index, element)`- add a **one** new element at the specified index position\n",
    "- `.extend([elements])` - add a **list** of new elements at the end of the list\n",
    "- `+` operator - concatenates lists\n",
    "- `.index(element)` - returns the index position of an element\n",
    "- `.remove(element)` - removes the exact element from the list\n",
    "- `+=` operator - appends elements at the end of the list\n",
    "- `.sort()` - sorts the list in alphabetical order\n",
    "- `.reverse()` - reverses the position of all the elements in the list\n",
    "- `.pop()` - removes the last element in the list\n",
    "- `.count(element)` - returns the number of times an element appears in the list\n",
    "- `.clear()` - removes all elements in a list"
   ]
  },
  {
   "cell_type": "code",
   "execution_count": 7,
   "id": "1ce1e555",
   "metadata": {},
   "outputs": [
    {
     "data": {
      "text/plain": [
       "4"
      ]
     },
     "execution_count": 7,
     "metadata": {},
     "output_type": "execute_result"
    }
   ],
   "source": [
    "len(cars_list)"
   ]
  },
  {
   "cell_type": "code",
   "execution_count": 8,
   "id": "1d452316",
   "metadata": {},
   "outputs": [
    {
     "name": "stdout",
     "output_type": "stream",
     "text": [
      "['Honda', 'Chevrolet', 'Hyundai', 'Mitsubishi', 'Ferrari']\n"
     ]
    }
   ],
   "source": [
    "cars_list.append(\"Ferrari\")\n",
    "print(cars_list)"
   ]
  },
  {
   "cell_type": "code",
   "execution_count": 9,
   "id": "a90c81cc",
   "metadata": {},
   "outputs": [
    {
     "name": "stdout",
     "output_type": "stream",
     "text": [
      "['Honda', 'Chevrolet', 'Nissan', 'Hyundai', 'Mitsubishi', 'Ferrari']\n"
     ]
    }
   ],
   "source": [
    "cars_list.insert(2, \"Nissan\")\n",
    "print(cars_list)"
   ]
  },
  {
   "cell_type": "code",
   "execution_count": 10,
   "id": "1e2db2c4",
   "metadata": {},
   "outputs": [
    {
     "name": "stdout",
     "output_type": "stream",
     "text": [
      "['Honda', 'Chevrolet', 'Nissan', 'Hyundai', 'Mitsubishi', 'Ferrari', 'Audi', 'Kia']\n"
     ]
    }
   ],
   "source": [
    "cars_list.extend([\"Audi\", \"Kia\"])\n",
    "print(cars_list)"
   ]
  },
  {
   "cell_type": "code",
   "execution_count": 11,
   "id": "9c88c7c2",
   "metadata": {},
   "outputs": [
    {
     "name": "stdout",
     "output_type": "stream",
     "text": [
      "['Honda', 'Chevrolet', 'Nissan', 'Hyundai', 'Mitsubishi', 'Ferrari', 'Audi', 'Kia', 'Mercedez', 'Toyota']\n"
     ]
    }
   ],
   "source": [
    "cars_list2 = [\"Mercedez\",\"Toyota\"]\n",
    "complete_cars_list = cars_list + cars_list2\n",
    "print(complete_cars_list)"
   ]
  },
  {
   "cell_type": "code",
   "execution_count": 12,
   "id": "4845d1bf",
   "metadata": {},
   "outputs": [
    {
     "data": {
      "text/plain": [
       "5"
      ]
     },
     "execution_count": 12,
     "metadata": {},
     "output_type": "execute_result"
    }
   ],
   "source": [
    "complete_cars_list.index(\"Ferrari\")"
   ]
  },
  {
   "cell_type": "code",
   "execution_count": 13,
   "id": "63e5bc92",
   "metadata": {},
   "outputs": [
    {
     "name": "stdout",
     "output_type": "stream",
     "text": [
      "['Honda', 'Chevrolet', 'Nissan', 'Hyundai', 'Mitsubishi', 'Audi', 'Kia', 'Mercedez', 'Toyota']\n"
     ]
    }
   ],
   "source": [
    "complete_cars_list.remove(\"Ferrari\")\n",
    "print(complete_cars_list)"
   ]
  },
  {
   "cell_type": "code",
   "execution_count": 14,
   "id": "7e7c02a0",
   "metadata": {},
   "outputs": [
    {
     "name": "stdout",
     "output_type": "stream",
     "text": [
      "['Honda', 'Chevrolet', 'Nissan', 'Hyundai', 'Mitsubishi', 'Audi', 'Kia', 'Mercedez', 'Toyota', 'Koenigsegg, Hennessey']\n"
     ]
    }
   ],
   "source": [
    "complete_cars_list += [\"Koenigsegg, Hennessey\"]\n",
    "print(complete_cars_list)"
   ]
  },
  {
   "cell_type": "code",
   "execution_count": 15,
   "id": "a2853e63",
   "metadata": {},
   "outputs": [
    {
     "data": {
      "text/plain": [
       "'Koenigsegg, Hennessey'"
      ]
     },
     "execution_count": 15,
     "metadata": {},
     "output_type": "execute_result"
    }
   ],
   "source": [
    "complete_cars_list.pop()"
   ]
  },
  {
   "cell_type": "code",
   "execution_count": 16,
   "id": "8f31cfb3",
   "metadata": {},
   "outputs": [
    {
     "name": "stdout",
     "output_type": "stream",
     "text": [
      "['Honda', 'Chevrolet', 'Nissan', 'Hyundai', 'Mitsubishi', 'Audi', 'Kia', 'Mercedez', 'Toyota', 'Koenigsegg', 'Hennessey']\n"
     ]
    }
   ],
   "source": [
    "complete_cars_list += [\"Koenigsegg\", \"Hennessey\"]\n",
    "print(complete_cars_list)"
   ]
  },
  {
   "cell_type": "code",
   "execution_count": 17,
   "id": "287574fa",
   "metadata": {},
   "outputs": [
    {
     "data": {
      "text/plain": [
       "['Audi',\n",
       " 'Chevrolet',\n",
       " 'Hennessey',\n",
       " 'Honda',\n",
       " 'Hyundai',\n",
       " 'Kia',\n",
       " 'Koenigsegg',\n",
       " 'Mercedez',\n",
       " 'Mitsubishi',\n",
       " 'Nissan',\n",
       " 'Toyota']"
      ]
     },
     "execution_count": 17,
     "metadata": {},
     "output_type": "execute_result"
    }
   ],
   "source": [
    "complete_cars_list.sort()\n",
    "complete_cars_list"
   ]
  },
  {
   "cell_type": "code",
   "execution_count": 18,
   "id": "7a1def10",
   "metadata": {},
   "outputs": [],
   "source": [
    "complete_cars_list.reverse()"
   ]
  },
  {
   "cell_type": "code",
   "execution_count": 19,
   "id": "16f988a0",
   "metadata": {},
   "outputs": [
    {
     "data": {
      "text/plain": [
       "['Toyota',\n",
       " 'Nissan',\n",
       " 'Mitsubishi',\n",
       " 'Mercedez',\n",
       " 'Koenigsegg',\n",
       " 'Kia',\n",
       " 'Hyundai',\n",
       " 'Honda',\n",
       " 'Hennessey',\n",
       " 'Chevrolet',\n",
       " 'Audi']"
      ]
     },
     "execution_count": 19,
     "metadata": {},
     "output_type": "execute_result"
    }
   ],
   "source": [
    "complete_cars_list"
   ]
  },
  {
   "cell_type": "code",
   "execution_count": 20,
   "id": "257d705a",
   "metadata": {},
   "outputs": [
    {
     "data": {
      "text/plain": [
       "1"
      ]
     },
     "execution_count": 20,
     "metadata": {},
     "output_type": "execute_result"
    }
   ],
   "source": [
    "complete_cars_list.count(\"Audi\")"
   ]
  },
  {
   "cell_type": "code",
   "execution_count": 28,
   "id": "a29f2996",
   "metadata": {},
   "outputs": [
    {
     "name": "stdout",
     "output_type": "stream",
     "text": [
      "['Toyota', 'Nissan', 'Mitsubishi', 'Mercedez', 'Koenigsegg', 'Kia', 'Hyundai', 'Honda', 'Hennessey', 'Chevrolet', 'Audi', 'Nissan', 'Nissan', 'Nissan', 'Nissan']\n"
     ]
    }
   ],
   "source": [
    "complete_cars_list2 = complete_cars_list\n",
    "print(complete_cars_list2)"
   ]
  },
  {
   "cell_type": "code",
   "execution_count": 33,
   "id": "1a29ddb4",
   "metadata": {},
   "outputs": [],
   "source": [
    "complete_cars_list2.clear()"
   ]
  },
  {
   "cell_type": "code",
   "execution_count": 34,
   "id": "54910931",
   "metadata": {},
   "outputs": [
    {
     "data": {
      "text/plain": [
       "[]"
      ]
     },
     "execution_count": 34,
     "metadata": {},
     "output_type": "execute_result"
    }
   ],
   "source": [
    "complete_cars_list2"
   ]
  },
  {
   "cell_type": "markdown",
   "id": "d3a32c01",
   "metadata": {},
   "source": [
    "#### Python Set\n",
    "A set contains unique list elements only. A set is enclosed in {}.\n",
    "\n",
    "A list can be converted into a set using the `set([elements])` method."
   ]
  },
  {
   "cell_type": "code",
   "execution_count": 40,
   "id": "f65d6430",
   "metadata": {},
   "outputs": [],
   "source": [
    "complete_cars_list = ['Toyota', 'Nissan', 'Mitsubishi', 'Mercedez', 'Koenigsegg', 'Kia', 'Hyundai', 'Honda', 'Hennessey', 'Chevrolet', 'Audi', 'Nissan', 'Nissan', 'Nissan', 'Nissan']"
   ]
  },
  {
   "cell_type": "code",
   "execution_count": 41,
   "id": "f460b76c",
   "metadata": {},
   "outputs": [
    {
     "data": {
      "text/plain": [
       "['Toyota',\n",
       " 'Nissan',\n",
       " 'Mitsubishi',\n",
       " 'Mercedez',\n",
       " 'Koenigsegg',\n",
       " 'Kia',\n",
       " 'Hyundai',\n",
       " 'Honda',\n",
       " 'Hennessey',\n",
       " 'Chevrolet',\n",
       " 'Audi',\n",
       " 'Nissan',\n",
       " 'Nissan',\n",
       " 'Nissan',\n",
       " 'Nissan']"
      ]
     },
     "execution_count": 41,
     "metadata": {},
     "output_type": "execute_result"
    }
   ],
   "source": [
    "complete_cars_list2 = complete_cars_list\n",
    "complete_cars_list2"
   ]
  },
  {
   "cell_type": "code",
   "execution_count": 42,
   "id": "3fabd53e",
   "metadata": {},
   "outputs": [
    {
     "data": {
      "text/plain": [
       "['Toyota',\n",
       " 'Nissan',\n",
       " 'Mitsubishi',\n",
       " 'Mercedez',\n",
       " 'Koenigsegg',\n",
       " 'Kia',\n",
       " 'Hyundai',\n",
       " 'Honda',\n",
       " 'Hennessey',\n",
       " 'Chevrolet',\n",
       " 'Audi',\n",
       " 'Nissan',\n",
       " 'Nissan',\n",
       " 'Nissan',\n",
       " 'Nissan']"
      ]
     },
     "execution_count": 42,
     "metadata": {},
     "output_type": "execute_result"
    }
   ],
   "source": [
    "set(complete_cars_list2)\n",
    "complete_cars_list2"
   ]
  },
  {
   "cell_type": "code",
   "execution_count": 43,
   "id": "0a39c5b6",
   "metadata": {},
   "outputs": [
    {
     "data": {
      "text/plain": [
       "{'Audi',\n",
       " 'Chevrolet',\n",
       " 'Hennessey',\n",
       " 'Honda',\n",
       " 'Hyundai',\n",
       " 'Kia',\n",
       " 'Koenigsegg',\n",
       " 'Mercedez',\n",
       " 'Mitsubishi',\n",
       " 'Nissan',\n",
       " 'Toyota'}"
      ]
     },
     "execution_count": 43,
     "metadata": {},
     "output_type": "execute_result"
    }
   ],
   "source": [
    "sample_set = set(complete_cars_list2)\n",
    "sample_set"
   ]
  },
  {
   "cell_type": "code",
   "execution_count": 44,
   "id": "ab84def5",
   "metadata": {},
   "outputs": [],
   "source": [
    "import copy"
   ]
  },
  {
   "cell_type": "code",
   "execution_count": 45,
   "id": "a37ce9ec",
   "metadata": {},
   "outputs": [],
   "source": [
    "new_cars_list = copy.deepcopy(complete_cars_list)"
   ]
  },
  {
   "cell_type": "code",
   "execution_count": 46,
   "id": "c0d44a4e",
   "metadata": {},
   "outputs": [],
   "source": [
    "del complete_cars_list"
   ]
  },
  {
   "cell_type": "code",
   "execution_count": 47,
   "id": "ef9facbe",
   "metadata": {},
   "outputs": [
    {
     "ename": "NameError",
     "evalue": "name 'complete_cars_list' is not defined",
     "output_type": "error",
     "traceback": [
      "\u001b[1;31m---------------------------------------------------------------------------\u001b[0m",
      "\u001b[1;31mNameError\u001b[0m                                 Traceback (most recent call last)",
      "Cell \u001b[1;32mIn[47], line 1\u001b[0m\n\u001b[1;32m----> 1\u001b[0m \u001b[43mcomplete_cars_list\u001b[49m\n",
      "\u001b[1;31mNameError\u001b[0m: name 'complete_cars_list' is not defined"
     ]
    }
   ],
   "source": [
    "complete_cars_list"
   ]
  },
  {
   "cell_type": "code",
   "execution_count": 48,
   "id": "a21ed9ae",
   "metadata": {},
   "outputs": [
    {
     "data": {
      "text/plain": [
       "['Toyota',\n",
       " 'Nissan',\n",
       " 'Mitsubishi',\n",
       " 'Mercedez',\n",
       " 'Koenigsegg',\n",
       " 'Kia',\n",
       " 'Hyundai',\n",
       " 'Honda',\n",
       " 'Hennessey',\n",
       " 'Chevrolet',\n",
       " 'Audi',\n",
       " 'Nissan',\n",
       " 'Nissan',\n",
       " 'Nissan',\n",
       " 'Nissan']"
      ]
     },
     "execution_count": 48,
     "metadata": {},
     "output_type": "execute_result"
    }
   ],
   "source": [
    "new_cars_list"
   ]
  },
  {
   "cell_type": "markdown",
   "id": "1b2b3599",
   "metadata": {},
   "source": [
    "### Built-in Functions with Lists\n",
    "\n",
    "- `sorted([elements])` - sorts the elements in a list in an ascending order\n",
    "- `sum([elements])` - returns the sum of all the elements in the list\n",
    "- `*=` operator - concatenates the whole list by the multiplier\n",
    "- `all([elements])` - checks that all elements are true; empty list will return a true value\n",
    "- `any([elements])` - returns true if atleast one of the elements is true; empty list will return a false value\n"
   ]
  },
  {
   "cell_type": "code",
   "execution_count": 1,
   "id": "41d178a1",
   "metadata": {},
   "outputs": [],
   "source": [
    "list_num = [20, 70, 80, 50, 30, 60, 40]"
   ]
  },
  {
   "cell_type": "code",
   "execution_count": 2,
   "id": "80475185",
   "metadata": {},
   "outputs": [
    {
     "data": {
      "text/plain": [
       "80"
      ]
     },
     "execution_count": 2,
     "metadata": {},
     "output_type": "execute_result"
    }
   ],
   "source": [
    "max(list_num)"
   ]
  },
  {
   "cell_type": "code",
   "execution_count": 3,
   "id": "4a4c7662",
   "metadata": {},
   "outputs": [
    {
     "data": {
      "text/plain": [
       "20"
      ]
     },
     "execution_count": 3,
     "metadata": {},
     "output_type": "execute_result"
    }
   ],
   "source": [
    "min(list_num)"
   ]
  },
  {
   "cell_type": "code",
   "execution_count": 5,
   "id": "6c766997",
   "metadata": {},
   "outputs": [
    {
     "data": {
      "text/plain": [
       "7"
      ]
     },
     "execution_count": 5,
     "metadata": {},
     "output_type": "execute_result"
    }
   ],
   "source": [
    "len(list_num)"
   ]
  },
  {
   "cell_type": "code",
   "execution_count": 6,
   "id": "2faabd50",
   "metadata": {},
   "outputs": [
    {
     "data": {
      "text/plain": [
       "[20, 30, 40, 50, 60, 70, 80]"
      ]
     },
     "execution_count": 6,
     "metadata": {},
     "output_type": "execute_result"
    }
   ],
   "source": [
    "list_num.sort()\n",
    "list_num"
   ]
  },
  {
   "cell_type": "code",
   "execution_count": 7,
   "id": "8fd237ac",
   "metadata": {},
   "outputs": [
    {
     "data": {
      "text/plain": [
       "[20, 30, 40, 50, 60, 70, 80, 25]"
      ]
     },
     "execution_count": 7,
     "metadata": {},
     "output_type": "execute_result"
    }
   ],
   "source": [
    "list_num.append(25)\n",
    "list_num"
   ]
  },
  {
   "cell_type": "code",
   "execution_count": 8,
   "id": "ee7a5e6b",
   "metadata": {},
   "outputs": [
    {
     "data": {
      "text/plain": [
       "[20, 25, 30, 40, 50, 60, 70, 80]"
      ]
     },
     "execution_count": 8,
     "metadata": {},
     "output_type": "execute_result"
    }
   ],
   "source": [
    "sorted_list_num = sorted(list_num)\n",
    "sorted_list_num"
   ]
  },
  {
   "cell_type": "code",
   "execution_count": 9,
   "id": "4010fa6c",
   "metadata": {},
   "outputs": [
    {
     "name": "stdout",
     "output_type": "stream",
     "text": [
      "[20, 30, 40, 50, 60, 70, 80, 25]\n",
      "[20, 25, 30, 40, 50, 60, 70, 80]\n"
     ]
    }
   ],
   "source": [
    "print(list_num)\n",
    "print(sorted_list_num)"
   ]
  },
  {
   "cell_type": "code",
   "execution_count": 10,
   "id": "3f7c2ca7",
   "metadata": {},
   "outputs": [
    {
     "data": {
      "text/plain": [
       "375"
      ]
     },
     "execution_count": 10,
     "metadata": {},
     "output_type": "execute_result"
    }
   ],
   "source": [
    "sum(list_num)"
   ]
  },
  {
   "cell_type": "code",
   "execution_count": 11,
   "id": "929d2658",
   "metadata": {},
   "outputs": [],
   "source": [
    "list_num *= 2"
   ]
  },
  {
   "cell_type": "code",
   "execution_count": 12,
   "id": "02bc492d",
   "metadata": {},
   "outputs": [
    {
     "data": {
      "text/plain": [
       "[20, 30, 40, 50, 60, 70, 80, 25, 20, 30, 40, 50, 60, 70, 80, 25]"
      ]
     },
     "execution_count": 12,
     "metadata": {},
     "output_type": "execute_result"
    }
   ],
   "source": [
    "list_num"
   ]
  },
  {
   "cell_type": "code",
   "execution_count": 13,
   "id": "be38ff25",
   "metadata": {},
   "outputs": [
    {
     "data": {
      "text/plain": [
       "False"
      ]
     },
     "execution_count": 13,
     "metadata": {},
     "output_type": "execute_result"
    }
   ],
   "source": [
    "all([0])"
   ]
  },
  {
   "cell_type": "code",
   "execution_count": 14,
   "id": "b6eda777",
   "metadata": {},
   "outputs": [
    {
     "data": {
      "text/plain": [
       "True"
      ]
     },
     "execution_count": 14,
     "metadata": {},
     "output_type": "execute_result"
    }
   ],
   "source": [
    "all([1])"
   ]
  },
  {
   "cell_type": "code",
   "execution_count": 15,
   "id": "e417b86b",
   "metadata": {},
   "outputs": [
    {
     "data": {
      "text/plain": [
       "False"
      ]
     },
     "execution_count": 15,
     "metadata": {},
     "output_type": "execute_result"
    }
   ],
   "source": [
    "all([0,1])"
   ]
  },
  {
   "cell_type": "code",
   "execution_count": 16,
   "id": "d1703245",
   "metadata": {},
   "outputs": [
    {
     "data": {
      "text/plain": [
       "False"
      ]
     },
     "execution_count": 16,
     "metadata": {},
     "output_type": "execute_result"
    }
   ],
   "source": [
    "any([0])"
   ]
  },
  {
   "cell_type": "code",
   "execution_count": 17,
   "id": "5e907337",
   "metadata": {},
   "outputs": [
    {
     "data": {
      "text/plain": [
       "True"
      ]
     },
     "execution_count": 17,
     "metadata": {},
     "output_type": "execute_result"
    }
   ],
   "source": [
    "any([0,1])"
   ]
  },
  {
   "cell_type": "code",
   "execution_count": 18,
   "id": "408032b9",
   "metadata": {},
   "outputs": [
    {
     "data": {
      "text/plain": [
       "False"
      ]
     },
     "execution_count": 18,
     "metadata": {},
     "output_type": "execute_result"
    }
   ],
   "source": [
    "any([])"
   ]
  },
  {
   "cell_type": "code",
   "execution_count": null,
   "id": "e33323ad",
   "metadata": {},
   "outputs": [],
   "source": []
  }
 ],
 "metadata": {
  "kernelspec": {
   "display_name": "Python 3 (ipykernel)",
   "language": "python",
   "name": "python3"
  },
  "language_info": {
   "codemirror_mode": {
    "name": "ipython",
    "version": 3
   },
   "file_extension": ".py",
   "mimetype": "text/x-python",
   "name": "python",
   "nbconvert_exporter": "python",
   "pygments_lexer": "ipython3",
   "version": "3.9.12"
  }
 },
 "nbformat": 4,
 "nbformat_minor": 5
}
