{
 "cells": [
  {
   "cell_type": "code",
   "execution_count": 2,
   "id": "698077b8",
   "metadata": {},
   "outputs": [
    {
     "name": "stdout",
     "output_type": "stream",
     "text": [
      "H\n",
      "e\n",
      "l\n",
      "l\n",
      "o\n"
     ]
    }
   ],
   "source": [
    "for letter in \"Hello\":\n",
    "    print(letter)"
   ]
  },
  {
   "cell_type": "code",
   "execution_count": 3,
   "id": "271244ea",
   "metadata": {},
   "outputs": [
    {
     "name": "stdout",
     "output_type": "stream",
     "text": [
      "H\n",
      "e\n",
      "l\n",
      "l\n",
      "o\n",
      " \n",
      "W\n",
      "o\n",
      "r\n",
      "l\n",
      "d\n"
     ]
    }
   ],
   "source": [
    "my_string = \"Hello World\"\n",
    "\n",
    "for char in my_string:\n",
    "    print(char)"
   ]
  },
  {
   "cell_type": "code",
   "execution_count": 4,
   "id": "8ef58427",
   "metadata": {},
   "outputs": [
    {
     "name": "stdout",
     "output_type": "stream",
     "text": [
      "1\n",
      "0\n"
     ]
    }
   ],
   "source": [
    "for digit in \"10\":\n",
    "    print(digit)"
   ]
  },
  {
   "cell_type": "code",
   "execution_count": 5,
   "id": "507f4620",
   "metadata": {},
   "outputs": [
    {
     "ename": "TypeError",
     "evalue": "'int' object is not iterable",
     "output_type": "error",
     "traceback": [
      "\u001b[1;31m---------------------------------------------------------------------------\u001b[0m",
      "\u001b[1;31mTypeError\u001b[0m                                 Traceback (most recent call last)",
      "Cell \u001b[1;32mIn[5], line 1\u001b[0m\n\u001b[1;32m----> 1\u001b[0m \u001b[38;5;28;01mfor\u001b[39;00m digit \u001b[38;5;129;01min\u001b[39;00m \u001b[38;5;241m10\u001b[39m:\n\u001b[0;32m      2\u001b[0m     \u001b[38;5;28mprint\u001b[39m(digit)\n",
      "\u001b[1;31mTypeError\u001b[0m: 'int' object is not iterable"
     ]
    }
   ],
   "source": [
    "for digit in 10:\n",
    "    print(digit)"
   ]
  },
  {
   "cell_type": "code",
   "execution_count": 6,
   "id": "43fc4dc4",
   "metadata": {},
   "outputs": [
    {
     "name": "stdout",
     "output_type": "stream",
     "text": [
      "Germany\n",
      "India\n",
      "Israel\n"
     ]
    }
   ],
   "source": [
    "for country in \"Germany\", \"India\", \"Israel\":\n",
    "    print(country)"
   ]
  },
  {
   "cell_type": "code",
   "execution_count": 7,
   "id": "1be4a860",
   "metadata": {},
   "outputs": [
    {
     "name": "stdout",
     "output_type": "stream",
     "text": [
      "It's a Pug.\n",
      "It's a Doberman.\n",
      "It's a Golden Retriever.\n"
     ]
    }
   ],
   "source": [
    "dogs = (\"Pug\", \"Doberman\", \"Golden Retriever\")\n",
    "\n",
    "for dog in dogs:\n",
    "    print(f\"It's a {dog}.\")"
   ]
  },
  {
   "cell_type": "markdown",
   "id": "190f1252",
   "metadata": {},
   "source": [
    "### Enumerate\n",
    "\n",
    "The enumerate() function adds a counter to an iterable and returns it (the enumerate object)."
   ]
  },
  {
   "cell_type": "code",
   "execution_count": 19,
   "id": "c4e80475",
   "metadata": {},
   "outputs": [
    {
     "name": "stdout",
     "output_type": "stream",
     "text": [
      "((0, ('Pug', 20)), (1, ('Doberman', 80)), (2, ('Golden Retriever', 55)))\n",
      "The dog at index 0 is a Pug weighing 20 pounds.\n",
      "The dog at index 1 is a Doberman weighing 80 pounds.\n",
      "The dog at index 2 is a Golden Retriever weighing 55 pounds.\n"
     ]
    }
   ],
   "source": [
    "dog_weight = ((\"Pug\", 20),\n",
    "             (\"Doberman\", 80),\n",
    "             (\"Golden Retriever\", 55))\n",
    "\n",
    "dogs = enumerate(dog_weight)\n",
    "print(tuple(dogs))\n",
    "\n",
    "for i, (dog, weight) in enumerate(dog_weight):\n",
    "    print(f\"The dog at index {i} is a {dog} weighing {weight} pounds.\")"
   ]
  },
  {
   "cell_type": "code",
   "execution_count": 20,
   "id": "b0f27872",
   "metadata": {},
   "outputs": [
    {
     "name": "stdout",
     "output_type": "stream",
     "text": [
      "Happy New Year,  John\n",
      "Happy New Year,  Sam\n",
      "Happy New Year,  Jill\n"
     ]
    }
   ],
   "source": [
    "friends = [\"John\", \"Sam\", \"Jill\"]\n",
    "\n",
    "for friend in friends:\n",
    "    print(\"Happy New Year, \", friend)"
   ]
  },
  {
   "cell_type": "code",
   "execution_count": 23,
   "id": "ddfc2bc3",
   "metadata": {},
   "outputs": [
    {
     "name": "stdout",
     "output_type": "stream",
     "text": [
      "John\n",
      "Sam\n",
      "Jill\n",
      "Bob\n",
      "80\n",
      "60\n",
      "50\n",
      "96\n"
     ]
    }
   ],
   "source": [
    "student_scores = {\"John\": 80,\n",
    "                 \"Sam\": 60,\n",
    "                 \"Jill\": 50,\n",
    "                 \"Bob\": 96}\n",
    "\n",
    "for student in student_scores:\n",
    "    print(student)\n",
    "    \n",
    "for student in student_scores.values():\n",
    "    print(student)"
   ]
  },
  {
   "cell_type": "code",
   "execution_count": 24,
   "id": "66542892",
   "metadata": {},
   "outputs": [
    {
     "name": "stdout",
     "output_type": "stream",
     "text": [
      "John : 80\n",
      "Sam : 60\n",
      "Jill : 50\n",
      "Bob : 96\n"
     ]
    }
   ],
   "source": [
    "student_scores = {\"John\": 80,\n",
    "                 \"Sam\": 60,\n",
    "                 \"Jill\": 50,\n",
    "                 \"Bob\": 96}\n",
    "\n",
    "for student in student_scores:\n",
    "    print(student, \":\", student_scores[student])"
   ]
  },
  {
   "cell_type": "code",
   "execution_count": 25,
   "id": "cda1566b",
   "metadata": {},
   "outputs": [
    {
     "data": {
      "text/plain": [
       "dict_items([('John', 80), ('Sam', 60), ('Jill', 50), ('Bob', 96)])"
      ]
     },
     "execution_count": 25,
     "metadata": {},
     "output_type": "execute_result"
    }
   ],
   "source": [
    "student_scores.items()"
   ]
  },
  {
   "cell_type": "code",
   "execution_count": 31,
   "id": "d2c5751d",
   "metadata": {},
   "outputs": [
    {
     "name": "stdout",
     "output_type": "stream",
     "text": [
      "('John', 80)\n",
      "('Sam', 60)\n",
      "('Jill', 50)\n",
      "('Bob', 96)\n",
      "\n",
      "\n",
      "John : 80\n",
      "Sam : 60\n",
      "Jill : 50\n",
      "Bob : 96\n"
     ]
    }
   ],
   "source": [
    "student_scores = {\"John\": 80,\n",
    "                 \"Sam\": 60,\n",
    "                 \"Jill\": 50,\n",
    "                 \"Bob\": 96}\n",
    "\n",
    "for student in student_scores.items():\n",
    "    print(student)\n",
    "    \n",
    "print(\"\\n\")\n",
    "\n",
    "for student, score in student_scores.items():\n",
    "    print(student, \":\", score)"
   ]
  },
  {
   "cell_type": "code",
   "execution_count": 34,
   "id": "e992b97d",
   "metadata": {},
   "outputs": [
    {
     "name": "stdout",
     "output_type": "stream",
     "text": [
      "4 / 2 is  2\n",
      "6 / 2 is  3\n",
      "9 / 2 is  4\n",
      "10 / 2 is  5\n"
     ]
    }
   ],
   "source": [
    "numbers = [4, 6, 9, 10]\n",
    "\n",
    "for num in numbers:\n",
    "    quotient = num // 2\n",
    "    print(num,\"/ 2 is \", quotient)"
   ]
  },
  {
   "cell_type": "code",
   "execution_count": 35,
   "id": "a49962ec",
   "metadata": {},
   "outputs": [
    {
     "name": "stdout",
     "output_type": "stream",
     "text": [
      "145 : <class 'int'>\n",
      "10.5 : <class 'float'>\n",
      "(1+3j) : <class 'complex'>\n",
      "True : <class 'bool'>\n",
      "Python : <class 'str'>\n",
      "(0, 1) : <class 'tuple'>\n",
      "[2, -5] : <class 'list'>\n",
      "{'Class': 'V', 'Section': 'A'} : <class 'dict'>\n"
     ]
    }
   ],
   "source": [
    "mixed_list = [145, 10.5, 1+3j, True, \"Python\", (0, 1), [2, -5], {\"Class\": \"V\", \"Section\": \"A\"}]\n",
    "\n",
    "for items in mixed_list:\n",
    "    print(items, \":\", type(items))"
   ]
  },
  {
   "cell_type": "code",
   "execution_count": 37,
   "id": "f64fc7bc",
   "metadata": {},
   "outputs": [
    {
     "name": "stdout",
     "output_type": "stream",
     "text": [
      "Pug20\n",
      "Doberman80\n",
      "Golden Retriever55\n"
     ]
    }
   ],
   "source": [
    "dog_weight = ((\"Pug\", 20),\n",
    "             (\"Doberman\", 80),\n",
    "             (\"Golden Retriever\", 55))\n",
    "\n",
    "for name, age in dog_weight:\n",
    "    print(name + str(age))"
   ]
  },
  {
   "cell_type": "code",
   "execution_count": 39,
   "id": "2d456a77",
   "metadata": {},
   "outputs": [
    {
     "name": "stdout",
     "output_type": "stream",
     "text": [
      "Enter a string: hello\n",
      "5\n"
     ]
    }
   ],
   "source": [
    "string = input(\"Enter a string: \")\n",
    "\n",
    "count = 0\n",
    "\n",
    "for char in string:\n",
    "    count += 1\n",
    "    \n",
    "print(count)"
   ]
  },
  {
   "cell_type": "code",
   "execution_count": 40,
   "id": "f216f53b",
   "metadata": {},
   "outputs": [
    {
     "name": "stdout",
     "output_type": "stream",
     "text": [
      "2\n",
      "3\n",
      "5\n",
      "7\n",
      "No more items left in the list.\n"
     ]
    }
   ],
   "source": [
    "numbers = [2, 3, 5, 7]\n",
    "\n",
    "for num in numbers:\n",
    "    print(num)\n",
    "    \n",
    "else:\n",
    "    print(\"No more items left in the list.\")"
   ]
  },
  {
   "cell_type": "code",
   "execution_count": 42,
   "id": "90f32bfa",
   "metadata": {},
   "outputs": [
    {
     "name": "stdout",
     "output_type": "stream",
     "text": [
      "New York is in the list.\n"
     ]
    }
   ],
   "source": [
    "us_cities = [\"New York\", \"Nashville\", \"Seattle\"]\n",
    "\n",
    "for city in us_cities:\n",
    "    if city == \"New York\":\n",
    "        print(\"New York is in the list.\")"
   ]
  },
  {
   "cell_type": "code",
   "execution_count": 43,
   "id": "9032b9b7",
   "metadata": {},
   "outputs": [
    {
     "name": "stdout",
     "output_type": "stream",
     "text": [
      "2016 is a leap year.\n",
      "2017 is not a leap year.\n",
      "2018 is not a leap year.\n",
      "2019 is not a leap year.\n",
      "2020 is a leap year.\n"
     ]
    }
   ],
   "source": [
    "years = [2016, 2017, 2018, 2019, 2020]\n",
    "\n",
    "for year in years:\n",
    "    if year % 4 == 0:\n",
    "        print(year, \"is a leap year.\")\n",
    "    else:\n",
    "        print(year, \"is not a leap year.\")"
   ]
  },
  {
   "cell_type": "code",
   "execution_count": 44,
   "id": "56ad78a8",
   "metadata": {},
   "outputs": [
    {
     "name": "stdout",
     "output_type": "stream",
     "text": [
      "['Mary', 'Linda', 'Jessica']\n",
      "['James', 'Jacob', 'William']\n"
     ]
    }
   ],
   "source": [
    "names = [[\"Mary\", \"Linda\", \"Jessica\"],\n",
    "        [\"James\", \"Jacob\",\"William\"]]\n",
    "\n",
    "for sublist in names:\n",
    "    print (sublist)"
   ]
  },
  {
   "cell_type": "code",
   "execution_count": 45,
   "id": "eda5159e",
   "metadata": {},
   "outputs": [
    {
     "name": "stdout",
     "output_type": "stream",
     "text": [
      "Mary\n",
      "Linda\n",
      "Jessica\n",
      "James\n",
      "Jacob\n",
      "William\n"
     ]
    }
   ],
   "source": [
    "names = [[\"Mary\", \"Linda\", \"Jessica\"],\n",
    "        [\"James\", \"Jacob\",\"William\"]]\n",
    "\n",
    "for x, y, z in names:\n",
    "    print(x)\n",
    "    print(y)\n",
    "    print(z)"
   ]
  },
  {
   "cell_type": "code",
   "execution_count": 47,
   "id": "3a3a3a4d",
   "metadata": {},
   "outputs": [
    {
     "name": "stdout",
     "output_type": "stream",
     "text": [
      "Mary\n",
      "Linda\n",
      "Jessica\n",
      "James\n",
      "Jacob\n"
     ]
    }
   ],
   "source": [
    "names = [[\"Mary\", \"Linda\", \"Jessica\"],\n",
    "        [\"James\", \"Jacob\"]]\n",
    "\n",
    "for sublist in names:\n",
    "    for name in sublist:\n",
    "        print(name)"
   ]
  },
  {
   "cell_type": "code",
   "execution_count": 50,
   "id": "9b76ce04",
   "metadata": {},
   "outputs": [
    {
     "name": "stdout",
     "output_type": "stream",
     "text": [
      "Red Pen\n",
      "Red Marker\n",
      "Red Pencil\n",
      "Red Pad\n",
      "Green Pen\n",
      "Green Marker\n",
      "Green Pencil\n",
      "Green Pad\n",
      "Blue Pen\n",
      "Blue Marker\n",
      "Blue Pencil\n",
      "Blue Pad\n",
      "12\n"
     ]
    }
   ],
   "source": [
    "color_list = [\"Red\", \"Green\", \"Blue\"]\n",
    "obj_list = [\"Pen\", \"Marker\", \"Pencil\", \"Pad\"]\n",
    "\n",
    "combinations = 0\n",
    "\n",
    "for color in color_list:\n",
    "    for obj in obj_list:\n",
    "        print(color, obj)\n",
    "        combinations += 1\n",
    "\n",
    "print(combinations)"
   ]
  },
  {
   "cell_type": "code",
   "execution_count": null,
   "id": "ea7415c0",
   "metadata": {},
   "outputs": [],
   "source": []
  }
 ],
 "metadata": {
  "kernelspec": {
   "display_name": "Python 3 (ipykernel)",
   "language": "python",
   "name": "python3"
  },
  "language_info": {
   "codemirror_mode": {
    "name": "ipython",
    "version": 3
   },
   "file_extension": ".py",
   "mimetype": "text/x-python",
   "name": "python",
   "nbconvert_exporter": "python",
   "pygments_lexer": "ipython3",
   "version": "3.11.3"
  }
 },
 "nbformat": 4,
 "nbformat_minor": 5
}
