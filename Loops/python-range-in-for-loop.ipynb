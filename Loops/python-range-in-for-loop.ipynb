{
 "cells": [
  {
   "cell_type": "markdown",
   "id": "1d3bb1f8",
   "metadata": {},
   "source": [
    "### Range Function\n",
    "\n",
    "range(start, stop(exclusive), step)"
   ]
  },
  {
   "cell_type": "code",
   "execution_count": 1,
   "id": "700b7fab",
   "metadata": {},
   "outputs": [
    {
     "data": {
      "text/plain": [
       "range(0, 5)"
      ]
     },
     "execution_count": 1,
     "metadata": {},
     "output_type": "execute_result"
    }
   ],
   "source": [
    "my_range = range(5)\n",
    "\n",
    "my_range"
   ]
  },
  {
   "cell_type": "code",
   "execution_count": 2,
   "id": "4e43f25a",
   "metadata": {},
   "outputs": [
    {
     "data": {
      "text/plain": [
       "(0, 1, 2, 3, 4)"
      ]
     },
     "execution_count": 2,
     "metadata": {},
     "output_type": "execute_result"
    }
   ],
   "source": [
    "tuple(my_range)"
   ]
  },
  {
   "cell_type": "code",
   "execution_count": 4,
   "id": "5d5d9c3b",
   "metadata": {},
   "outputs": [
    {
     "data": {
      "text/plain": [
       "(3, 5, 7, 9, 11)"
      ]
     },
     "execution_count": 4,
     "metadata": {},
     "output_type": "execute_result"
    }
   ],
   "source": [
    "tuple(range(3,12,2))"
   ]
  },
  {
   "cell_type": "code",
   "execution_count": 5,
   "id": "376f7cfb",
   "metadata": {},
   "outputs": [
    {
     "name": "stdout",
     "output_type": "stream",
     "text": [
      "0\n",
      "1\n",
      "2\n",
      "3\n",
      "4\n",
      "5\n"
     ]
    }
   ],
   "source": [
    "for i in range(6):\n",
    "    print(i)"
   ]
  },
  {
   "cell_type": "code",
   "execution_count": 2,
   "id": "3e296371",
   "metadata": {},
   "outputs": [
    {
     "name": "stdout",
     "output_type": "stream",
     "text": [
      "0 A\n",
      "2 C\n",
      "4 E\n",
      "6 G\n",
      "8 I\n",
      "10 K\n",
      "12 M\n",
      "14 O\n"
     ]
    }
   ],
   "source": [
    "my_string = \"ABCDEFGHIJKLMNOP\"\n",
    "\n",
    "for i, char in enumerate(my_string):\n",
    "    for index in range (0, len(my_string), 2):\n",
    "        if i == index:\n",
    "            print(i, char)\n",
    "    \n"
   ]
  },
  {
   "cell_type": "markdown",
   "id": "ea78b395",
   "metadata": {},
   "source": [
    "#### Factorial"
   ]
  },
  {
   "cell_type": "code",
   "execution_count": 6,
   "id": "316385f3",
   "metadata": {},
   "outputs": [
    {
     "name": "stdout",
     "output_type": "stream",
     "text": [
      "Enter a number: 7\n",
      "1 1\n",
      "2 2\n",
      "3 6\n",
      "4 24\n",
      "5 120\n",
      "6 720\n",
      "7 5040\n"
     ]
    }
   ],
   "source": [
    "num = int(input(\"Enter a number: \"))\n",
    "\n",
    "factorial = 1\n",
    "for i in range(1, num + 1):\n",
    "    factorial *= i\n",
    "    print(i, factorial)"
   ]
  },
  {
   "cell_type": "code",
   "execution_count": 8,
   "id": "f32f5359",
   "metadata": {},
   "outputs": [
    {
     "name": "stdout",
     "output_type": "stream",
     "text": [
      "[4, 3, 2, 1, 0]\n"
     ]
    }
   ],
   "source": [
    "x = range(5)\n",
    "y = reversed(x)\n",
    "\n",
    "print(list(y))"
   ]
  },
  {
   "cell_type": "code",
   "execution_count": 9,
   "id": "fc252483",
   "metadata": {},
   "outputs": [
    {
     "data": {
      "text/plain": [
       "(5, 3, 1, -1, -3, -5, -7, -9)"
      ]
     },
     "execution_count": 9,
     "metadata": {},
     "output_type": "execute_result"
    }
   ],
   "source": [
    "tuple(range(5, -10, -2))"
   ]
  },
  {
   "cell_type": "code",
   "execution_count": 10,
   "id": "09766f60",
   "metadata": {},
   "outputs": [
    {
     "name": "stdout",
     "output_type": "stream",
     "text": [
      "[3, 5, 6, 9, 10, 12, 15, 18, 20]\n"
     ]
    }
   ],
   "source": [
    "num_list = []\n",
    "\n",
    "for i in range(1, 21):\n",
    "    if (i%3 == 0 or i%5 == 0):\n",
    "        num_list.append(i)\n",
    "        \n",
    "print(num_list)"
   ]
  },
  {
   "cell_type": "code",
   "execution_count": 16,
   "id": "906a1c59",
   "metadata": {},
   "outputs": [
    {
     "name": "stdout",
     "output_type": "stream",
     "text": [
      "200, 202, 204, 206, 208, 220, 222, 224, 226, 228, 240, 242, 244, 246, 248, 260, 262, 264, 266, 268, 280, 282, 284, 286, 288\n"
     ]
    }
   ],
   "source": [
    "items = []\n",
    "\n",
    "for i in range(100, 301):\n",
    "    \n",
    "    num_str = str(i)\n",
    "    \n",
    "    first_digit = int(num_str[0])\n",
    "    second_digit = int(num_str[1])\n",
    "    third_digit = int(num_str[2])\n",
    "    if (first_digit % 2 == 0) and (second_digit % 2 == 0) and (third_digit % 2 == 0):\n",
    "        items.append(num_str)\n",
    "\n",
    "print(\", \".join(items))"
   ]
  },
  {
   "cell_type": "code",
   "execution_count": 26,
   "id": "93fc73fc",
   "metadata": {},
   "outputs": [
    {
     "name": "stdout",
     "output_type": "stream",
     "text": [
      "num =  1 : 1  2  3  4  5  6  7  8  9 \n",
      "num =  2 : 2  4  6  8 10 12 14 16 18 \n",
      "num =  3 : 3  6  9 12 15 18 21 24 27 \n",
      "num =  4 : 4  8 12 16 20 24 28 32 36 \n",
      "num =  5 : 5 10 15 20 25 30 35 40 45 \n",
      "num =  6 : 6 12 18 24 30 36 42 48 54 \n",
      "num =  7 : 7 14 21 28 35 42 49 56 63 \n",
      "num =  8 : 8 16 24 32 40 48 56 64 72 \n",
      "num =  9 : 9 18 27 36 45 54 63 72 81 \n"
     ]
    }
   ],
   "source": [
    "for num_1 in range(1, 10):\n",
    "    print(\"num = \", num_1, end = \" :\")\n",
    "    \n",
    "    for num_2 in range(1, 10):\n",
    "        print(\"{:2d}\" .format(num_1 * num_2), end = \" \")\n",
    "    \n",
    "    print()\n",
    "        "
   ]
  },
  {
   "cell_type": "markdown",
   "id": "451706ba",
   "metadata": {},
   "source": [
    "Print the cubes of all the elements in a list using a for-loop"
   ]
  },
  {
   "cell_type": "code",
   "execution_count": 33,
   "id": "eb4f9045",
   "metadata": {},
   "outputs": [
    {
     "name": "stdout",
     "output_type": "stream",
     "text": [
      "1\n",
      "8\n",
      "27\n",
      "64\n",
      "125\n",
      "216\n"
     ]
    }
   ],
   "source": [
    "num_list = [1, 2, 3, 4, 5, 6]\n",
    "\n",
    "for num in num_list:\n",
    "    print(num**3)"
   ]
  },
  {
   "cell_type": "markdown",
   "id": "e848c056",
   "metadata": {},
   "source": [
    "Given the following 2-D list, create a 1-D list containing all of the automobile company names"
   ]
  },
  {
   "cell_type": "code",
   "execution_count": 30,
   "id": "6042ba56",
   "metadata": {},
   "outputs": [
    {
     "name": "stdout",
     "output_type": "stream",
     "text": [
      "['Volkswagen', 'Mercedes', 'BMW', 'Honda', 'Toyota', 'Mazda']\n"
     ]
    }
   ],
   "source": [
    "cars = [[\"Volkswagen\", \"Mercedes\", \"BMW\"],\n",
    "       [\"Honda\", \"Toyota\", \"Mazda\"]]\n",
    "\n",
    "new_cars = []\n",
    "\n",
    "for sublist in cars:\n",
    "    for car in sublist:\n",
    "        new_cars.append(car)\n",
    "        \n",
    "print(new_cars)"
   ]
  },
  {
   "cell_type": "code",
   "execution_count": 32,
   "id": "7d6a0af1",
   "metadata": {},
   "outputs": [
    {
     "name": "stdout",
     "output_type": "stream",
     "text": [
      "2000\n",
      "2004\n",
      "2008\n",
      "2012\n",
      "2016\n",
      "2020\n",
      "2024\n",
      "2028\n",
      "2032\n",
      "2036\n",
      "2040\n",
      "2044\n",
      "2048\n",
      "2052\n",
      "2056\n",
      "2060\n",
      "2064\n",
      "2068\n",
      "2072\n",
      "2076\n",
      "2080\n",
      "2084\n",
      "2088\n",
      "2092\n",
      "2096\n"
     ]
    }
   ],
   "source": [
    "years = range(2000,2100)\n",
    "\n",
    "for year in years:\n",
    "    if year % 4 == 0:\n",
    "        print(year)"
   ]
  },
  {
   "cell_type": "code",
   "execution_count": null,
   "id": "048f0f2c",
   "metadata": {},
   "outputs": [],
   "source": []
  }
 ],
 "metadata": {
  "kernelspec": {
   "display_name": "Python 3 (ipykernel)",
   "language": "python",
   "name": "python3"
  },
  "language_info": {
   "codemirror_mode": {
    "name": "ipython",
    "version": 3
   },
   "file_extension": ".py",
   "mimetype": "text/x-python",
   "name": "python",
   "nbconvert_exporter": "python",
   "pygments_lexer": "ipython3",
   "version": "3.11.3"
  }
 },
 "nbformat": 4,
 "nbformat_minor": 5
}
