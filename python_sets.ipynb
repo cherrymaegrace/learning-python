{
 "cells": [
  {
   "cell_type": "markdown",
   "id": "42827b58",
   "metadata": {},
   "source": [
    "### Sets\n",
    "\n",
    "Sets are collection of elements that have no intrinsic order and no repeating values.\n",
    "\n",
    "When initializing an empty set, use the `set()` function.\n",
    "\n",
    "Lists and dictionaries cannot be added in a set because sets can only contain immutable elements."
   ]
  },
  {
   "cell_type": "code",
   "execution_count": 1,
   "id": "1d640629",
   "metadata": {},
   "outputs": [],
   "source": [
    "set_string = {\"Emma\", \"Olivia\", \"Ava\", \"Mia\"}"
   ]
  },
  {
   "cell_type": "code",
   "execution_count": 2,
   "id": "213bd1f7",
   "metadata": {},
   "outputs": [
    {
     "name": "stdout",
     "output_type": "stream",
     "text": [
      "{'Olivia', 'Mia', 'Ava', 'Emma'}\n"
     ]
    }
   ],
   "source": [
    "print(set_string)"
   ]
  },
  {
   "cell_type": "code",
   "execution_count": 3,
   "id": "55679435",
   "metadata": {},
   "outputs": [
    {
     "data": {
      "text/plain": [
       "set()"
      ]
     },
     "execution_count": 3,
     "metadata": {},
     "output_type": "execute_result"
    }
   ],
   "source": [
    "empty_set = set()\n",
    "empty_set"
   ]
  },
  {
   "cell_type": "code",
   "execution_count": 4,
   "id": "c05da8c1",
   "metadata": {},
   "outputs": [
    {
     "data": {
      "text/plain": [
       "{(1, 2, 3), 1.5, 5, 'Emma', True}"
      ]
     },
     "execution_count": 4,
     "metadata": {},
     "output_type": "execute_result"
    }
   ],
   "source": [
    "mixed_set1 = {\"Emma\", 5, 1.5, True, (1,2,3)}\n",
    "mixed_set1"
   ]
  },
  {
   "cell_type": "markdown",
   "id": "671d3fb1",
   "metadata": {},
   "source": [
    "#### Operations involving sets\n",
    "\n",
    "- `.add()` - adds an element to a set\n",
    "- `len()` - returns the number of elements in a set\n",
    "- `.discard()` - removes an element from a set\n",
    "- `.remove()` - removes an element from a set; throws a KeyError if you pass in an element that does not exist in the set\n",
    "- `.union()` - combines sets\n",
    "- `.intersection()` - returns a set of common elements from the original sets\n",
    "- `set1.difference(set2)` - returns a set of elements from set_1 excluding elements that are common with set2\n",
    "- `set1.intersection_update(set2)` - returns a set of common elements between the two sets and stores the result to set1\n",
    "- `.isdisjoint()` - returns true if there are no common elements between two sets\n",
    "- `.issubset()` - returns true if a smaller set is part of a bigger set\n",
    "- `.issuperset()` - returns true if a bigger set contains a smaller set"
   ]
  },
  {
   "cell_type": "code",
   "execution_count": 5,
   "id": "0b77a5ae",
   "metadata": {},
   "outputs": [],
   "source": [
    "teachers_set = {\"Emma\", \"Olivia\", \"Ava\", \"Mia\", \"Avery\", \"Jacob\", \"Daniel\"}"
   ]
  },
  {
   "cell_type": "code",
   "execution_count": 6,
   "id": "e3f806a4",
   "metadata": {},
   "outputs": [
    {
     "data": {
      "text/plain": [
       "{'Ava', 'Avery', 'Daniel', 'Emma', 'Jacob', 'Mia', 'Olivia'}"
      ]
     },
     "execution_count": 6,
     "metadata": {},
     "output_type": "execute_result"
    }
   ],
   "source": [
    "teachers_set"
   ]
  },
  {
   "cell_type": "code",
   "execution_count": 7,
   "id": "41b60c55",
   "metadata": {},
   "outputs": [
    {
     "data": {
      "text/plain": [
       "{'Ava', 'Avery', 'Daniel', 'Emma', 'Jacob', 'Joann', 'Mia', 'Olivia'}"
      ]
     },
     "execution_count": 7,
     "metadata": {},
     "output_type": "execute_result"
    }
   ],
   "source": [
    "teachers_set.add(\"Joann\")\n",
    "teachers_set"
   ]
  },
  {
   "cell_type": "code",
   "execution_count": 8,
   "id": "46419f3d",
   "metadata": {},
   "outputs": [
    {
     "data": {
      "text/plain": [
       "8"
      ]
     },
     "execution_count": 8,
     "metadata": {},
     "output_type": "execute_result"
    }
   ],
   "source": [
    "len(teachers_set)"
   ]
  },
  {
   "cell_type": "code",
   "execution_count": 10,
   "id": "65d4fac5",
   "metadata": {},
   "outputs": [],
   "source": [
    "teachers_set.add(\"Olivia\")"
   ]
  },
  {
   "cell_type": "code",
   "execution_count": 11,
   "id": "63b89639",
   "metadata": {},
   "outputs": [
    {
     "data": {
      "text/plain": [
       "{'Ava', 'Avery', 'Daniel', 'Emma', 'Jacob', 'Joann', 'Mia', 'Olivia'}"
      ]
     },
     "execution_count": 11,
     "metadata": {},
     "output_type": "execute_result"
    }
   ],
   "source": [
    "teachers_set"
   ]
  },
  {
   "cell_type": "code",
   "execution_count": 12,
   "id": "274413ae",
   "metadata": {},
   "outputs": [
    {
     "data": {
      "text/plain": [
       "{'Ava', 'Daniel', 'Emma', 'Jacob', 'Joann', 'Mia', 'Olivia'}"
      ]
     },
     "execution_count": 12,
     "metadata": {},
     "output_type": "execute_result"
    }
   ],
   "source": [
    "teachers_set.discard(\"Avery\")\n",
    "teachers_set"
   ]
  },
  {
   "cell_type": "code",
   "execution_count": 13,
   "id": "66b7fb8c",
   "metadata": {},
   "outputs": [
    {
     "data": {
      "text/plain": [
       "{'Ava', 'Daniel', 'Jacob', 'Joann', 'Mia', 'Olivia'}"
      ]
     },
     "execution_count": 13,
     "metadata": {},
     "output_type": "execute_result"
    }
   ],
   "source": [
    "teachers_set.remove(\"Emma\")\n",
    "teachers_set"
   ]
  },
  {
   "cell_type": "code",
   "execution_count": 14,
   "id": "56f7e299",
   "metadata": {},
   "outputs": [],
   "source": [
    "number1 = {1, 2, 3, 4, 5}\n",
    "number2 = {4, 5, 6, 7, 8}\n",
    "number3 = {7, 8, 9, 10, 11}"
   ]
  },
  {
   "cell_type": "code",
   "execution_count": 15,
   "id": "1bfbc29e",
   "metadata": {},
   "outputs": [
    {
     "data": {
      "text/plain": [
       "{1, 2, 3, 4, 5, 6, 7, 8}"
      ]
     },
     "execution_count": 15,
     "metadata": {},
     "output_type": "execute_result"
    }
   ],
   "source": [
    "number1.union(number2)"
   ]
  },
  {
   "cell_type": "code",
   "execution_count": 16,
   "id": "b49986b1",
   "metadata": {},
   "outputs": [],
   "source": [
    "number_union = number1.union(number2, number3)"
   ]
  },
  {
   "cell_type": "code",
   "execution_count": 17,
   "id": "2e6bdc80",
   "metadata": {},
   "outputs": [
    {
     "data": {
      "text/plain": [
       "{1, 2, 3, 4, 5, 6, 7, 8, 9, 10, 11}"
      ]
     },
     "execution_count": 17,
     "metadata": {},
     "output_type": "execute_result"
    }
   ],
   "source": [
    "number_union"
   ]
  },
  {
   "cell_type": "code",
   "execution_count": 18,
   "id": "e6e2a17b",
   "metadata": {},
   "outputs": [
    {
     "data": {
      "text/plain": [
       "{4, 5}"
      ]
     },
     "execution_count": 18,
     "metadata": {},
     "output_type": "execute_result"
    }
   ],
   "source": [
    "number_inter = number1.intersection(number2)\n",
    "number_inter"
   ]
  },
  {
   "cell_type": "code",
   "execution_count": 19,
   "id": "c748ebdd",
   "metadata": {},
   "outputs": [
    {
     "data": {
      "text/plain": [
       "{6, 7, 8}"
      ]
     },
     "execution_count": 19,
     "metadata": {},
     "output_type": "execute_result"
    }
   ],
   "source": [
    "number_diff = number2.difference(number1)\n",
    "number_diff"
   ]
  },
  {
   "cell_type": "code",
   "execution_count": 20,
   "id": "65462f1e",
   "metadata": {},
   "outputs": [
    {
     "data": {
      "text/plain": [
       "{7, 8}"
      ]
     },
     "execution_count": 20,
     "metadata": {},
     "output_type": "execute_result"
    }
   ],
   "source": [
    "number_diff.intersection_update(number3)\n",
    "number_diff"
   ]
  },
  {
   "cell_type": "code",
   "execution_count": 22,
   "id": "77b5be90",
   "metadata": {},
   "outputs": [
    {
     "data": {
      "text/plain": [
       "True"
      ]
     },
     "execution_count": 22,
     "metadata": {},
     "output_type": "execute_result"
    }
   ],
   "source": [
    "{1,2,3}.isdisjoint({4,5,6})"
   ]
  },
  {
   "cell_type": "code",
   "execution_count": 23,
   "id": "ccf7cf1e",
   "metadata": {},
   "outputs": [
    {
     "data": {
      "text/plain": [
       "False"
      ]
     },
     "execution_count": 23,
     "metadata": {},
     "output_type": "execute_result"
    }
   ],
   "source": [
    "{10,50}.issubset({10,20,30})"
   ]
  },
  {
   "cell_type": "code",
   "execution_count": 24,
   "id": "ea339bbb",
   "metadata": {},
   "outputs": [
    {
     "data": {
      "text/plain": [
       "True"
      ]
     },
     "execution_count": 24,
     "metadata": {},
     "output_type": "execute_result"
    }
   ],
   "source": [
    "{50,60,70}.issuperset({70,60})"
   ]
  },
  {
   "cell_type": "code",
   "execution_count": null,
   "id": "1bb9d3f8",
   "metadata": {},
   "outputs": [],
   "source": []
  }
 ],
 "metadata": {
  "kernelspec": {
   "display_name": "Python 3 (ipykernel)",
   "language": "python",
   "name": "python3"
  },
  "language_info": {
   "codemirror_mode": {
    "name": "ipython",
    "version": 3
   },
   "file_extension": ".py",
   "mimetype": "text/x-python",
   "name": "python",
   "nbconvert_exporter": "python",
   "pygments_lexer": "ipython3",
   "version": "3.9.12"
  }
 },
 "nbformat": 4,
 "nbformat_minor": 5
}
