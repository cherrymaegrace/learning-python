{
 "cells": [
  {
   "cell_type": "code",
   "execution_count": 1,
   "id": "90b68e34",
   "metadata": {},
   "outputs": [],
   "source": [
    "def introduction(name, city):\n",
    "    print(\"Hello, my name is \", name)\n",
    "    print(\"I live in \", city)"
   ]
  },
  {
   "cell_type": "code",
   "execution_count": 2,
   "id": "82348c14",
   "metadata": {},
   "outputs": [
    {
     "ename": "TypeError",
     "evalue": "introduction() missing 2 required positional arguments: 'name' and 'city'",
     "output_type": "error",
     "traceback": [
      "\u001b[1;31m---------------------------------------------------------------------------\u001b[0m",
      "\u001b[1;31mTypeError\u001b[0m                                 Traceback (most recent call last)",
      "Cell \u001b[1;32mIn[2], line 1\u001b[0m\n\u001b[1;32m----> 1\u001b[0m introduction()\n",
      "\u001b[1;31mTypeError\u001b[0m: introduction() missing 2 required positional arguments: 'name' and 'city'"
     ]
    }
   ],
   "source": [
    "introduction()"
   ]
  },
  {
   "cell_type": "code",
   "execution_count": 3,
   "id": "ffecdeb1",
   "metadata": {},
   "outputs": [
    {
     "ename": "TypeError",
     "evalue": "introduction() missing 1 required positional argument: 'city'",
     "output_type": "error",
     "traceback": [
      "\u001b[1;31m---------------------------------------------------------------------------\u001b[0m",
      "\u001b[1;31mTypeError\u001b[0m                                 Traceback (most recent call last)",
      "Cell \u001b[1;32mIn[3], line 1\u001b[0m\n\u001b[1;32m----> 1\u001b[0m introduction(\u001b[38;5;124m\"\u001b[39m\u001b[38;5;124mJoann\u001b[39m\u001b[38;5;124m\"\u001b[39m)\n",
      "\u001b[1;31mTypeError\u001b[0m: introduction() missing 1 required positional argument: 'city'"
     ]
    }
   ],
   "source": [
    "introduction(\"Joann\")"
   ]
  },
  {
   "cell_type": "code",
   "execution_count": 4,
   "id": "605aca42",
   "metadata": {},
   "outputs": [
    {
     "name": "stdout",
     "output_type": "stream",
     "text": [
      "Hello, my name is  Joann\n",
      "I live in  San Jose\n"
     ]
    }
   ],
   "source": [
    "introduction(\"Joann\", \"San Jose\")"
   ]
  },
  {
   "cell_type": "markdown",
   "id": "4a1bbee2",
   "metadata": {},
   "source": [
    "#### Keyword Arguments"
   ]
  },
  {
   "cell_type": "code",
   "execution_count": 7,
   "id": "9f68b1ec",
   "metadata": {},
   "outputs": [
    {
     "name": "stdout",
     "output_type": "stream",
     "text": [
      "Hello, my name is  Joann\n",
      "I live in  San Jose\n"
     ]
    }
   ],
   "source": [
    "introduction(city=\"San Jose\", name=\"Joann\")"
   ]
  },
  {
   "cell_type": "code",
   "execution_count": 8,
   "id": "d428172e",
   "metadata": {},
   "outputs": [],
   "source": [
    "def total_score(math, physics, chemistry, biology):\n",
    "    \n",
    "    print(\"Math: \", math, \"Physics: \", physics, \"Chemistry: \", chemistry, \"Biology: \", biology)\n",
    "    return math + physics + chemistry + biology"
   ]
  },
  {
   "cell_type": "code",
   "execution_count": 9,
   "id": "5a698535",
   "metadata": {},
   "outputs": [
    {
     "name": "stdout",
     "output_type": "stream",
     "text": [
      "Math:  100 Physics:  20 Chemistry:  78 Biology:  89\n"
     ]
    },
    {
     "data": {
      "text/plain": [
       "287"
      ]
     },
     "execution_count": 9,
     "metadata": {},
     "output_type": "execute_result"
    }
   ],
   "source": [
    "total_score(100, 20, chemistry=78, biology=89)"
   ]
  },
  {
   "cell_type": "code",
   "execution_count": 10,
   "id": "acd953a0",
   "metadata": {},
   "outputs": [
    {
     "name": "stdout",
     "output_type": "stream",
     "text": [
      "Math:  20 Physics:  89 Chemistry:  78 Biology:  100\n"
     ]
    },
    {
     "data": {
      "text/plain": [
       "287"
      ]
     },
     "execution_count": 10,
     "metadata": {},
     "output_type": "execute_result"
    }
   ],
   "source": [
    "total_score(biology=100, math=20, chemistry=78, physics=89)"
   ]
  },
  {
   "cell_type": "code",
   "execution_count": 11,
   "id": "6bc47710",
   "metadata": {},
   "outputs": [],
   "source": [
    "def print_student_details(name, school, math, physics, chemistry, biology):\n",
    "    \n",
    "    total = math + physics + chemistry + biology\n",
    "    \n",
    "    print(\"Name: \", name)\n",
    "    print(\"School: \", school)\n",
    "    print(\"Score: \", total)"
   ]
  },
  {
   "cell_type": "code",
   "execution_count": 12,
   "id": "3d4b620f",
   "metadata": {},
   "outputs": [
    {
     "name": "stdout",
     "output_type": "stream",
     "text": [
      "Name:  Alice\n",
      "School:  Columbia\n",
      "Score:  339\n"
     ]
    }
   ],
   "source": [
    "print_student_details(\"Alice\", \"Columbia\", math=100, physics=76, chemistry=64, biology=99)"
   ]
  },
  {
   "cell_type": "code",
   "execution_count": 13,
   "id": "a728b479",
   "metadata": {},
   "outputs": [
    {
     "data": {
      "text/plain": [
       "[1, 3, 5, 6, 7, 9]"
      ]
     },
     "execution_count": 13,
     "metadata": {},
     "output_type": "execute_result"
    }
   ],
   "source": [
    "num_list = [3, 6, 1, 9, 5, 7]\n",
    "\n",
    "sorted(num_list)"
   ]
  },
  {
   "cell_type": "code",
   "execution_count": 14,
   "id": "c9a54c8e",
   "metadata": {},
   "outputs": [
    {
     "data": {
      "text/plain": [
       "[1, 3, 5, 6, 7, 9]"
      ]
     },
     "execution_count": 14,
     "metadata": {},
     "output_type": "execute_result"
    }
   ],
   "source": [
    "sorted(num_list, reverse=False)"
   ]
  },
  {
   "cell_type": "code",
   "execution_count": 15,
   "id": "7e9e10bc",
   "metadata": {},
   "outputs": [
    {
     "data": {
      "text/plain": [
       "[9, 7, 6, 5, 3, 1]"
      ]
     },
     "execution_count": 15,
     "metadata": {},
     "output_type": "execute_result"
    }
   ],
   "source": [
    "sorted(num_list, reverse=True)"
   ]
  },
  {
   "cell_type": "code",
   "execution_count": 16,
   "id": "a975a0dc",
   "metadata": {},
   "outputs": [
    {
     "name": "stdout",
     "output_type": "stream",
     "text": [
      "Alice Peter Greg\n"
     ]
    }
   ],
   "source": [
    "print(\"Alice\", \"Peter\", \"Greg\")"
   ]
  },
  {
   "cell_type": "code",
   "execution_count": 17,
   "id": "91ad487e",
   "metadata": {},
   "outputs": [
    {
     "name": "stdout",
     "output_type": "stream",
     "text": [
      "Alice|Peter|Greg\n"
     ]
    }
   ],
   "source": [
    "print(\"Alice\", \"Peter\", \"Greg\", sep=\"|\")"
   ]
  },
  {
   "cell_type": "code",
   "execution_count": 20,
   "id": "14a23046",
   "metadata": {},
   "outputs": [
    {
     "name": "stdout",
     "output_type": "stream",
     "text": [
      "Alice|Peter|Greg ***"
     ]
    }
   ],
   "source": [
    "print(\"Alice\", \"Peter\", \"Greg\", sep=\"|\", end=\" ***\")"
   ]
  },
  {
   "cell_type": "markdown",
   "id": "4647371a",
   "metadata": {},
   "source": [
    "#### Default Arguments\n",
    "\n",
    "All arguments with default values should be defined at the end of the argument list."
   ]
  },
  {
   "cell_type": "code",
   "execution_count": 21,
   "id": "738e8569",
   "metadata": {},
   "outputs": [],
   "source": [
    "def print_student_details(name, school, math, physics, chemistry, biology, enrolled):\n",
    "    \n",
    "    total = math + physics + chemistry + biology\n",
    "    \n",
    "    print(\"Name: \", name)\n",
    "    print(\"School: \", school, \"Enrolled: \", enrolled)\n",
    "    print(\"Score: \", total)"
   ]
  },
  {
   "cell_type": "code",
   "execution_count": 22,
   "id": "2a7cdc4c",
   "metadata": {},
   "outputs": [
    {
     "name": "stdout",
     "output_type": "stream",
     "text": [
      "Name:  Alice\n",
      "School:  Columbia Enrolled:  True\n",
      "Score:  339\n"
     ]
    }
   ],
   "source": [
    "print_student_details(\"Alice\", \"Columbia\", math=100, physics=76, chemistry=64, biology=99, enrolled=True)"
   ]
  },
  {
   "cell_type": "code",
   "execution_count": 23,
   "id": "8642f39a",
   "metadata": {},
   "outputs": [],
   "source": [
    "def print_student_details(name, school, math, physics, chemistry, biology, enrolled=False):\n",
    "    \n",
    "    total = math + physics + chemistry + biology\n",
    "    \n",
    "    print(\"Name: \", name)\n",
    "    print(\"School: \", school, \"Enrolled: \", enrolled)\n",
    "    print(\"Score: \", total)"
   ]
  },
  {
   "cell_type": "code",
   "execution_count": 24,
   "id": "b7e4551c",
   "metadata": {},
   "outputs": [
    {
     "name": "stdout",
     "output_type": "stream",
     "text": [
      "Name:  Alice\n",
      "School:  Columbia Enrolled:  True\n",
      "Score:  339\n"
     ]
    }
   ],
   "source": [
    "print_student_details(\"Alice\", \"Columbia\", math=100, physics=76, chemistry=64, biology=99, enrolled=True)"
   ]
  },
  {
   "cell_type": "code",
   "execution_count": 25,
   "id": "3f50ac6d",
   "metadata": {},
   "outputs": [
    {
     "name": "stdout",
     "output_type": "stream",
     "text": [
      "Name:  Alice\n",
      "School:  Columbia Enrolled:  False\n",
      "Score:  339\n"
     ]
    }
   ],
   "source": [
    "print_student_details(\"Alice\", \"Columbia\", math=100, physics=76, chemistry=64, biology=99)"
   ]
  },
  {
   "cell_type": "code",
   "execution_count": null,
   "id": "71ca1b3d",
   "metadata": {},
   "outputs": [],
   "source": []
  }
 ],
 "metadata": {
  "kernelspec": {
   "display_name": "Python 3 (ipykernel)",
   "language": "python",
   "name": "python3"
  },
  "language_info": {
   "codemirror_mode": {
    "name": "ipython",
    "version": 3
   },
   "file_extension": ".py",
   "mimetype": "text/x-python",
   "name": "python",
   "nbconvert_exporter": "python",
   "pygments_lexer": "ipython3",
   "version": "3.11.3"
  }
 },
 "nbformat": 4,
 "nbformat_minor": 5
}
