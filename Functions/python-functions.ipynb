{
 "cells": [
  {
   "cell_type": "code",
   "execution_count": 1,
   "id": "f5525ae0",
   "metadata": {},
   "outputs": [],
   "source": [
    "def my_introduction():\n",
    "    print(\"My name is John\")\n",
    "    print(\"I live in Boston\")\n",
    "    print(\"I am a data analyst and I love what I do!\")\n"
   ]
  },
  {
   "cell_type": "code",
   "execution_count": 2,
   "id": "0a7dbbaf",
   "metadata": {},
   "outputs": [
    {
     "name": "stdout",
     "output_type": "stream",
     "text": [
      "My name is John\n",
      "I live in Boston\n",
      "I am a data analyst and I love what I do!\n"
     ]
    }
   ],
   "source": [
    "my_introduction()"
   ]
  },
  {
   "cell_type": "code",
   "execution_count": 3,
   "id": "3addfe2c",
   "metadata": {},
   "outputs": [
    {
     "name": "stdout",
     "output_type": "stream",
     "text": [
      "My name is John\n",
      "I live in Boston\n",
      "I am a data analyst and I love what I do!\n"
     ]
    }
   ],
   "source": [
    "my_introduction()"
   ]
  },
  {
   "cell_type": "code",
   "execution_count": 4,
   "id": "7cc4af3f",
   "metadata": {},
   "outputs": [
    {
     "name": "stdout",
     "output_type": "stream",
     "text": [
      "This is outside the function.\n"
     ]
    }
   ],
   "source": [
    "def hello_world():\n",
    "    print(\"Welcome to Python!\")\n",
    "    \n",
    "print(\"This is outside the function.\")"
   ]
  },
  {
   "cell_type": "code",
   "execution_count": 5,
   "id": "d77c9a17",
   "metadata": {},
   "outputs": [
    {
     "name": "stdout",
     "output_type": "stream",
     "text": [
      "Welcome to Python!\n"
     ]
    }
   ],
   "source": [
    "hello_world()"
   ]
  },
  {
   "cell_type": "code",
   "execution_count": 6,
   "id": "4f2d86b7",
   "metadata": {},
   "outputs": [
    {
     "ename": "IndentationError",
     "evalue": "expected an indented block after function definition on line 1 (3272337230.py, line 2)",
     "output_type": "error",
     "traceback": [
      "\u001b[1;36m  Cell \u001b[1;32mIn[6], line 2\u001b[1;36m\u001b[0m\n\u001b[1;33m    print(\"This function will not work.\")\u001b[0m\n\u001b[1;37m    ^\u001b[0m\n\u001b[1;31mIndentationError\u001b[0m\u001b[1;31m:\u001b[0m expected an indented block after function definition on line 1\n"
     ]
    }
   ],
   "source": [
    "def will_not_work_function():\n",
    "print(\"This function will not work.\")\n",
    "\n",
    "will_not_work_function()"
   ]
  },
  {
   "cell_type": "code",
   "execution_count": 7,
   "id": "9be71910",
   "metadata": {},
   "outputs": [],
   "source": [
    "def a_more_complicated_function():\n",
    "    for i in range(10):\n",
    "        print(\"i is now: \", i)"
   ]
  },
  {
   "cell_type": "code",
   "execution_count": 8,
   "id": "244a7f75",
   "metadata": {},
   "outputs": [
    {
     "name": "stdout",
     "output_type": "stream",
     "text": [
      "i is now:  0\n",
      "i is now:  1\n",
      "i is now:  2\n",
      "i is now:  3\n",
      "i is now:  4\n",
      "i is now:  5\n",
      "i is now:  6\n",
      "i is now:  7\n",
      "i is now:  8\n",
      "i is now:  9\n"
     ]
    }
   ],
   "source": [
    "a_more_complicated_function()"
   ]
  },
  {
   "cell_type": "code",
   "execution_count": 9,
   "id": "d2980aae",
   "metadata": {},
   "outputs": [],
   "source": [
    "def _Functions_Can_Be_NamedLikeThis_123():\n",
    "    print(\"This works!\")"
   ]
  },
  {
   "cell_type": "code",
   "execution_count": 10,
   "id": "c047d614",
   "metadata": {},
   "outputs": [
    {
     "name": "stdout",
     "output_type": "stream",
     "text": [
      "This works!\n"
     ]
    }
   ],
   "source": [
    "_Functions_Can_Be_NamedLikeThis_123()"
   ]
  },
  {
   "cell_type": "code",
   "execution_count": 11,
   "id": "6721ff92",
   "metadata": {},
   "outputs": [
    {
     "ename": "SyntaxError",
     "evalue": "invalid decimal literal (1405928545.py, line 1)",
     "output_type": "error",
     "traceback": [
      "\u001b[1;36m  Cell \u001b[1;32mIn[11], line 1\u001b[1;36m\u001b[0m\n\u001b[1;33m    def 123this_will_not_work():\u001b[0m\n\u001b[1;37m          ^\u001b[0m\n\u001b[1;31mSyntaxError\u001b[0m\u001b[1;31m:\u001b[0m invalid decimal literal\n"
     ]
    }
   ],
   "source": [
    "def 123this_will_not_work():\n",
    "    print(\"Not gonna work :(\")"
   ]
  },
  {
   "cell_type": "markdown",
   "id": "f38ff4ac",
   "metadata": {},
   "source": [
    "### Functions\n",
    "\n",
    "A function is saved in the `__main__` module, by default.\n",
    "\n",
    "Add documentation to functions using `\"\"\"documentation\"\"\"` triple double quotes and access via `__doc__` attribute\n",
    "\n",
    "Functions with errors can only be detected when invoked, not when it was just defined"
   ]
  },
  {
   "cell_type": "code",
   "execution_count": 12,
   "id": "d3e3e5e0",
   "metadata": {},
   "outputs": [],
   "source": [
    "def documented_function():\n",
    "    \"\"\"This function does something that is well documented\"\"\"\n",
    "    print(\"Hello\")"
   ]
  },
  {
   "cell_type": "code",
   "execution_count": 14,
   "id": "05418bc5",
   "metadata": {},
   "outputs": [
    {
     "data": {
      "text/plain": [
       "<function __main__.documented_function()>"
      ]
     },
     "execution_count": 14,
     "metadata": {},
     "output_type": "execute_result"
    }
   ],
   "source": [
    "#function object - if () is omitted, function is not invoked\n",
    "documented_function"
   ]
  },
  {
   "cell_type": "code",
   "execution_count": 15,
   "id": "d4c27066",
   "metadata": {},
   "outputs": [
    {
     "data": {
      "text/plain": [
       "'This function does something that is well documented'"
      ]
     },
     "execution_count": 15,
     "metadata": {},
     "output_type": "execute_result"
    }
   ],
   "source": [
    "documented_function.__doc__"
   ]
  },
  {
   "cell_type": "code",
   "execution_count": 16,
   "id": "d2e4c783",
   "metadata": {},
   "outputs": [],
   "source": [
    "another_function = documented_function"
   ]
  },
  {
   "cell_type": "code",
   "execution_count": 18,
   "id": "5072d0b2",
   "metadata": {},
   "outputs": [
    {
     "data": {
      "text/plain": [
       "<function __main__.documented_function()>"
      ]
     },
     "execution_count": 18,
     "metadata": {},
     "output_type": "execute_result"
    }
   ],
   "source": [
    "another_function"
   ]
  },
  {
   "cell_type": "code",
   "execution_count": 19,
   "id": "07efd49b",
   "metadata": {},
   "outputs": [
    {
     "name": "stdout",
     "output_type": "stream",
     "text": [
      "Hello\n",
      "Hello\n"
     ]
    }
   ],
   "source": [
    "another_function()\n",
    "documented_function()"
   ]
  },
  {
   "cell_type": "code",
   "execution_count": 20,
   "id": "ef8d0dd1",
   "metadata": {},
   "outputs": [],
   "source": [
    "name = \"John\"\n",
    "city = \"Toronto\""
   ]
  },
  {
   "cell_type": "code",
   "execution_count": 21,
   "id": "31b905e5",
   "metadata": {},
   "outputs": [],
   "source": [
    "def introduction():\n",
    "    print(\"My name is \", name)\n",
    "    print(\"I live in \", city)"
   ]
  },
  {
   "cell_type": "code",
   "execution_count": 22,
   "id": "64f2256b",
   "metadata": {},
   "outputs": [
    {
     "name": "stdout",
     "output_type": "stream",
     "text": [
      "My name is  John\n",
      "I live in  Toronto\n"
     ]
    }
   ],
   "source": [
    "introduction()"
   ]
  },
  {
   "cell_type": "code",
   "execution_count": 23,
   "id": "8d0eaa0a",
   "metadata": {},
   "outputs": [],
   "source": [
    "name = \"Lily\"\n",
    "city = \"New York\""
   ]
  },
  {
   "cell_type": "code",
   "execution_count": 24,
   "id": "8ac7c34d",
   "metadata": {},
   "outputs": [
    {
     "name": "stdout",
     "output_type": "stream",
     "text": [
      "My name is  Lily\n",
      "I live in  New York\n"
     ]
    }
   ],
   "source": [
    "introduction()"
   ]
  },
  {
   "cell_type": "code",
   "execution_count": 25,
   "id": "6699bbd1",
   "metadata": {},
   "outputs": [],
   "source": [
    "name = \"Lily\"\n",
    "city = \"Seattle\""
   ]
  },
  {
   "cell_type": "code",
   "execution_count": 26,
   "id": "d2283bd6",
   "metadata": {},
   "outputs": [
    {
     "name": "stdout",
     "output_type": "stream",
     "text": [
      "My name is  Lily\n",
      "I live in  Seattle\n"
     ]
    }
   ],
   "source": [
    "introduction()"
   ]
  },
  {
   "cell_type": "code",
   "execution_count": 27,
   "id": "673be7a3",
   "metadata": {},
   "outputs": [
    {
     "ename": "TypeError",
     "evalue": "can only concatenate str (not \"int\") to str",
     "output_type": "error",
     "traceback": [
      "\u001b[1;31m---------------------------------------------------------------------------\u001b[0m",
      "\u001b[1;31mTypeError\u001b[0m                                 Traceback (most recent call last)",
      "Cell \u001b[1;32mIn[27], line 1\u001b[0m\n\u001b[1;32m----> 1\u001b[0m \u001b[38;5;124m\"\u001b[39m\u001b[38;5;124ma\u001b[39m\u001b[38;5;124m\"\u001b[39m \u001b[38;5;241m+\u001b[39m \u001b[38;5;241m2\u001b[39m\n",
      "\u001b[1;31mTypeError\u001b[0m: can only concatenate str (not \"int\") to str"
     ]
    }
   ],
   "source": [
    "\"a\" + 2"
   ]
  },
  {
   "cell_type": "code",
   "execution_count": 28,
   "id": "3e8066e2",
   "metadata": {},
   "outputs": [],
   "source": [
    "def function_with_error():\n",
    "    result = \"a\" + 2\n",
    "    print(result)"
   ]
  },
  {
   "cell_type": "code",
   "execution_count": 29,
   "id": "3310c21c",
   "metadata": {},
   "outputs": [
    {
     "ename": "TypeError",
     "evalue": "can only concatenate str (not \"int\") to str",
     "output_type": "error",
     "traceback": [
      "\u001b[1;31m---------------------------------------------------------------------------\u001b[0m",
      "\u001b[1;31mTypeError\u001b[0m                                 Traceback (most recent call last)",
      "Cell \u001b[1;32mIn[29], line 1\u001b[0m\n\u001b[1;32m----> 1\u001b[0m function_with_error()\n",
      "Cell \u001b[1;32mIn[28], line 2\u001b[0m, in \u001b[0;36mfunction_with_error\u001b[1;34m()\u001b[0m\n\u001b[0;32m      1\u001b[0m \u001b[38;5;28;01mdef\u001b[39;00m \u001b[38;5;21mfunction_with_error\u001b[39m():\n\u001b[1;32m----> 2\u001b[0m     result \u001b[38;5;241m=\u001b[39m \u001b[38;5;124m\"\u001b[39m\u001b[38;5;124ma\u001b[39m\u001b[38;5;124m\"\u001b[39m \u001b[38;5;241m+\u001b[39m \u001b[38;5;241m2\u001b[39m\n\u001b[0;32m      3\u001b[0m     \u001b[38;5;28mprint\u001b[39m(result)\n",
      "\u001b[1;31mTypeError\u001b[0m: can only concatenate str (not \"int\") to str"
     ]
    }
   ],
   "source": [
    "function_with_error()"
   ]
  },
  {
   "cell_type": "code",
   "execution_count": null,
   "id": "df03f29c",
   "metadata": {},
   "outputs": [],
   "source": []
  }
 ],
 "metadata": {
  "kernelspec": {
   "display_name": "Python 3 (ipykernel)",
   "language": "python",
   "name": "python3"
  },
  "language_info": {
   "codemirror_mode": {
    "name": "ipython",
    "version": 3
   },
   "file_extension": ".py",
   "mimetype": "text/x-python",
   "name": "python",
   "nbconvert_exporter": "python",
   "pygments_lexer": "ipython3",
   "version": "3.11.3"
  }
 },
 "nbformat": 4,
 "nbformat_minor": 5
}
