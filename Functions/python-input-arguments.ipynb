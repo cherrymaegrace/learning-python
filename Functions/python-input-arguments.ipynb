{
 "cells": [
  {
   "cell_type": "code",
   "execution_count": 1,
   "id": "a17d4b1e",
   "metadata": {},
   "outputs": [],
   "source": [
    "def my_introduction():\n",
    "    print(\"My name is John\")\n",
    "    print(\"I live in Boston\")\n",
    "    print(\"I am a data analyst and I love what I do!\")"
   ]
  },
  {
   "cell_type": "code",
   "execution_count": 2,
   "id": "f3261605",
   "metadata": {},
   "outputs": [
    {
     "name": "stdout",
     "output_type": "stream",
     "text": [
      "My name is John\n",
      "I live in Boston\n",
      "I am a data analyst and I love what I do!\n"
     ]
    }
   ],
   "source": [
    "my_introduction()"
   ]
  },
  {
   "cell_type": "code",
   "execution_count": 3,
   "id": "9fc2fea6",
   "metadata": {},
   "outputs": [],
   "source": [
    "def introduction(name):\n",
    "    print(\"Hello, my name is\", name)\n",
    "    print(\"I live and work in Dallas\")"
   ]
  },
  {
   "cell_type": "code",
   "execution_count": 9,
   "id": "107aac3a",
   "metadata": {},
   "outputs": [
    {
     "name": "stdout",
     "output_type": "stream",
     "text": [
      "Hello, my name is  Lily\n",
      "I live and work in Dallas\n"
     ]
    }
   ],
   "source": [
    "introduction(\"Lily\")"
   ]
  },
  {
   "cell_type": "code",
   "execution_count": 6,
   "id": "028a9941",
   "metadata": {},
   "outputs": [],
   "source": [
    "def general_introduction(name, city):\n",
    "    print(\"Hello, my name is\", name)\n",
    "    print(\"I live and work in\", city)"
   ]
  },
  {
   "cell_type": "code",
   "execution_count": 7,
   "id": "75313023",
   "metadata": {},
   "outputs": [
    {
     "name": "stdout",
     "output_type": "stream",
     "text": [
      "Hello, my name is Lily\n",
      "I live and work in Tokyo\n"
     ]
    }
   ],
   "source": [
    "general_introduction(\"Lily\", \"Tokyo\")"
   ]
  },
  {
   "cell_type": "code",
   "execution_count": 18,
   "id": "50b5fd6e",
   "metadata": {},
   "outputs": [
    {
     "name": "stdout",
     "output_type": "stream",
     "text": [
      "Hello, my name is John\n",
      "I live and work in Dublin\n"
     ]
    }
   ],
   "source": [
    "general_introduction(city=\"Dublin\",name=\"John\")"
   ]
  },
  {
   "cell_type": "code",
   "execution_count": 12,
   "id": "752469c5",
   "metadata": {},
   "outputs": [
    {
     "ename": "TypeError",
     "evalue": "my_introduction() takes 0 positional arguments but 1 was given",
     "output_type": "error",
     "traceback": [
      "\u001b[1;31m---------------------------------------------------------------------------\u001b[0m",
      "\u001b[1;31mTypeError\u001b[0m                                 Traceback (most recent call last)",
      "Cell \u001b[1;32mIn[12], line 1\u001b[0m\n\u001b[1;32m----> 1\u001b[0m my_introduction(\u001b[38;5;124m\"\u001b[39m\u001b[38;5;124mLily\u001b[39m\u001b[38;5;124m\"\u001b[39m)\n",
      "\u001b[1;31mTypeError\u001b[0m: my_introduction() takes 0 positional arguments but 1 was given"
     ]
    }
   ],
   "source": [
    "my_introduction(\"Lily\")"
   ]
  },
  {
   "cell_type": "code",
   "execution_count": 13,
   "id": "32dc3bed",
   "metadata": {},
   "outputs": [
    {
     "ename": "TypeError",
     "evalue": "introduction() takes 1 positional argument but 2 were given",
     "output_type": "error",
     "traceback": [
      "\u001b[1;31m---------------------------------------------------------------------------\u001b[0m",
      "\u001b[1;31mTypeError\u001b[0m                                 Traceback (most recent call last)",
      "Cell \u001b[1;32mIn[13], line 1\u001b[0m\n\u001b[1;32m----> 1\u001b[0m introduction(\u001b[38;5;124m\"\u001b[39m\u001b[38;5;124mLily\u001b[39m\u001b[38;5;124m\"\u001b[39m, \u001b[38;5;124m\"\u001b[39m\u001b[38;5;124mSan Francisco\u001b[39m\u001b[38;5;124m\"\u001b[39m)\n",
      "\u001b[1;31mTypeError\u001b[0m: introduction() takes 1 positional argument but 2 were given"
     ]
    }
   ],
   "source": [
    "introduction(\"Lily\", \"San Francisco\")"
   ]
  },
  {
   "cell_type": "code",
   "execution_count": 14,
   "id": "ccc8d961",
   "metadata": {},
   "outputs": [
    {
     "ename": "TypeError",
     "evalue": "general_introduction() missing 1 required positional argument: 'city'",
     "output_type": "error",
     "traceback": [
      "\u001b[1;31m---------------------------------------------------------------------------\u001b[0m",
      "\u001b[1;31mTypeError\u001b[0m                                 Traceback (most recent call last)",
      "Cell \u001b[1;32mIn[14], line 1\u001b[0m\n\u001b[1;32m----> 1\u001b[0m general_introduction(\u001b[38;5;124m\"\u001b[39m\u001b[38;5;124mLily\u001b[39m\u001b[38;5;124m\"\u001b[39m)\n",
      "\u001b[1;31mTypeError\u001b[0m: general_introduction() missing 1 required positional argument: 'city'"
     ]
    }
   ],
   "source": [
    "general_introduction(\"Lily\")"
   ]
  },
  {
   "cell_type": "code",
   "execution_count": 22,
   "id": "f32ebe35",
   "metadata": {},
   "outputs": [
    {
     "name": "stdout",
     "output_type": "stream",
     "text": [
      "The square of 3 is 9\n"
     ]
    }
   ],
   "source": [
    "def square(x):\n",
    "    print(f\"The square of {x} is {x**2}\")\n",
    "\n",
    "square(3)"
   ]
  },
  {
   "cell_type": "code",
   "execution_count": 23,
   "id": "699e2117",
   "metadata": {},
   "outputs": [
    {
     "name": "stdout",
     "output_type": "stream",
     "text": [
      "The square of 25 is 625\n"
     ]
    }
   ],
   "source": [
    "num = 25\n",
    "square(num)"
   ]
  },
  {
   "cell_type": "markdown",
   "id": "d24cb9d1",
   "metadata": {},
   "source": [
    "#### Global Variables\n",
    "Global variables are variables declared outside a function."
   ]
  },
  {
   "cell_type": "code",
   "execution_count": 24,
   "id": "e6e02e46",
   "metadata": {},
   "outputs": [],
   "source": [
    "salary = 1000\n",
    "expense = 300\n",
    "\n",
    "def my_savings(a, b):\n",
    "    print(\"My total savings: \", salary - expense)"
   ]
  },
  {
   "cell_type": "code",
   "execution_count": 25,
   "id": "cc199e21",
   "metadata": {},
   "outputs": [
    {
     "name": "stdout",
     "output_type": "stream",
     "text": [
      "My total savings:  700\n"
     ]
    }
   ],
   "source": [
    "my_savings(10, 20)"
   ]
  },
  {
   "cell_type": "code",
   "execution_count": 26,
   "id": "38d4c531",
   "metadata": {},
   "outputs": [],
   "source": [
    "def my_actual_savings(a, b):\n",
    "    print(\"My total savings: \", a - b)"
   ]
  },
  {
   "cell_type": "code",
   "execution_count": 27,
   "id": "fab28fd4",
   "metadata": {},
   "outputs": [
    {
     "name": "stdout",
     "output_type": "stream",
     "text": [
      "My total savings:  700\n"
     ]
    }
   ],
   "source": [
    "my_actual_savings(salary,expense)"
   ]
  },
  {
   "cell_type": "code",
   "execution_count": 28,
   "id": "3c54d2da",
   "metadata": {},
   "outputs": [
    {
     "name": "stdout",
     "output_type": "stream",
     "text": [
      "My total savings:  -10\n"
     ]
    }
   ],
   "source": [
    "my_actual_savings(10, 20)"
   ]
  },
  {
   "cell_type": "code",
   "execution_count": 29,
   "id": "1657b699",
   "metadata": {},
   "outputs": [],
   "source": [
    "def calculate_savings(salary, expense):\n",
    "    print(\"My total savings: \", salary - expense)"
   ]
  },
  {
   "cell_type": "code",
   "execution_count": 30,
   "id": "ea234c35",
   "metadata": {},
   "outputs": [
    {
     "name": "stdout",
     "output_type": "stream",
     "text": [
      "My total savings:  1300\n"
     ]
    }
   ],
   "source": [
    "salary = 2000\n",
    "expense = 700\n",
    "\n",
    "calculate_savings(salary, expense)"
   ]
  },
  {
   "cell_type": "code",
   "execution_count": 38,
   "id": "0c5602cd",
   "metadata": {},
   "outputs": [],
   "source": [
    "def print_many_times(string,times):\n",
    "    \"\"\"\n",
    "        Prints the specified string the specified number of times\n",
    "        \n",
    "        First argument: The string you want printed\n",
    "        Second argument: The number of times the string should be printed\n",
    "        \n",
    "        Parameters (both required):\n",
    "        string(str): The string you want printed\n",
    "        times(int): The number of times the string should be printed\n",
    "        \n",
    "        Returns:\n",
    "        No return value\n",
    "    \"\"\"\n",
    "    for i in range(times):\n",
    "        print(string)"
   ]
  },
  {
   "cell_type": "code",
   "execution_count": 39,
   "id": "c5144f23",
   "metadata": {},
   "outputs": [
    {
     "name": "stdout",
     "output_type": "stream",
     "text": [
      "Hello\n",
      "Hello\n",
      "Hello\n",
      "Hello\n",
      "Hello\n"
     ]
    }
   ],
   "source": [
    "print_many_times(\"Hello\", 5)"
   ]
  },
  {
   "cell_type": "code",
   "execution_count": 41,
   "id": "38a50d42",
   "metadata": {},
   "outputs": [
    {
     "name": "stdout",
     "output_type": "stream",
     "text": [
      "\n",
      "        Prints the specified string the specified number of times\n",
      "        \n",
      "        First argument: The string you want printed\n",
      "        Second argument: The number of times the string should be printed\n",
      "        \n",
      "        Parameters (both required):\n",
      "        string(str): The string you want printed\n",
      "        times(int): The number of times the string should be printed\n",
      "        \n",
      "        Returns:\n",
      "        No return value\n",
      "    \n"
     ]
    }
   ],
   "source": [
    "print(print_many_times.__doc__)"
   ]
  },
  {
   "cell_type": "code",
   "execution_count": 44,
   "id": "e5634d61",
   "metadata": {},
   "outputs": [],
   "source": [
    "def print_higher_number(a, b):\n",
    "    \n",
    "    if a > b:\n",
    "        print(\"The higher number is:\",a)\n",
    "        \n",
    "    else:\n",
    "        print(\"The higher number is:\",b)"
   ]
  },
  {
   "cell_type": "code",
   "execution_count": 45,
   "id": "fce8d55d",
   "metadata": {},
   "outputs": [
    {
     "name": "stdout",
     "output_type": "stream",
     "text": [
      "The higher number is: 30\n"
     ]
    }
   ],
   "source": [
    "print_higher_number(20, 30)"
   ]
  },
  {
   "cell_type": "code",
   "execution_count": 46,
   "id": "45d28f51",
   "metadata": {},
   "outputs": [],
   "source": [
    "def print_higher_number_with_error(a, b):\n",
    "    \n",
    "    if a > b:\n",
    "        print(\"The higher number is:\",a)\n",
    "        \n",
    "    else:\n",
    "        print(\"The higher number is:\",b)\n",
    "        result = b + \"a\""
   ]
  },
  {
   "cell_type": "code",
   "execution_count": 47,
   "id": "647f672a",
   "metadata": {},
   "outputs": [
    {
     "name": "stdout",
     "output_type": "stream",
     "text": [
      "The higher number is: 20\n"
     ]
    },
    {
     "ename": "TypeError",
     "evalue": "unsupported operand type(s) for +: 'int' and 'str'",
     "output_type": "error",
     "traceback": [
      "\u001b[1;31m---------------------------------------------------------------------------\u001b[0m",
      "\u001b[1;31mTypeError\u001b[0m                                 Traceback (most recent call last)",
      "Cell \u001b[1;32mIn[47], line 1\u001b[0m\n\u001b[1;32m----> 1\u001b[0m print_higher_number_with_error(\u001b[38;5;241m10\u001b[39m, \u001b[38;5;241m20\u001b[39m)\n",
      "Cell \u001b[1;32mIn[46], line 8\u001b[0m, in \u001b[0;36mprint_higher_number_with_error\u001b[1;34m(a, b)\u001b[0m\n\u001b[0;32m      6\u001b[0m \u001b[38;5;28;01melse\u001b[39;00m:\n\u001b[0;32m      7\u001b[0m     \u001b[38;5;28mprint\u001b[39m(\u001b[38;5;124m\"\u001b[39m\u001b[38;5;124mThe higher number is:\u001b[39m\u001b[38;5;124m\"\u001b[39m,b)\n\u001b[1;32m----> 8\u001b[0m     result \u001b[38;5;241m=\u001b[39m b \u001b[38;5;241m+\u001b[39m \u001b[38;5;124m\"\u001b[39m\u001b[38;5;124ma\u001b[39m\u001b[38;5;124m\"\u001b[39m\n",
      "\u001b[1;31mTypeError\u001b[0m: unsupported operand type(s) for +: 'int' and 'str'"
     ]
    }
   ],
   "source": [
    "print_higher_number_with_error(10, 20)"
   ]
  },
  {
   "cell_type": "code",
   "execution_count": 11,
   "id": "e069b746",
   "metadata": {},
   "outputs": [],
   "source": [
    " def length(some_list):\n",
    "        \n",
    "    count = 0\n",
    "    for i in some_list:\n",
    "        count += 1\n",
    "            \n",
    "    return count\n",
    "    print(count)"
   ]
  },
  {
   "cell_type": "code",
   "execution_count": 4,
   "id": "950002b9",
   "metadata": {},
   "outputs": [
    {
     "name": "stdout",
     "output_type": "stream",
     "text": [
      "5\n"
     ]
    }
   ],
   "source": [
    "length([1,2,3,4,5])"
   ]
  },
  {
   "cell_type": "code",
   "execution_count": 12,
   "id": "079fff5b",
   "metadata": {},
   "outputs": [],
   "source": [
    "num = length([1,2,3,4,5])"
   ]
  },
  {
   "cell_type": "code",
   "execution_count": 13,
   "id": "c78bd8cb",
   "metadata": {},
   "outputs": [
    {
     "data": {
      "text/plain": [
       "5"
      ]
     },
     "execution_count": 13,
     "metadata": {},
     "output_type": "execute_result"
    }
   ],
   "source": [
    "num"
   ]
  },
  {
   "cell_type": "code",
   "execution_count": null,
   "id": "4c22e6f3",
   "metadata": {},
   "outputs": [],
   "source": []
  }
 ],
 "metadata": {
  "kernelspec": {
   "display_name": "Python 3 (ipykernel)",
   "language": "python",
   "name": "python3"
  },
  "language_info": {
   "codemirror_mode": {
    "name": "ipython",
    "version": 3
   },
   "file_extension": ".py",
   "mimetype": "text/x-python",
   "name": "python",
   "nbconvert_exporter": "python",
   "pygments_lexer": "ipython3",
   "version": "3.11.3"
  }
 },
 "nbformat": 4,
 "nbformat_minor": 5
}
