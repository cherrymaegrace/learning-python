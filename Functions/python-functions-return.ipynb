{
 "cells": [
  {
   "cell_type": "code",
   "execution_count": 8,
   "id": "e5f7aeba",
   "metadata": {},
   "outputs": [],
   "source": [
    "def find_max_in_list(some_list):\n",
    "    \n",
    "    max_element = some_list[0]\n",
    "    \n",
    "    len_list = len(some_list)\n",
    "    \n",
    "    for i in range(len_list):\n",
    "        print(f\"some_list[{i}]: \",some_list[i])\n",
    "        \n",
    "        if some_list[i] > max_element:\n",
    "            max_element = some_list[i]\n",
    "            print(\"max_element: \",max_element)\n",
    "    \n",
    "    return max_element"
   ]
  },
  {
   "cell_type": "code",
   "execution_count": 9,
   "id": "dcb4cfd2",
   "metadata": {},
   "outputs": [
    {
     "name": "stdout",
     "output_type": "stream",
     "text": [
      "some_list[0]:  5\n",
      "some_list[1]:  2\n",
      "some_list[2]:  28\n",
      "max_element:  28\n",
      "some_list[3]:  17\n",
      "some_list[4]:  33\n",
      "max_element:  33\n"
     ]
    },
    {
     "data": {
      "text/plain": [
       "33"
      ]
     },
     "execution_count": 9,
     "metadata": {},
     "output_type": "execute_result"
    }
   ],
   "source": [
    "find_max_in_list([5,2,28,17,33])"
   ]
  },
  {
   "cell_type": "code",
   "execution_count": 11,
   "id": "27aae660",
   "metadata": {},
   "outputs": [
    {
     "name": "stdout",
     "output_type": "stream",
     "text": [
      "some_list[0]:  5\n",
      "some_list[1]:  4\n",
      "some_list[2]:  6\n",
      "max_element:  6\n",
      "some_list[3]:  7\n",
      "max_element:  7\n",
      "some_list[4]:  2\n",
      "some_list[5]:  10\n",
      "max_element:  10\n",
      "some_list[6]:  11\n",
      "max_element:  11\n",
      "some_list[7]:  3\n",
      "11\n"
     ]
    }
   ],
   "source": [
    "num_list = [5, 4, 6, 7, 2, 10, 11, 3]\n",
    "max_element = find_max_in_list(num_list)\n",
    "\n",
    "print(max_element)"
   ]
  },
  {
   "cell_type": "code",
   "execution_count": 12,
   "id": "88d66264",
   "metadata": {},
   "outputs": [
    {
     "name": "stdout",
     "output_type": "stream",
     "text": [
      "some_list[0]:  5\n",
      "some_list[1]:  4\n",
      "some_list[2]:  6\n",
      "max_element:  6\n",
      "some_list[3]:  7\n",
      "max_element:  7\n",
      "some_list[4]:  2\n",
      "some_list[5]:  10\n",
      "max_element:  10\n",
      "some_list[6]:  11\n",
      "max_element:  11\n",
      "some_list[7]:  3\n",
      "some_list[8]:  24\n",
      "max_element:  24\n"
     ]
    },
    {
     "data": {
      "text/plain": [
       "24"
      ]
     },
     "execution_count": 12,
     "metadata": {},
     "output_type": "execute_result"
    }
   ],
   "source": [
    "num_list.append(24)\n",
    "max_element = find_max_in_list(num_list)\n",
    "max_element"
   ]
  },
  {
   "cell_type": "markdown",
   "id": "91a31e75",
   "metadata": {},
   "source": [
    "#### Multiple Return Values\n",
    "\n",
    "Multiple return values from functions are in the tuple format."
   ]
  },
  {
   "cell_type": "code",
   "execution_count": 13,
   "id": "cc5d03ce",
   "metadata": {},
   "outputs": [],
   "source": [
    "def add_sub(x,y):\n",
    "    \n",
    "    add_result = x + y\n",
    "    sub_result = x - y\n",
    "    \n",
    "    return add_result, sub_result"
   ]
  },
  {
   "cell_type": "code",
   "execution_count": 14,
   "id": "1847a9e4",
   "metadata": {},
   "outputs": [
    {
     "data": {
      "text/plain": [
       "(9, 1)"
      ]
     },
     "execution_count": 14,
     "metadata": {},
     "output_type": "execute_result"
    }
   ],
   "source": [
    "add_sub(5,4)"
   ]
  },
  {
   "cell_type": "code",
   "execution_count": 15,
   "id": "5b2b23df",
   "metadata": {},
   "outputs": [
    {
     "name": "stdout",
     "output_type": "stream",
     "text": [
      "9\n",
      "1\n"
     ]
    }
   ],
   "source": [
    "result_1, result_2 = add_sub(5,4)\n",
    "print(result_1)\n",
    "print(result_2)"
   ]
  },
  {
   "cell_type": "code",
   "execution_count": 16,
   "id": "08313795",
   "metadata": {},
   "outputs": [],
   "source": [
    "def positive_negative_zero(num):\n",
    "    \n",
    "    if num > 0:\n",
    "        return \"Positive!\"\n",
    "    \n",
    "    elif num == 0:\n",
    "        return \"Zero\"\n",
    "    \n",
    "    else:\n",
    "        return \"Negative\""
   ]
  },
  {
   "cell_type": "code",
   "execution_count": 17,
   "id": "77b02fd5",
   "metadata": {},
   "outputs": [
    {
     "data": {
      "text/plain": [
       "'Positive!'"
      ]
     },
     "execution_count": 17,
     "metadata": {},
     "output_type": "execute_result"
    }
   ],
   "source": [
    "num_type = positive_negative_zero(20)\n",
    "num_type"
   ]
  },
  {
   "cell_type": "code",
   "execution_count": 18,
   "id": "d0028566",
   "metadata": {},
   "outputs": [
    {
     "data": {
      "text/plain": [
       "'Negative'"
      ]
     },
     "execution_count": 18,
     "metadata": {},
     "output_type": "execute_result"
    }
   ],
   "source": [
    "num_type = positive_negative_zero(-20001)\n",
    "num_type"
   ]
  },
  {
   "cell_type": "code",
   "execution_count": 19,
   "id": "17e090fa",
   "metadata": {},
   "outputs": [
    {
     "data": {
      "text/plain": [
       "'Zero'"
      ]
     },
     "execution_count": 19,
     "metadata": {},
     "output_type": "execute_result"
    }
   ],
   "source": [
    "num_type = positive_negative_zero(0)\n",
    "num_type"
   ]
  },
  {
   "cell_type": "code",
   "execution_count": 20,
   "id": "8b094cb1",
   "metadata": {},
   "outputs": [],
   "source": [
    "def find_max_in_list(some_list):\n",
    "    \n",
    "    len_list = len(some_list)\n",
    "    \n",
    "    if len_list == 0:\n",
    "        print(\"Zero element list.\")\n",
    "        \n",
    "        return None\n",
    "    \n",
    "    else:\n",
    "        \n",
    "        max_element = some_list[0]\n",
    "\n",
    "        len_list = len(some_list)\n",
    "\n",
    "        for i in range(len_list):\n",
    "            print(f\"some_list[{i}]: \",some_list[i])\n",
    "\n",
    "            if some_list[i] > max_element:\n",
    "                max_element = some_list[i]\n",
    "                print(\"max_element: \",max_element)\n",
    "\n",
    "        return max_element"
   ]
  },
  {
   "cell_type": "code",
   "execution_count": 21,
   "id": "5e550b0c",
   "metadata": {},
   "outputs": [
    {
     "name": "stdout",
     "output_type": "stream",
     "text": [
      "Zero element list.\n"
     ]
    }
   ],
   "source": [
    "max_element = find_max_in_list([])"
   ]
  },
  {
   "cell_type": "code",
   "execution_count": 22,
   "id": "af201ff2",
   "metadata": {},
   "outputs": [],
   "source": [
    "max_element"
   ]
  },
  {
   "cell_type": "code",
   "execution_count": 23,
   "id": "a493ede0",
   "metadata": {},
   "outputs": [
    {
     "name": "stdout",
     "output_type": "stream",
     "text": [
      "Zero element list.\n"
     ]
    }
   ],
   "source": [
    "max_element = find_max_in_list([])\n",
    "max_element"
   ]
  },
  {
   "cell_type": "code",
   "execution_count": 26,
   "id": "2d8bfd85",
   "metadata": {},
   "outputs": [
    {
     "name": "stdout",
     "output_type": "stream",
     "text": [
      "some_list[0]:  1\n",
      "some_list[1]:  2\n",
      "max_element:  2\n",
      "some_list[2]:  5\n",
      "max_element:  5\n",
      "some_list[3]:  11\n",
      "max_element:  11\n",
      "some_list[4]:  1\n"
     ]
    },
    {
     "data": {
      "text/plain": [
       "11"
      ]
     },
     "execution_count": 26,
     "metadata": {},
     "output_type": "execute_result"
    }
   ],
   "source": [
    "max_element = find_max_in_list([1,2,5,11,1])\n",
    "max_element"
   ]
  },
  {
   "cell_type": "code",
   "execution_count": 43,
   "id": "2075295c",
   "metadata": {},
   "outputs": [],
   "source": [
    "def find_first_capital_letter(some_string):\n",
    "    \n",
    "    capital_letter = None\n",
    "    length = len(some_string)\n",
    "    \n",
    "    for i in range(length):\n",
    "        print(some_string[i])\n",
    "        \n",
    "        if some_string[i] == some_string[i].upper() and some_string[i] != \" \":\n",
    "            capital_letter = some_string[i]\n",
    "            break\n",
    "            \n",
    "    if capital_letter is None:\n",
    "        return \"No capital letters.\"\n",
    "    else:\n",
    "        return capital_letter"
   ]
  },
  {
   "cell_type": "code",
   "execution_count": 46,
   "id": "31ea67d4",
   "metadata": {},
   "outputs": [
    {
     "name": "stdout",
     "output_type": "stream",
     "text": [
      "h\n",
      "o\n",
      "w\n",
      " \n",
      "a\n",
      "r\n",
      "e\n",
      " \n",
      "y\n",
      "o\n",
      "u\n"
     ]
    },
    {
     "data": {
      "text/plain": [
       "'No capital letters.'"
      ]
     },
     "execution_count": 46,
     "metadata": {},
     "output_type": "execute_result"
    }
   ],
   "source": [
    "upper_char = find_first_capital_letter(\"how are you\")\n",
    "upper_char"
   ]
  },
  {
   "cell_type": "code",
   "execution_count": 47,
   "id": "ad8547d6",
   "metadata": {},
   "outputs": [],
   "source": [
    "def create_dict(name, age, occupation):\n",
    "    \n",
    "    dictionary = {\n",
    "        \"name\": name,\n",
    "        \"age\": age,\n",
    "        \"occupation\": occupation\n",
    "    }\n",
    "    \n",
    "    return dictionary"
   ]
  },
  {
   "cell_type": "code",
   "execution_count": 48,
   "id": "e0b9e2df",
   "metadata": {},
   "outputs": [
    {
     "data": {
      "text/plain": [
       "{'name': 'Alyssa', 'age': 23, 'occupation': 'Typist'}"
      ]
     },
     "execution_count": 48,
     "metadata": {},
     "output_type": "execute_result"
    }
   ],
   "source": [
    "my_dict = create_dict(\"Alyssa\", 23, \"Typist\")\n",
    "my_dict"
   ]
  },
  {
   "cell_type": "code",
   "execution_count": 49,
   "id": "a4d26a16",
   "metadata": {},
   "outputs": [],
   "source": [
    "def generate_list(name, num_of_elements):\n",
    "    \n",
    "    return_list = []\n",
    "    \n",
    "    for i in range(num_of_elements):\n",
    "        return_list.append(name)\n",
    "    \n",
    "    return return_list"
   ]
  },
  {
   "cell_type": "code",
   "execution_count": 50,
   "id": "24495b27",
   "metadata": {},
   "outputs": [],
   "source": [
    "my_list = generate_list(\"Louis\", 5)"
   ]
  },
  {
   "cell_type": "code",
   "execution_count": 51,
   "id": "b6f5e964",
   "metadata": {},
   "outputs": [
    {
     "data": {
      "text/plain": [
       "['Louis', 'Louis', 'Louis', 'Louis', 'Louis']"
      ]
     },
     "execution_count": 51,
     "metadata": {},
     "output_type": "execute_result"
    }
   ],
   "source": [
    "my_list"
   ]
  },
  {
   "cell_type": "code",
   "execution_count": null,
   "id": "d0b59677",
   "metadata": {},
   "outputs": [],
   "source": []
  }
 ],
 "metadata": {
  "kernelspec": {
   "display_name": "Python 3 (ipykernel)",
   "language": "python",
   "name": "python3"
  },
  "language_info": {
   "codemirror_mode": {
    "name": "ipython",
    "version": 3
   },
   "file_extension": ".py",
   "mimetype": "text/x-python",
   "name": "python",
   "nbconvert_exporter": "python",
   "pygments_lexer": "ipython3",
   "version": "3.11.3"
  }
 },
 "nbformat": 4,
 "nbformat_minor": 5
}
