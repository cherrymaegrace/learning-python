{
 "cells": [
  {
   "cell_type": "markdown",
   "id": "900be890",
   "metadata": {},
   "source": [
    "### Dictionary\n",
    "\n",
    "Dictionary is a mapping of key-value pairs. Dictionary is initialized using a `{}`.\n",
    "\n",
    "To access a value: `dict_name[key]`\n",
    "\n",
    "Keys in a dictionary should be unique.\n",
    "\n",
    "Adding key-value pairs as well as updating values for existing keys can be done.\n",
    "\n",
    "#### Functions\n",
    "- `.keys()` - returns a list of all the keys in a dictionary\n",
    "- `.values()` - returns a list of all the values in a dictionary\n",
    "- `.get(key)` - returns the value of a key\n",
    "- `del dict_name[key]` - deletes a key-value pair"
   ]
  },
  {
   "cell_type": "code",
   "execution_count": 1,
   "id": "4cad249b",
   "metadata": {},
   "outputs": [],
   "source": [
    "empty_dict = {}"
   ]
  },
  {
   "cell_type": "code",
   "execution_count": 2,
   "id": "eaa78d8a",
   "metadata": {},
   "outputs": [
    {
     "data": {
      "text/plain": [
       "{'James': 'Ducati Monster 1200',\n",
       " 'Jacob': 'Ducati Scrambler 1100',\n",
       " 'William': 'BMW S 1000 RR',\n",
       " 'Aiden': 'Harley Davidson'}"
      ]
     },
     "execution_count": 2,
     "metadata": {},
     "output_type": "execute_result"
    }
   ],
   "source": [
    "bike_owners = {\"James\": \"Ducati Monster 1200\",\n",
    "              \"Jacob\": \"Ducati Scrambler 1100\",\n",
    "              \"William\": \"BMW S 1000 RR\",\n",
    "              \"Aiden\": \"Harley Davidson\"}\n",
    "bike_owners"
   ]
  },
  {
   "cell_type": "code",
   "execution_count": 3,
   "id": "ecccb0c7",
   "metadata": {},
   "outputs": [
    {
     "data": {
      "text/plain": [
       "'Ducati Monster 1200'"
      ]
     },
     "execution_count": 3,
     "metadata": {},
     "output_type": "execute_result"
    }
   ],
   "source": [
    "bike_owners[\"James\"]"
   ]
  },
  {
   "cell_type": "code",
   "execution_count": 4,
   "id": "e7787a83",
   "metadata": {},
   "outputs": [],
   "source": [
    "int_dict = {1: 45, 2: 55, 3: 65}"
   ]
  },
  {
   "cell_type": "code",
   "execution_count": 5,
   "id": "a5d10df5",
   "metadata": {},
   "outputs": [
    {
     "data": {
      "text/plain": [
       "55"
      ]
     },
     "execution_count": 5,
     "metadata": {},
     "output_type": "execute_result"
    }
   ],
   "source": [
    "int_dict[2]"
   ]
  },
  {
   "cell_type": "code",
   "execution_count": 6,
   "id": "5c3f8ca8",
   "metadata": {},
   "outputs": [
    {
     "data": {
      "text/plain": [
       "dict_keys(['James', 'Jacob', 'William', 'Aiden'])"
      ]
     },
     "execution_count": 6,
     "metadata": {},
     "output_type": "execute_result"
    }
   ],
   "source": [
    "bike_owners.keys()"
   ]
  },
  {
   "cell_type": "code",
   "execution_count": 7,
   "id": "1418caf9",
   "metadata": {},
   "outputs": [
    {
     "data": {
      "text/plain": [
       "True"
      ]
     },
     "execution_count": 7,
     "metadata": {},
     "output_type": "execute_result"
    }
   ],
   "source": [
    "\"James\" in bike_owners.keys()"
   ]
  },
  {
   "cell_type": "code",
   "execution_count": 8,
   "id": "39c2f688",
   "metadata": {},
   "outputs": [
    {
     "data": {
      "text/plain": [
       "False"
      ]
     },
     "execution_count": 8,
     "metadata": {},
     "output_type": "execute_result"
    }
   ],
   "source": [
    "\"Cherry\" in bike_owners.keys()"
   ]
  },
  {
   "cell_type": "code",
   "execution_count": 9,
   "id": "f8598730",
   "metadata": {},
   "outputs": [
    {
     "data": {
      "text/plain": [
       "dict_values(['Ducati Monster 1200', 'Ducati Scrambler 1100', 'BMW S 1000 RR', 'Harley Davidson'])"
      ]
     },
     "execution_count": 9,
     "metadata": {},
     "output_type": "execute_result"
    }
   ],
   "source": [
    "bike_owners.values()"
   ]
  },
  {
   "cell_type": "code",
   "execution_count": 10,
   "id": "909678b3",
   "metadata": {},
   "outputs": [],
   "source": [
    "mixed_dict = {False: \"Daniel\",\n",
    "             \"Aria\": [1, 2, 3],\n",
    "             \"Jacob\": True}"
   ]
  },
  {
   "cell_type": "code",
   "execution_count": 11,
   "id": "3b4dcc25",
   "metadata": {},
   "outputs": [
    {
     "data": {
      "text/plain": [
       "'Daniel'"
      ]
     },
     "execution_count": 11,
     "metadata": {},
     "output_type": "execute_result"
    }
   ],
   "source": [
    "mixed_dict[False]"
   ]
  },
  {
   "cell_type": "code",
   "execution_count": 12,
   "id": "e98be2f1",
   "metadata": {},
   "outputs": [],
   "source": [
    "bike_details = {\"bike owner\": \"James Smith\",\n",
    "               \"bike_model\": \"Ducati Monster 1200\",\n",
    "               \"bike_price\": 28140,\n",
    "               \"engine_displacement\": 1197}"
   ]
  },
  {
   "cell_type": "code",
   "execution_count": 13,
   "id": "c958bb86",
   "metadata": {},
   "outputs": [],
   "source": [
    "bike_details[\"num_cylinders\"] = 2"
   ]
  },
  {
   "cell_type": "code",
   "execution_count": 14,
   "id": "56a12636",
   "metadata": {},
   "outputs": [
    {
     "data": {
      "text/plain": [
       "{'bike owner': 'James Smith',\n",
       " 'bike_model': 'Ducati Monster 1200',\n",
       " 'bike_price': 28140,\n",
       " 'engine_displacement': 1197,\n",
       " 'num_cylinders': 2}"
      ]
     },
     "execution_count": 14,
     "metadata": {},
     "output_type": "execute_result"
    }
   ],
   "source": [
    "bike_details"
   ]
  },
  {
   "cell_type": "code",
   "execution_count": 15,
   "id": "d030d760",
   "metadata": {},
   "outputs": [
    {
     "data": {
      "text/plain": [
       "{'bike owner': 'James Smith',\n",
       " 'bike_model': 'Ducati Monster 1200',\n",
       " 'bike_price': 29140,\n",
       " 'engine_displacement': 1197,\n",
       " 'num_cylinders': 2}"
      ]
     },
     "execution_count": 15,
     "metadata": {},
     "output_type": "execute_result"
    }
   ],
   "source": [
    "bike_details[\"bike_price\"] = 29140\n",
    "bike_details"
   ]
  },
  {
   "cell_type": "code",
   "execution_count": 16,
   "id": "906fed1d",
   "metadata": {},
   "outputs": [
    {
     "data": {
      "text/plain": [
       "'Ducati Monster 1200'"
      ]
     },
     "execution_count": 16,
     "metadata": {},
     "output_type": "execute_result"
    }
   ],
   "source": [
    "bike_details.get(\"bike_model\")"
   ]
  },
  {
   "cell_type": "code",
   "execution_count": 17,
   "id": "7bd5d1c5",
   "metadata": {},
   "outputs": [],
   "source": [
    "del bike_details[\"engine_displacement\"]"
   ]
  },
  {
   "cell_type": "code",
   "execution_count": 18,
   "id": "d63fcf4e",
   "metadata": {},
   "outputs": [
    {
     "data": {
      "text/plain": [
       "{'bike owner': 'James Smith',\n",
       " 'bike_model': 'Ducati Monster 1200',\n",
       " 'bike_price': 29140,\n",
       " 'num_cylinders': 2}"
      ]
     },
     "execution_count": 18,
     "metadata": {},
     "output_type": "execute_result"
    }
   ],
   "source": [
    "bike_details"
   ]
  },
  {
   "cell_type": "code",
   "execution_count": 19,
   "id": "09528564",
   "metadata": {},
   "outputs": [],
   "source": [
    "fruit_qty = {}"
   ]
  },
  {
   "cell_type": "code",
   "execution_count": 20,
   "id": "8658ff66",
   "metadata": {},
   "outputs": [],
   "source": [
    "fruit_qty[\"Banana\"] = 50\n",
    "fruit_qty[\"Apple\"] = 78\n",
    "fruit_qty[\"Apricot\"] = 40"
   ]
  },
  {
   "cell_type": "code",
   "execution_count": 21,
   "id": "881e6104",
   "metadata": {},
   "outputs": [
    {
     "data": {
      "text/plain": [
       "{'Banana': 50, 'Apple': 78, 'Apricot': 40}"
      ]
     },
     "execution_count": 21,
     "metadata": {},
     "output_type": "execute_result"
    }
   ],
   "source": [
    "fruit_qty"
   ]
  },
  {
   "cell_type": "code",
   "execution_count": 22,
   "id": "2cde2848",
   "metadata": {},
   "outputs": [],
   "source": [
    "fruit_qty[\"Orange\"] = 70\n",
    "fruit_qty[\"Avocado\"] = 30"
   ]
  },
  {
   "cell_type": "code",
   "execution_count": 23,
   "id": "e028f07c",
   "metadata": {},
   "outputs": [
    {
     "data": {
      "text/plain": [
       "{'Banana': 50, 'Apple': 78, 'Apricot': 40, 'Orange': 70, 'Avocado': 30}"
      ]
     },
     "execution_count": 23,
     "metadata": {},
     "output_type": "execute_result"
    }
   ],
   "source": [
    "fruit_qty"
   ]
  },
  {
   "cell_type": "code",
   "execution_count": 24,
   "id": "92f3f8e5",
   "metadata": {},
   "outputs": [
    {
     "data": {
      "text/plain": [
       "40"
      ]
     },
     "execution_count": 24,
     "metadata": {},
     "output_type": "execute_result"
    }
   ],
   "source": [
    "fruit_qty[\"Apricot\"]"
   ]
  },
  {
   "cell_type": "code",
   "execution_count": 25,
   "id": "9deb3ae6",
   "metadata": {},
   "outputs": [
    {
     "ename": "KeyError",
     "evalue": "'Watermelon'",
     "output_type": "error",
     "traceback": [
      "\u001b[1;31m---------------------------------------------------------------------------\u001b[0m",
      "\u001b[1;31mKeyError\u001b[0m                                  Traceback (most recent call last)",
      "Cell \u001b[1;32mIn[25], line 1\u001b[0m\n\u001b[1;32m----> 1\u001b[0m \u001b[43mfruit_qty\u001b[49m\u001b[43m[\u001b[49m\u001b[38;5;124;43m\"\u001b[39;49m\u001b[38;5;124;43mWatermelon\u001b[39;49m\u001b[38;5;124;43m\"\u001b[39;49m\u001b[43m]\u001b[49m\n",
      "\u001b[1;31mKeyError\u001b[0m: 'Watermelon'"
     ]
    }
   ],
   "source": [
    "fruit_qty[\"Watermelon\"]"
   ]
  },
  {
   "cell_type": "code",
   "execution_count": 26,
   "id": "4c5996eb",
   "metadata": {},
   "outputs": [],
   "source": [
    "fruit_qty[\"Watermelon\"] = 10"
   ]
  },
  {
   "cell_type": "code",
   "execution_count": 27,
   "id": "63a6b875",
   "metadata": {},
   "outputs": [
    {
     "data": {
      "text/plain": [
       "10"
      ]
     },
     "execution_count": 27,
     "metadata": {},
     "output_type": "execute_result"
    }
   ],
   "source": [
    "fruit_qty[\"Watermelon\"]"
   ]
  },
  {
   "cell_type": "code",
   "execution_count": 28,
   "id": "93bb9b1f",
   "metadata": {},
   "outputs": [],
   "source": [
    "fruit_qty_consumed = {\"Banana\": {\"Fri\": 70, \"Sat\": 80, \"Sun\": 95},\n",
    "                      \"Apple\": {\"Fri\": 90, \"Sat\": 95, \"Sun\": 110},\n",
    "                      \"Apricot\": {\"Fri\": 70, \"Sat\": 85, \"Sun\": 95},\n",
    "                      \"Orange\": {\"Fri\": 80, \"Sat\": 90, \"Sun\": 100},\n",
    "                      \"Avocado\": {\"Fri\": 60, \"Sat\": 70, \"Sun\": 80}\n",
    "}"
   ]
  },
  {
   "cell_type": "code",
   "execution_count": 29,
   "id": "5a9fcd36",
   "metadata": {},
   "outputs": [
    {
     "data": {
      "text/plain": [
       "95"
      ]
     },
     "execution_count": 29,
     "metadata": {},
     "output_type": "execute_result"
    }
   ],
   "source": [
    "fruit_qty_consumed[\"Apricot\"][\"Sun\"]"
   ]
  },
  {
   "cell_type": "code",
   "execution_count": null,
   "id": "a7d421ab",
   "metadata": {},
   "outputs": [],
   "source": []
  }
 ],
 "metadata": {
  "kernelspec": {
   "display_name": "Python 3 (ipykernel)",
   "language": "python",
   "name": "python3"
  },
  "language_info": {
   "codemirror_mode": {
    "name": "ipython",
    "version": 3
   },
   "file_extension": ".py",
   "mimetype": "text/x-python",
   "name": "python",
   "nbconvert_exporter": "python",
   "pygments_lexer": "ipython3",
   "version": "3.9.12"
  }
 },
 "nbformat": 4,
 "nbformat_minor": 5
}
