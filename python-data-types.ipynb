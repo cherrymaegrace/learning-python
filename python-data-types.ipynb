{
 "cells": [
  {
   "cell_type": "markdown",
   "id": "7fc8df6f",
   "metadata": {},
   "source": [
    "### Data Types\n",
    "\n",
    "int\n",
    "float\n",
    "str\n",
    "bool\n",
    "complex\n",
    "\n",
    "Binary values - should have a prefix 0b\n",
    "Hexadecimal - should have a prefix 0x\n",
    "Octal - should have a prefix 0o"
   ]
  },
  {
   "cell_type": "code",
   "execution_count": 4,
   "id": "0321e33e",
   "metadata": {},
   "outputs": [
    {
     "data": {
      "text/plain": [
       "float"
      ]
     },
     "execution_count": 4,
     "metadata": {},
     "output_type": "execute_result"
    }
   ],
   "source": [
    "type(25.5)"
   ]
  },
  {
   "cell_type": "code",
   "execution_count": 2,
   "id": "2337d543",
   "metadata": {},
   "outputs": [
    {
     "name": "stdout",
     "output_type": "stream",
     "text": [
      "Data type of  25 is <class 'int'>\n"
     ]
    }
   ],
   "source": [
    "x = 25\n",
    "\n",
    "print(\"Data type of \", x, 'is', type(x))"
   ]
  },
  {
   "cell_type": "code",
   "execution_count": 3,
   "id": "762f68eb",
   "metadata": {},
   "outputs": [
    {
     "name": "stdout",
     "output_type": "stream",
     "text": [
      "Data type of 25 is <class 'complex'>\n"
     ]
    }
   ],
   "source": [
    "z =5j\n",
    "\n",
    "print(\"Data type of\", x, 'is', type(z))"
   ]
  },
  {
   "cell_type": "code",
   "execution_count": 8,
   "id": "ea9e3a59",
   "metadata": {},
   "outputs": [
    {
     "name": "stdout",
     "output_type": "stream",
     "text": [
      "525\n"
     ]
    }
   ],
   "source": [
    "print(0b1000001101)"
   ]
  },
  {
   "cell_type": "code",
   "execution_count": null,
   "id": "fe585884",
   "metadata": {},
   "outputs": [],
   "source": []
  }
 ],
 "metadata": {
  "kernelspec": {
   "display_name": "Python 3 (ipykernel)",
   "language": "python",
   "name": "python3"
  },
  "language_info": {
   "codemirror_mode": {
    "name": "ipython",
    "version": 3
   },
   "file_extension": ".py",
   "mimetype": "text/x-python",
   "name": "python",
   "nbconvert_exporter": "python",
   "pygments_lexer": "ipython3",
   "version": "3.9.12"
  }
 },
 "nbformat": 4,
 "nbformat_minor": 5
}
