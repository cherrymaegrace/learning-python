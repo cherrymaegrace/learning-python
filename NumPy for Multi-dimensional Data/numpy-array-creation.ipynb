{
 "cells": [
  {
   "cell_type": "markdown",
   "id": "9b058c3b",
   "metadata": {},
   "source": [
    "### NumPy Ecosystem\n",
    "\n",
    "1. statsmodel\n",
    "2. scikit-image\n",
    "3. scikit-learn\n",
    "4. pandas\n",
    "5. matplotlib\n"
   ]
  },
  {
   "cell_type": "code",
   "execution_count": 3,
   "id": "e30f7735",
   "metadata": {},
   "outputs": [
    {
     "name": "stdout",
     "output_type": "stream",
     "text": [
      "Requirement already satisfied: numpy in c:\\users\\cherry mae\\anaconda3\\lib\\site-packages (1.25.2)\n"
     ]
    }
   ],
   "source": [
    "!pip install numpy"
   ]
  },
  {
   "cell_type": "code",
   "execution_count": 4,
   "id": "8ef871f5",
   "metadata": {},
   "outputs": [],
   "source": [
    "import numpy as np"
   ]
  },
  {
   "cell_type": "code",
   "execution_count": 5,
   "id": "a004d954",
   "metadata": {},
   "outputs": [],
   "source": [
    "array_one = np.array([0, 1, 3, 5, 7, 9])"
   ]
  },
  {
   "cell_type": "code",
   "execution_count": 6,
   "id": "6f883ba3",
   "metadata": {},
   "outputs": [
    {
     "data": {
      "text/plain": [
       "array([0, 1, 3, 5, 7, 9])"
      ]
     },
     "execution_count": 6,
     "metadata": {},
     "output_type": "execute_result"
    }
   ],
   "source": [
    "array_one"
   ]
  },
  {
   "cell_type": "code",
   "execution_count": 7,
   "id": "be253a04",
   "metadata": {},
   "outputs": [
    {
     "data": {
      "text/plain": [
       "array([11, 22, 33, 44, 55, 66, 77])"
      ]
     },
     "execution_count": 7,
     "metadata": {},
     "output_type": "execute_result"
    }
   ],
   "source": [
    "num = [11, 22, 33, 44, 55, 66, 77]\n",
    "array_two = np.array(num)\n",
    "\n",
    "array_two"
   ]
  },
  {
   "cell_type": "markdown",
   "id": "05389273",
   "metadata": {},
   "source": [
    "### zeros((n, m)) function\n",
    "\n",
    "creates an array with zero values and a size of (n, m)\n",
    "default data type - float\n",
    "\n",
    "### ones((n, m)) function\n",
    "\n",
    "creates an array with 1 value and a size of (n, m)\n",
    "default data type - float\n",
    "\n",
    "### empty((n, m)) function\n",
    "\n",
    "creates an array with empty values and a size of (n, m)"
   ]
  },
  {
   "cell_type": "code",
   "execution_count": 8,
   "id": "7deb5e9d",
   "metadata": {},
   "outputs": [
    {
     "data": {
      "text/plain": [
       "array([[0., 0., 0.],\n",
       "       [0., 0., 0.]])"
      ]
     },
     "execution_count": 8,
     "metadata": {},
     "output_type": "execute_result"
    }
   ],
   "source": [
    "array_of_zeroes = np.zeros((2,3))\n",
    "array_of_zeroes"
   ]
  },
  {
   "cell_type": "code",
   "execution_count": 11,
   "id": "40605c8b",
   "metadata": {},
   "outputs": [
    {
     "data": {
      "text/plain": [
       "array([[1., 1.],\n",
       "       [1., 1.],\n",
       "       [1., 1.]])"
      ]
     },
     "execution_count": 11,
     "metadata": {},
     "output_type": "execute_result"
    }
   ],
   "source": [
    "array_of_ones = np.ones((3,2))\n",
    "array_of_ones"
   ]
  },
  {
   "cell_type": "code",
   "execution_count": 12,
   "id": "e0f45a7b",
   "metadata": {},
   "outputs": [
    {
     "data": {
      "text/plain": [
       "array([[1, 1],\n",
       "       [1, 1],\n",
       "       [1, 1]])"
      ]
     },
     "execution_count": 12,
     "metadata": {},
     "output_type": "execute_result"
    }
   ],
   "source": [
    "array_of_ones = np.ones((3,2), dtype=np.int32)\n",
    "array_of_ones"
   ]
  },
  {
   "cell_type": "code",
   "execution_count": 13,
   "id": "d74522fb",
   "metadata": {},
   "outputs": [
    {
     "data": {
      "text/plain": [
       "array([[1.03212452e-311, 1.03208776e-311, 3.10422585e+169,\n",
       "        7.20100765e+252, 2.21057010e+161, 7.62870734e+228,\n",
       "        6.62901773e+265],\n",
       "       [2.16209963e+233, 3.18892178e-110, 5.12693495e-116,\n",
       "        2.95776535e+203, 5.71446009e-307, 1.03212446e-311,\n",
       "        1.03208500e-311],\n",
       "       [1.86170188e+243, 8.24227379e-072, 2.58437852e+185,\n",
       "        4.83245960e+276, 2.92298185e+222, 8.54795557e+141,\n",
       "        1.99255405e-311],\n",
       "       [5.71425971e-307, 1.03212498e-311, 1.03208772e-311,\n",
       "        4.34728362e-320, 2.60860094e-138, 0.00000000e+000,\n",
       "        2.68955553e-317]])"
      ]
     },
     "execution_count": 13,
     "metadata": {},
     "output_type": "execute_result"
    }
   ],
   "source": [
    "array_empty = np.empty((4,7))\n",
    "array_empty"
   ]
  },
  {
   "cell_type": "markdown",
   "id": "f081e2ac",
   "metadata": {},
   "source": [
    "### eye(n) function\n",
    "\n",
    "creates a square array with size n\n",
    "diagonal values are 1; all other values are 0\n",
    "\n",
    "### arange(x, y, i) function\n",
    "\n",
    "creates a one-dimensional array with values x (lower bound) to y (upper bound, exclusive) with i interval\n",
    "\n",
    "### reshape(n, m) function\n",
    "converts an array to a specified size (n, m)\n",
    "\n",
    "### ones_like(array) function\n",
    "creates a new array with 1 values which shape is the same as that of the array argument"
   ]
  },
  {
   "cell_type": "code",
   "execution_count": 14,
   "id": "f1a450f8",
   "metadata": {},
   "outputs": [
    {
     "data": {
      "text/plain": [
       "array([[1., 0., 0., 0.],\n",
       "       [0., 1., 0., 0.],\n",
       "       [0., 0., 1., 0.],\n",
       "       [0., 0., 0., 1.]])"
      ]
     },
     "execution_count": 14,
     "metadata": {},
     "output_type": "execute_result"
    }
   ],
   "source": [
    "array_eye = np.eye(4)\n",
    "array_eye"
   ]
  },
  {
   "cell_type": "code",
   "execution_count": 15,
   "id": "5b93eea5",
   "metadata": {},
   "outputs": [
    {
     "data": {
      "text/plain": [
       "array([ 2,  4,  6,  8, 10, 12, 14, 16, 18, 20, 22])"
      ]
     },
     "execution_count": 15,
     "metadata": {},
     "output_type": "execute_result"
    }
   ],
   "source": [
    "array_of_evens = np.arange(2, 24, 2)\n",
    "array_of_evens"
   ]
  },
  {
   "cell_type": "code",
   "execution_count": 19,
   "id": "33d5429c",
   "metadata": {},
   "outputs": [
    {
     "data": {
      "text/plain": [
       "array([[3, 4, 6],\n",
       "       [2, 1, 6]])"
      ]
     },
     "execution_count": 19,
     "metadata": {},
     "output_type": "execute_result"
    }
   ],
   "source": [
    "array_2D = np.array([[3,4,6],[2,1,6]])\n",
    "array_2D"
   ]
  },
  {
   "cell_type": "code",
   "execution_count": 17,
   "id": "2249ad1e",
   "metadata": {},
   "outputs": [
    {
     "data": {
      "text/plain": [
       "(2, 3)"
      ]
     },
     "execution_count": 17,
     "metadata": {},
     "output_type": "execute_result"
    }
   ],
   "source": [
    "array_2D.shape"
   ]
  },
  {
   "cell_type": "code",
   "execution_count": 21,
   "id": "6806dfa9",
   "metadata": {},
   "outputs": [
    {
     "data": {
      "text/plain": [
       "array([[ 1,  2,  3,  4,  5],\n",
       "       [ 6,  7,  8,  9, 10]])"
      ]
     },
     "execution_count": 21,
     "metadata": {},
     "output_type": "execute_result"
    }
   ],
   "source": [
    "array_nd = np.arange(1,11).reshape(2,5)\n",
    "array_nd"
   ]
  },
  {
   "cell_type": "code",
   "execution_count": 22,
   "id": "741c05c9",
   "metadata": {},
   "outputs": [],
   "source": [
    "array_ones = np.ones_like(array_nd)"
   ]
  },
  {
   "cell_type": "code",
   "execution_count": 23,
   "id": "8b325111",
   "metadata": {},
   "outputs": [
    {
     "data": {
      "text/plain": [
       "array([[1, 1, 1, 1, 1],\n",
       "       [1, 1, 1, 1, 1]])"
      ]
     },
     "execution_count": 23,
     "metadata": {},
     "output_type": "execute_result"
    }
   ],
   "source": [
    "array_ones"
   ]
  },
  {
   "cell_type": "code",
   "execution_count": null,
   "id": "7d47e594",
   "metadata": {},
   "outputs": [],
   "source": []
  }
 ],
 "metadata": {
  "kernelspec": {
   "display_name": "Python 3 (ipykernel)",
   "language": "python",
   "name": "python3"
  },
  "language_info": {
   "codemirror_mode": {
    "name": "ipython",
    "version": 3
   },
   "file_extension": ".py",
   "mimetype": "text/x-python",
   "name": "python",
   "nbconvert_exporter": "python",
   "pygments_lexer": "ipython3",
   "version": "3.11.3"
  }
 },
 "nbformat": 4,
 "nbformat_minor": 5
}
