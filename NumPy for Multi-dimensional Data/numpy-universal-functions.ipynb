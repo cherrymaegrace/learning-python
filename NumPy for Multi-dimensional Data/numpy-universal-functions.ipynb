{
 "cells": [
  {
   "cell_type": "code",
   "execution_count": 1,
   "id": "77e3ce11",
   "metadata": {},
   "outputs": [],
   "source": [
    "import numpy as np"
   ]
  },
  {
   "cell_type": "code",
   "execution_count": 2,
   "id": "58399ed0",
   "metadata": {},
   "outputs": [],
   "source": [
    "circle_radii = np.array([145, 120, 90, 60, 45, 30])"
   ]
  },
  {
   "cell_type": "code",
   "execution_count": 4,
   "id": "1e5ac840",
   "metadata": {},
   "outputs": [
    {
     "data": {
      "text/plain": [
       "array([290, 240, 180, 120,  90,  60])"
      ]
     },
     "execution_count": 4,
     "metadata": {},
     "output_type": "execute_result"
    }
   ],
   "source": [
    "circle_diameters = circle_radii * 2\n",
    "\n",
    "circle_diameters"
   ]
  },
  {
   "cell_type": "code",
   "execution_count": 6,
   "id": "1e901dcd",
   "metadata": {},
   "outputs": [
    {
     "data": {
      "text/plain": [
       "array([911.06186954, 753.98223686, 565.48667765, 376.99111843,\n",
       "       282.74333882, 188.49555922])"
      ]
     },
     "execution_count": 6,
     "metadata": {},
     "output_type": "execute_result"
    }
   ],
   "source": [
    "circle_areas = np.pi * circle_radii * 2\n",
    "\n",
    "circle_areas"
   ]
  },
  {
   "cell_type": "code",
   "execution_count": 7,
   "id": "34cdc89d",
   "metadata": {},
   "outputs": [],
   "source": [
    "angle_degrees = np.array([0, 30, 60, 90, 120, 150, 180, 210, 240, 270, 300, 330, 360])"
   ]
  },
  {
   "cell_type": "code",
   "execution_count": 8,
   "id": "73804014",
   "metadata": {},
   "outputs": [
    {
     "data": {
      "text/plain": [
       "array([0.        , 0.52359878, 1.04719755, 1.57079633, 2.0943951 ,\n",
       "       2.61799388, 3.14159265, 3.66519143, 4.1887902 , 4.71238898,\n",
       "       5.23598776, 5.75958653, 6.28318531])"
      ]
     },
     "execution_count": 8,
     "metadata": {},
     "output_type": "execute_result"
    }
   ],
   "source": [
    "angle_radians = angle_degrees * np.pi / 180\n",
    "\n",
    "angle_radians"
   ]
  },
  {
   "cell_type": "code",
   "execution_count": 10,
   "id": "57cdcf5a",
   "metadata": {},
   "outputs": [
    {
     "data": {
      "text/plain": [
       "array([ 0.00000000e+00,  5.00000000e-01,  8.66025404e-01,  1.00000000e+00,\n",
       "        8.66025404e-01,  5.00000000e-01,  1.22464680e-16, -5.00000000e-01,\n",
       "       -8.66025404e-01, -1.00000000e+00, -8.66025404e-01, -5.00000000e-01,\n",
       "       -2.44929360e-16])"
      ]
     },
     "execution_count": 10,
     "metadata": {},
     "output_type": "execute_result"
    }
   ],
   "source": [
    "np.sin(angle_radians)"
   ]
  },
  {
   "cell_type": "code",
   "execution_count": 11,
   "id": "adabab00",
   "metadata": {},
   "outputs": [
    {
     "data": {
      "text/plain": [
       "array([ 0.00000000e+00,  5.23598776e-01,  1.04719755e+00,  1.57079633e+00,\n",
       "        1.04719755e+00,  5.23598776e-01,  1.22464680e-16, -5.23598776e-01,\n",
       "       -1.04719755e+00, -1.57079633e+00, -1.04719755e+00, -5.23598776e-01,\n",
       "       -2.44929360e-16])"
      ]
     },
     "execution_count": 11,
     "metadata": {},
     "output_type": "execute_result"
    }
   ],
   "source": [
    "np.arcsin(np.sin(angle_radians))"
   ]
  },
  {
   "cell_type": "code",
   "execution_count": 12,
   "id": "727052a8",
   "metadata": {},
   "outputs": [
    {
     "data": {
      "text/plain": [
       "array([ 4,  9, 14, 19, 24, 29])"
      ]
     },
     "execution_count": 12,
     "metadata": {},
     "output_type": "execute_result"
    }
   ],
   "source": [
    "x = np.arange(4, 31, 5)\n",
    "\n",
    "x"
   ]
  },
  {
   "cell_type": "code",
   "execution_count": 14,
   "id": "e79ce63a",
   "metadata": {},
   "outputs": [
    {
     "data": {
      "text/plain": [
       "array([5.45981500e+01, 8.10308393e+03, 1.20260428e+06, 1.78482301e+08,\n",
       "       2.64891221e+10, 3.93133430e+12])"
      ]
     },
     "execution_count": 14,
     "metadata": {},
     "output_type": "execute_result"
    }
   ],
   "source": [
    "#e to the power of x\n",
    "expo = np.exp(x)\n",
    "\n",
    "expo"
   ]
  },
  {
   "cell_type": "code",
   "execution_count": 16,
   "id": "095605d6",
   "metadata": {},
   "outputs": [
    {
     "data": {
      "text/plain": [
       "array([2.        , 3.        , 3.74165739, 4.35889894, 4.89897949,\n",
       "       5.38516481])"
      ]
     },
     "execution_count": 16,
     "metadata": {},
     "output_type": "execute_result"
    }
   ],
   "source": [
    "sqrt = np.sqrt(x)\n",
    "sqrt"
   ]
  },
  {
   "cell_type": "code",
   "execution_count": 17,
   "id": "042a1941",
   "metadata": {},
   "outputs": [
    {
     "data": {
      "text/plain": [
       "16.5"
      ]
     },
     "execution_count": 17,
     "metadata": {},
     "output_type": "execute_result"
    }
   ],
   "source": [
    "np.median(x)"
   ]
  },
  {
   "cell_type": "code",
   "execution_count": 21,
   "id": "089344ed",
   "metadata": {},
   "outputs": [],
   "source": [
    "float_values = np.genfromtxt('datasets/float_values.csv', delimiter=',')"
   ]
  },
  {
   "cell_type": "code",
   "execution_count": 22,
   "id": "c9e248f9",
   "metadata": {},
   "outputs": [
    {
     "data": {
      "text/plain": [
       "array([0.26037059, 0.90514556, 0.53929637, ..., 0.90960463, 0.08013759,\n",
       "       0.17109204])"
      ]
     },
     "execution_count": 22,
     "metadata": {},
     "output_type": "execute_result"
    }
   ],
   "source": [
    "float_values"
   ]
  },
  {
   "cell_type": "code",
   "execution_count": 23,
   "id": "394e5363",
   "metadata": {},
   "outputs": [
    {
     "data": {
      "text/plain": [
       "(5999,)"
      ]
     },
     "execution_count": 23,
     "metadata": {},
     "output_type": "execute_result"
    }
   ],
   "source": [
    "float_values.shape"
   ]
  },
  {
   "cell_type": "code",
   "execution_count": 24,
   "id": "32a2c1fc",
   "metadata": {},
   "outputs": [
    {
     "data": {
      "text/plain": [
       "0.48848748467464576"
      ]
     },
     "execution_count": 24,
     "metadata": {},
     "output_type": "execute_result"
    }
   ],
   "source": [
    "np.mean(float_values)"
   ]
  },
  {
   "cell_type": "code",
   "execution_count": 25,
   "id": "df113cbb",
   "metadata": {},
   "outputs": [
    {
     "data": {
      "text/plain": [
       "0.2891852572545287"
      ]
     },
     "execution_count": 25,
     "metadata": {},
     "output_type": "execute_result"
    }
   ],
   "source": [
    "np.std(float_values)"
   ]
  },
  {
   "cell_type": "code",
   "execution_count": null,
   "id": "e0f5e9a9",
   "metadata": {},
   "outputs": [],
   "source": []
  }
 ],
 "metadata": {
  "kernelspec": {
   "display_name": "Python 3 (ipykernel)",
   "language": "python",
   "name": "python3"
  },
  "language_info": {
   "codemirror_mode": {
    "name": "ipython",
    "version": 3
   },
   "file_extension": ".py",
   "mimetype": "text/x-python",
   "name": "python",
   "nbconvert_exporter": "python",
   "pygments_lexer": "ipython3",
   "version": "3.11.3"
  }
 },
 "nbformat": 4,
 "nbformat_minor": 5
}
