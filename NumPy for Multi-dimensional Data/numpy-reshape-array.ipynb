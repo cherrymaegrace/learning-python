{
 "cells": [
  {
   "cell_type": "code",
   "execution_count": 1,
   "id": "4653fd51",
   "metadata": {},
   "outputs": [],
   "source": [
    "import numpy as np"
   ]
  },
  {
   "cell_type": "code",
   "execution_count": 2,
   "id": "c0b009fc",
   "metadata": {},
   "outputs": [
    {
     "data": {
      "text/plain": [
       "array([['IBM', 'Apple Inc.', 'Intel', 'Dell', 'Microsoft'],\n",
       "       ['New York', 'California', 'California', 'Texas', 'Washington']],\n",
       "      dtype='<U10')"
      ]
     },
     "execution_count": 2,
     "metadata": {},
     "output_type": "execute_result"
    }
   ],
   "source": [
    "tech_companies = np.array([(\"IBM\", \"Apple Inc.\", \"Intel\", \"Dell\", \"Microsoft\"),\n",
    "                          (\"New York\", \"California\", \"California\", \"Texas\", \"Washington\")])\n",
    "\n",
    "tech_companies"
   ]
  },
  {
   "cell_type": "code",
   "execution_count": 3,
   "id": "623c0ab5",
   "metadata": {},
   "outputs": [
    {
     "data": {
      "text/plain": [
       "(2, 5)"
      ]
     },
     "execution_count": 3,
     "metadata": {},
     "output_type": "execute_result"
    }
   ],
   "source": [
    "tech_companies.shape"
   ]
  },
  {
   "cell_type": "code",
   "execution_count": 4,
   "id": "90002b19",
   "metadata": {},
   "outputs": [
    {
     "data": {
      "text/plain": [
       "array(['IBM', 'Apple Inc.', 'Intel', 'Dell', 'Microsoft', 'New York',\n",
       "       'California', 'California', 'Texas', 'Washington'], dtype='<U10')"
      ]
     },
     "execution_count": 4,
     "metadata": {},
     "output_type": "execute_result"
    }
   ],
   "source": [
    "tech_companies.ravel()"
   ]
  },
  {
   "cell_type": "code",
   "execution_count": 5,
   "id": "fb354ad7",
   "metadata": {},
   "outputs": [
    {
     "data": {
      "text/plain": [
       "array([['IBM', 'New York'],\n",
       "       ['Apple Inc.', 'California'],\n",
       "       ['Intel', 'California'],\n",
       "       ['Dell', 'Texas'],\n",
       "       ['Microsoft', 'Washington']], dtype='<U10')"
      ]
     },
     "execution_count": 5,
     "metadata": {},
     "output_type": "execute_result"
    }
   ],
   "source": [
    "#transpose\n",
    "tech_companies.T"
   ]
  },
  {
   "cell_type": "code",
   "execution_count": 6,
   "id": "7436302c",
   "metadata": {},
   "outputs": [
    {
     "data": {
      "text/plain": [
       "array(['IBM', 'New York', 'Apple Inc.', 'California', 'Intel',\n",
       "       'California', 'Dell', 'Texas', 'Microsoft', 'Washington'],\n",
       "      dtype='<U10')"
      ]
     },
     "execution_count": 6,
     "metadata": {},
     "output_type": "execute_result"
    }
   ],
   "source": [
    "tech_companies.T.ravel()"
   ]
  },
  {
   "cell_type": "code",
   "execution_count": 7,
   "id": "671ec811",
   "metadata": {},
   "outputs": [
    {
     "data": {
      "text/plain": [
       "array([['IBM', 'New York'],\n",
       "       ['Apple Inc.', 'California'],\n",
       "       ['Intel', 'California'],\n",
       "       ['Dell', 'Texas'],\n",
       "       ['Microsoft', 'Washington']], dtype='<U10')"
      ]
     },
     "execution_count": 7,
     "metadata": {},
     "output_type": "execute_result"
    }
   ],
   "source": [
    "tech_companies.T.ravel().reshape(5,2)"
   ]
  },
  {
   "cell_type": "code",
   "execution_count": null,
   "id": "59ce7d02",
   "metadata": {},
   "outputs": [],
   "source": []
  }
 ],
 "metadata": {
  "kernelspec": {
   "display_name": "Python 3 (ipykernel)",
   "language": "python",
   "name": "python3"
  },
  "language_info": {
   "codemirror_mode": {
    "name": "ipython",
    "version": 3
   },
   "file_extension": ".py",
   "mimetype": "text/x-python",
   "name": "python",
   "nbconvert_exporter": "python",
   "pygments_lexer": "ipython3",
   "version": "3.11.3"
  }
 },
 "nbformat": 4,
 "nbformat_minor": 5
}
