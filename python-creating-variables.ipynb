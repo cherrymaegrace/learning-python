{
 "cells": [
  {
   "cell_type": "markdown",
   "id": "d0eaaeb1",
   "metadata": {},
   "source": [
    "### Variables\n",
    "\n",
    "Variables are containers for any value.\n",
    "\n",
    "User can always update the value that the variables hold.\n",
    "\n",
    "Variables are assigned using `=` sign.\n",
    "\n",
    "Characters allowed in variable names: A-Z, a-z, 0-9, _\n",
    "Variable names should start with letters and _ only."
   ]
  },
  {
   "cell_type": "code",
   "execution_count": 5,
   "id": "873320f4",
   "metadata": {},
   "outputs": [],
   "source": [
    "salary = 24000"
   ]
  },
  {
   "cell_type": "code",
   "execution_count": 4,
   "id": "310f7aaf",
   "metadata": {},
   "outputs": [],
   "source": [
    "house_rent = 10000\n",
    "\n",
    "food_exp = 5000"
   ]
  },
  {
   "cell_type": "code",
   "execution_count": 6,
   "id": "b703f138",
   "metadata": {},
   "outputs": [
    {
     "data": {
      "text/plain": [
       "15000"
      ]
     },
     "execution_count": 6,
     "metadata": {},
     "output_type": "execute_result"
    }
   ],
   "source": [
    "total_expense = house_rent + food_exp\n",
    "\n",
    "total_expense"
   ]
  },
  {
   "cell_type": "code",
   "execution_count": 7,
   "id": "ae2937c1",
   "metadata": {},
   "outputs": [
    {
     "data": {
      "text/plain": [
       "9000"
      ]
     },
     "execution_count": 7,
     "metadata": {},
     "output_type": "execute_result"
    }
   ],
   "source": [
    "savings = salary - total_expense\n",
    "\n",
    "savings"
   ]
  },
  {
   "cell_type": "code",
   "execution_count": 8,
   "id": "c8a67dea",
   "metadata": {},
   "outputs": [
    {
     "name": "stdout",
     "output_type": "stream",
     "text": [
      "My savings in a year is:  9000\n"
     ]
    }
   ],
   "source": [
    "print(\"My savings in a year is: \", savings)"
   ]
  },
  {
   "cell_type": "code",
   "execution_count": 9,
   "id": "931e80d0",
   "metadata": {},
   "outputs": [],
   "source": [
    "course_fee = 299\n",
    "num_of_months = 6"
   ]
  },
  {
   "cell_type": "code",
   "execution_count": 10,
   "id": "7f0d9bf4",
   "metadata": {},
   "outputs": [
    {
     "name": "stdout",
     "output_type": "stream",
     "text": [
      "1794\n"
     ]
    }
   ],
   "source": [
    "total_fee = course_fee * num_of_months\n",
    "print(total_fee)"
   ]
  },
  {
   "cell_type": "code",
   "execution_count": 11,
   "id": "87d74cd7",
   "metadata": {},
   "outputs": [
    {
     "name": "stdout",
     "output_type": "stream",
     "text": [
      "4\n"
     ]
    }
   ],
   "source": [
    "num_1 = 2\n",
    "num_2 = 2\n",
    "\n",
    "print(num_1+num_2)"
   ]
  },
  {
   "cell_type": "code",
   "execution_count": 13,
   "id": "32fbb3ba",
   "metadata": {},
   "outputs": [
    {
     "name": "stdout",
     "output_type": "stream",
     "text": [
      "4\n"
     ]
    }
   ],
   "source": [
    "total = num_1 + num_2\n",
    "print(total)"
   ]
  },
  {
   "cell_type": "markdown",
   "id": "9fb081d7",
   "metadata": {},
   "source": [
    "### Logical operators: and, or, not\n",
    "\n",
    "Using the logical operator keywords will always evaluate boolean values."
   ]
  },
  {
   "cell_type": "code",
   "execution_count": 16,
   "id": "2c8b7748",
   "metadata": {},
   "outputs": [],
   "source": [
    "x = True\n",
    "y = False"
   ]
  },
  {
   "cell_type": "code",
   "execution_count": 18,
   "id": "ad819c47",
   "metadata": {},
   "outputs": [
    {
     "name": "stdout",
     "output_type": "stream",
     "text": [
      "x and y is:  False\n"
     ]
    }
   ],
   "source": [
    "print('x and y is: ', x and y)"
   ]
  },
  {
   "cell_type": "code",
   "execution_count": 19,
   "id": "5fb997ae",
   "metadata": {},
   "outputs": [
    {
     "name": "stdout",
     "output_type": "stream",
     "text": [
      "x and y is:  True\n"
     ]
    }
   ],
   "source": [
    "print('x and y is: ', x or y)"
   ]
  },
  {
   "cell_type": "code",
   "execution_count": 20,
   "id": "65311412",
   "metadata": {},
   "outputs": [
    {
     "name": "stdout",
     "output_type": "stream",
     "text": [
      "not x is:  False\n"
     ]
    }
   ],
   "source": [
    "print('not x is: ', not x)"
   ]
  },
  {
   "cell_type": "code",
   "execution_count": 21,
   "id": "3bb4f7d0",
   "metadata": {},
   "outputs": [
    {
     "data": {
      "text/plain": [
       "'awesome'"
      ]
     },
     "execution_count": 21,
     "metadata": {},
     "output_type": "execute_result"
    }
   ],
   "source": [
    "x = 'awesome'\n",
    "x"
   ]
  },
  {
   "cell_type": "code",
   "execution_count": 24,
   "id": "095c2a86",
   "metadata": {},
   "outputs": [
    {
     "name": "stdout",
     "output_type": "stream",
     "text": [
      "Python is awesome\n"
     ]
    }
   ],
   "source": [
    "print('Python is ' + x)"
   ]
  },
  {
   "cell_type": "code",
   "execution_count": 27,
   "id": "30a40f15",
   "metadata": {},
   "outputs": [
    {
     "name": "stdout",
     "output_type": "stream",
     "text": [
      "Python is awesome \n"
     ]
    }
   ],
   "source": [
    "x = \"Python is \"\n",
    "y = \"awesome \"\n",
    "\n",
    "z = x + y\n",
    "\n",
    "print(z)"
   ]
  },
  {
   "cell_type": "code",
   "execution_count": 28,
   "id": "4a2e6919",
   "metadata": {},
   "outputs": [
    {
     "name": "stdout",
     "output_type": "stream",
     "text": [
      "Python is awesome Python is awesome Python is awesome Python is awesome \n"
     ]
    }
   ],
   "source": [
    "a = z * 4\n",
    "\n",
    "print(a)"
   ]
  },
  {
   "cell_type": "code",
   "execution_count": 29,
   "id": "75895bcb",
   "metadata": {},
   "outputs": [
    {
     "data": {
      "text/plain": [
       "10"
      ]
     },
     "execution_count": 29,
     "metadata": {},
     "output_type": "execute_result"
    }
   ],
   "source": [
    "len(x)"
   ]
  },
  {
   "cell_type": "markdown",
   "id": "71134e7f",
   "metadata": {},
   "source": [
    "Assigning values to variables are evaluated from right to left.\n",
    "\n",
    "`x = y = z = 'Python'`\n",
    "\n",
    "Python is assigned to z.\n",
    "\n",
    "z is assigned to y.\n",
    "\n",
    "y is assigned to x."
   ]
  },
  {
   "cell_type": "code",
   "execution_count": 30,
   "id": "7951e1f2",
   "metadata": {},
   "outputs": [
    {
     "name": "stdout",
     "output_type": "stream",
     "text": [
      "Python\n",
      "Python\n",
      "Python\n"
     ]
    }
   ],
   "source": [
    "x = y = z = 'Python'\n",
    "\n",
    "print(x)\n",
    "print(y)\n",
    "print(z)"
   ]
  },
  {
   "cell_type": "code",
   "execution_count": 31,
   "id": "05a0acc4",
   "metadata": {},
   "outputs": [
    {
     "data": {
      "text/plain": [
       "'PythonPython'"
      ]
     },
     "execution_count": 31,
     "metadata": {},
     "output_type": "execute_result"
    }
   ],
   "source": [
    "b = x + y\n",
    "b"
   ]
  },
  {
   "cell_type": "markdown",
   "id": "c1db5ed4",
   "metadata": {},
   "source": [
    "### Comparison operators\n",
    "\n",
    "Comparison operators always result to boolean values."
   ]
  },
  {
   "cell_type": "code",
   "execution_count": 32,
   "id": "37bcd263",
   "metadata": {},
   "outputs": [
    {
     "name": "stdout",
     "output_type": "stream",
     "text": [
      "True\n"
     ]
    }
   ],
   "source": [
    "x = y==z\n",
    "\n",
    "print(x)"
   ]
  },
  {
   "cell_type": "markdown",
   "id": "77197148",
   "metadata": {},
   "source": [
    "Commas can also be used to separate assignment of values to variables accordingly."
   ]
  },
  {
   "cell_type": "code",
   "execution_count": 33,
   "id": "22f37a59",
   "metadata": {},
   "outputs": [
    {
     "name": "stdout",
     "output_type": "stream",
     "text": [
      "5\n",
      "3.2\n",
      "Hello\n"
     ]
    }
   ],
   "source": [
    "a, b, c = 5, 3.2, \"Hello\"\n",
    "\n",
    "print(a)\n",
    "print(b)\n",
    "print(c)"
   ]
  },
  {
   "cell_type": "code",
   "execution_count": 34,
   "id": "77b3f98b",
   "metadata": {},
   "outputs": [],
   "source": [
    "n1 = 34\n",
    "n2 = 34.5\n",
    "n3 = 100"
   ]
  },
  {
   "cell_type": "code",
   "execution_count": 35,
   "id": "3447c145",
   "metadata": {},
   "outputs": [],
   "source": [
    "s1 = 'Hello'\n",
    "s2 = 'World'"
   ]
  },
  {
   "cell_type": "code",
   "execution_count": 36,
   "id": "b917e55b",
   "metadata": {},
   "outputs": [
    {
     "data": {
      "text/plain": [
       "168.5"
      ]
     },
     "execution_count": 36,
     "metadata": {},
     "output_type": "execute_result"
    }
   ],
   "source": [
    "total_n = n1 + n2 + n3\n",
    "total_n"
   ]
  },
  {
   "cell_type": "code",
   "execution_count": 38,
   "id": "04813ea1",
   "metadata": {},
   "outputs": [
    {
     "data": {
      "text/plain": [
       "36"
      ]
     },
     "execution_count": 38,
     "metadata": {},
     "output_type": "execute_result"
    }
   ],
   "source": [
    "n1 = n1 + 1\n",
    "\n",
    "n1"
   ]
  },
  {
   "cell_type": "code",
   "execution_count": 39,
   "id": "d03fc82f",
   "metadata": {},
   "outputs": [],
   "source": [
    "n1 += n1 + 1"
   ]
  },
  {
   "cell_type": "code",
   "execution_count": 40,
   "id": "3bbad449",
   "metadata": {},
   "outputs": [
    {
     "data": {
      "text/plain": [
       "73"
      ]
     },
     "execution_count": 40,
     "metadata": {},
     "output_type": "execute_result"
    }
   ],
   "source": [
    "n1"
   ]
  },
  {
   "cell_type": "code",
   "execution_count": 41,
   "id": "418b7d9f",
   "metadata": {},
   "outputs": [],
   "source": [
    "n2 += 10"
   ]
  },
  {
   "cell_type": "code",
   "execution_count": 42,
   "id": "1d21d6e4",
   "metadata": {},
   "outputs": [
    {
     "data": {
      "text/plain": [
       "44.5"
      ]
     },
     "execution_count": 42,
     "metadata": {},
     "output_type": "execute_result"
    }
   ],
   "source": [
    "n2"
   ]
  },
  {
   "cell_type": "code",
   "execution_count": 43,
   "id": "d6e7f6f5",
   "metadata": {},
   "outputs": [
    {
     "data": {
      "text/plain": [
       "5000"
      ]
     },
     "execution_count": 43,
     "metadata": {},
     "output_type": "execute_result"
    }
   ],
   "source": [
    "n3 *= 50 \n",
    "n3"
   ]
  },
  {
   "cell_type": "code",
   "execution_count": null,
   "id": "e86f2a7f",
   "metadata": {},
   "outputs": [],
   "source": []
  }
 ],
 "metadata": {
  "kernelspec": {
   "display_name": "Python 3 (ipykernel)",
   "language": "python",
   "name": "python3"
  },
  "language_info": {
   "codemirror_mode": {
    "name": "ipython",
    "version": 3
   },
   "file_extension": ".py",
   "mimetype": "text/x-python",
   "name": "python",
   "nbconvert_exporter": "python",
   "pygments_lexer": "ipython3",
   "version": "3.9.12"
  }
 },
 "nbformat": 4,
 "nbformat_minor": 5
}
