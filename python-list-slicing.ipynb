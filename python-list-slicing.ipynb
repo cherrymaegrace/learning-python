{
 "cells": [
  {
   "cell_type": "markdown",
   "id": "b66f0fa7",
   "metadata": {},
   "source": [
    "## Slicing Operations with Lists\n",
    "\n",
    "Slicing - accessing a range of elements in a list; creates a new list with the range specified\n",
    "\n",
    "`list_name[start_index:end_index]`\n",
    "start_index - inclusive; when omitted will default to 0\n",
    "end_index - exclusive; when omitted will default to last index\n",
    "\n",
    "`list_name[start_index:end_index:step_size]`\n",
    "step_size - number of elements to step over when accessing the list\n",
    "\n",
    "### in command\n",
    "The `in` statement lets you check if an element is present in a list "
   ]
  },
  {
   "cell_type": "code",
   "execution_count": 1,
   "id": "913c60ee",
   "metadata": {},
   "outputs": [
    {
     "data": {
      "text/plain": [
       "['Toyota Corolla',\n",
       " 'Toyota Camry',\n",
       " 'Nissan Altima',\n",
       " 'Kia Soul',\n",
       " 'Kia Optima',\n",
       " 'Honda Civic']"
      ]
     },
     "execution_count": 1,
     "metadata": {},
     "output_type": "execute_result"
    }
   ],
   "source": [
    "my_car_list = ['Toyota Corolla', 'Toyota Camry', 'Nissan Altima', 'Kia Soul', 'Kia Optima', 'Honda Civic']\n",
    "my_car_list"
   ]
  },
  {
   "cell_type": "code",
   "execution_count": 2,
   "id": "0e09e9d3",
   "metadata": {},
   "outputs": [
    {
     "data": {
      "text/plain": [
       "6"
      ]
     },
     "execution_count": 2,
     "metadata": {},
     "output_type": "execute_result"
    }
   ],
   "source": [
    "len(my_car_list)"
   ]
  },
  {
   "cell_type": "code",
   "execution_count": 4,
   "id": "f9912f9c",
   "metadata": {},
   "outputs": [
    {
     "data": {
      "text/plain": [
       "['Toyota Corolla']"
      ]
     },
     "execution_count": 4,
     "metadata": {},
     "output_type": "execute_result"
    }
   ],
   "source": [
    "my_car_list[0:1]"
   ]
  },
  {
   "cell_type": "code",
   "execution_count": 6,
   "id": "1f81f5db",
   "metadata": {},
   "outputs": [
    {
     "data": {
      "text/plain": [
       "['Kia Soul', 'Kia Optima']"
      ]
     },
     "execution_count": 6,
     "metadata": {},
     "output_type": "execute_result"
    }
   ],
   "source": [
    "my_car_list[3:5]"
   ]
  },
  {
   "cell_type": "code",
   "execution_count": 9,
   "id": "0699b03d",
   "metadata": {},
   "outputs": [
    {
     "data": {
      "text/plain": [
       "['Kia Soul', 'Kia Optima']"
      ]
     },
     "execution_count": 9,
     "metadata": {},
     "output_type": "execute_result"
    }
   ],
   "source": [
    "my_car_list[-3:-1]"
   ]
  },
  {
   "cell_type": "code",
   "execution_count": 10,
   "id": "182c8cd8",
   "metadata": {},
   "outputs": [
    {
     "data": {
      "text/plain": [
       "['Toyota Corolla', 'Nissan Altima', 'Kia Optima']"
      ]
     },
     "execution_count": 10,
     "metadata": {},
     "output_type": "execute_result"
    }
   ],
   "source": [
    "my_car_list[0:5:2]"
   ]
  },
  {
   "cell_type": "code",
   "execution_count": 11,
   "id": "793d22c6",
   "metadata": {},
   "outputs": [
    {
     "data": {
      "text/plain": [
       "['Toyota Corolla', 'Nissan Altima', 'Kia Optima']"
      ]
     },
     "execution_count": 11,
     "metadata": {},
     "output_type": "execute_result"
    }
   ],
   "source": [
    "my_car_list[::2]"
   ]
  },
  {
   "cell_type": "code",
   "execution_count": 12,
   "id": "403eb6d4",
   "metadata": {},
   "outputs": [
    {
     "data": {
      "text/plain": [
       "['Honda Civic',\n",
       " 'Kia Optima',\n",
       " 'Kia Soul',\n",
       " 'Nissan Altima',\n",
       " 'Toyota Camry',\n",
       " 'Toyota Corolla']"
      ]
     },
     "execution_count": 12,
     "metadata": {},
     "output_type": "execute_result"
    }
   ],
   "source": [
    "my_car_list[::-1]"
   ]
  },
  {
   "cell_type": "code",
   "execution_count": 13,
   "id": "4b07afbe",
   "metadata": {},
   "outputs": [
    {
     "data": {
      "text/plain": [
       "['Toyota Corolla',\n",
       " 'Toyota Camry',\n",
       " 'Nissan Altima',\n",
       " 'Kia Soul',\n",
       " 'Kia Optima',\n",
       " 'Honda Civic',\n",
       " 'Ford Focus',\n",
       " 'Dodge Charger']"
      ]
     },
     "execution_count": 13,
     "metadata": {},
     "output_type": "execute_result"
    }
   ],
   "source": [
    "my_car_list[6:-1] = [\"Ford Focus\", \"Dodge Charger\"]\n",
    "my_car_list"
   ]
  },
  {
   "cell_type": "code",
   "execution_count": 14,
   "id": "90f513b1",
   "metadata": {},
   "outputs": [
    {
     "data": {
      "text/plain": [
       "True"
      ]
     },
     "execution_count": 14,
     "metadata": {},
     "output_type": "execute_result"
    }
   ],
   "source": [
    "'Ford Focus' in my_car_list"
   ]
  },
  {
   "cell_type": "code",
   "execution_count": 15,
   "id": "45b06e50",
   "metadata": {},
   "outputs": [
    {
     "data": {
      "text/plain": [
       "['Toyota Corolla',\n",
       " 'Toyota Camry',\n",
       " 'Nissan Altima',\n",
       " 'Kia Soul',\n",
       " 'Kia Optima',\n",
       " 'Honda Civic',\n",
       " 'Dodge Charger']"
      ]
     },
     "execution_count": 15,
     "metadata": {},
     "output_type": "execute_result"
    }
   ],
   "source": [
    "my_car_list.pop(-2)\n",
    "my_car_list"
   ]
  },
  {
   "cell_type": "code",
   "execution_count": null,
   "id": "9c2bd374",
   "metadata": {},
   "outputs": [],
   "source": []
  }
 ],
 "metadata": {
  "kernelspec": {
   "display_name": "Python 3 (ipykernel)",
   "language": "python",
   "name": "python3"
  },
  "language_info": {
   "codemirror_mode": {
    "name": "ipython",
    "version": 3
   },
   "file_extension": ".py",
   "mimetype": "text/x-python",
   "name": "python",
   "nbconvert_exporter": "python",
   "pygments_lexer": "ipython3",
   "version": "3.9.12"
  }
 },
 "nbformat": 4,
 "nbformat_minor": 5
}
